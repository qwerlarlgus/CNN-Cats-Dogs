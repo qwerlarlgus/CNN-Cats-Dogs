{
  "nbformat": 4,
  "nbformat_minor": 0,
  "metadata": {
    "colab": {
      "name": "2-dropout-batchnorm-cnn.ipynb",
      "provenance": [],
      "toc_visible": true,
      "mount_file_id": "https://github.com/qwerlarlgus/CNN-Cats-Dogs/blob/main/2_dropout_batchnorm_cnn1.ipynb",
      "authorship_tag": "ABX9TyMPwbObU70SDSO64b/A/9ck",
      "include_colab_link": true
    },
    "kernelspec": {
      "name": "python3",
      "display_name": "Python 3"
    }
  },
  "cells": [
    {
      "cell_type": "markdown",
      "metadata": {
        "id": "view-in-github",
        "colab_type": "text"
      },
      "source": [
        "<a href=\"https://colab.research.google.com/github/qwerlarlgus/CNN-Cats-Dogs/blob/main/2_dropout_batchnorm_cnn.ipynb\" target=\"_parent\"><img src=\"https://colab.research.google.com/assets/colab-badge.svg\" alt=\"Open In Colab\"/></a>"
      ]
    },
    {
      "cell_type": "code",
      "metadata": {
        "id": "FKRc2pTYE6WX"
      },
      "source": [
        "%matplotlib inline"
      ],
      "execution_count": null,
      "outputs": []
    },
    {
      "cell_type": "code",
      "metadata": {
        "colab": {
          "base_uri": "https://localhost:8080/"
        },
        "id": "GjFiphc8TFXz",
        "outputId": "92d70280-fa82-4dfd-b6e9-44a52c0b7893"
      },
      "source": [
        "!ls -l"
      ],
      "execution_count": null,
      "outputs": [
        {
          "output_type": "stream",
          "text": [
            "total 111584\n",
            "drwx------ 4 root root      4096 Jan 22 05:41 drive\n",
            "drwxr-xr-x 1 root root      4096 Jan 20 17:27 sample_data\n",
            "-rw------- 1 root root 114250866 Jan 21 04:51 training_data.zip\n"
          ],
          "name": "stdout"
        }
      ]
    },
    {
      "cell_type": "code",
      "metadata": {
        "id": "xDnvHfxUhfIF",
        "colab": {
          "base_uri": "https://localhost:8080/"
        },
        "outputId": "ba8d75d7-f4a4-4b29-a16c-15be7ee43779"
      },
      "source": [
        "!cp ./drive/MyDrive/training_data.zip ."
      ],
      "execution_count": null,
      "outputs": [
        {
          "output_type": "stream",
          "text": [
            "cp: cannot stat './drive/MyDrive/training_data.zip': No such file or directory\n"
          ],
          "name": "stdout"
        }
      ]
    },
    {
      "cell_type": "code",
      "metadata": {
        "id": "LuH5s-ueFqgO"
      },
      "source": [
        "!unzip training_data.zip"
      ],
      "execution_count": null,
      "outputs": []
    },
    {
      "cell_type": "code",
      "metadata": {
        "id": "LymXXKhtE6Wu"
      },
      "source": [
        "import glob\n",
        "import numpy as np\n",
        "import matplotlib.pyplot as plt\n",
        "from tensorflow.keras.preprocessing.image import ImageDataGenerator, load_img, img_to_array, array_to_img"
      ],
      "execution_count": null,
      "outputs": []
    },
    {
      "cell_type": "code",
      "metadata": {
        "colab": {
          "base_uri": "https://localhost:8080/"
        },
        "id": "5LXg_kDaE6Wx",
        "outputId": "55b38273-b833-460b-ef12-10bee251e5a4"
      },
      "source": [
        "IMG_DIM = (50, 50)\n",
        "\n",
        "train_files = glob.glob('training_data/*')\n",
        "train_imgs = [img_to_array(load_img(img, target_size=IMG_DIM)) for img in train_files]\n",
        "train_imgs = np.array(train_imgs)\n",
        "train_labels = [fn.split('/')[1].split('.')[0].strip() for fn in train_files]\n",
        "\n",
        "validation_files = glob.glob('validation_data/*')\n",
        "validation_imgs = [img_to_array(load_img(img, target_size=IMG_DIM)) for img in validation_files]\n",
        "validation_imgs = np.array(validation_imgs)\n",
        "validation_labels = [fn.split('/')[1].split('.')[0].strip() for fn in validation_files]\n",
        "\n",
        "print('Train dataset shape:', train_imgs.shape, \n",
        "      '\\tValidation dataset shape:', validation_imgs.shape)"
      ],
      "execution_count": null,
      "outputs": [
        {
          "output_type": "stream",
          "text": [
            "Train dataset shape: (3000, 50, 50, 3) \tValidation dataset shape: (1000, 50, 50, 3)\n"
          ],
          "name": "stdout"
        }
      ]
    },
    {
      "cell_type": "code",
      "metadata": {
        "id": "KpGYIMjWE6Wz"
      },
      "source": [
        "train_imgs_scaled = train_imgs.astype('float32')\n",
        "validation_imgs_scaled  = validation_imgs.astype('float32')\n",
        "train_imgs_scaled /= 255\n",
        "validation_imgs_scaled /= 255"
      ],
      "execution_count": null,
      "outputs": []
    },
    {
      "cell_type": "code",
      "metadata": {
        "colab": {
          "base_uri": "https://localhost:8080/",
          "height": 85
        },
        "id": "rdBdehU4E6W0",
        "outputId": "6acb6c98-a098-4c03-ae92-0e18d45d9337"
      },
      "source": [
        "print(train_imgs[90].shape)\n",
        "array_to_img(train_imgs[90])"
      ],
      "execution_count": null,
      "outputs": [
        {
          "output_type": "stream",
          "text": [
            "(50, 50, 3)\n"
          ],
          "name": "stdout"
        },
        {
          "output_type": "execute_result",
          "data": {
            "image/png": "[encoded data removed]",
            "text/plain": [
              "<PIL.Image.Image image mode=RGB size=50x50 at 0x7FDF9D7264A8>"
            ]
          },
          "metadata": {
            "tags": []
          },
          "execution_count": 20
        }
      ]
    },
    {
      "cell_type": "code",
      "metadata": {
        "colab": {
          "base_uri": "https://localhost:8080/"
        },
        "id": "pYXSRvl2E6W1",
        "outputId": "20f02ca8-1a43-46bc-c2c4-602978693aeb"
      },
      "source": [
        "batch_size = 50\n",
        "num_classes = 2\n",
        "epochs = 50\n",
        "input_shape = (50, 50, 3)\n",
        "\n",
        "# encode text category labels\n",
        "from sklearn.preprocessing import LabelEncoder\n",
        "\n",
        "le = LabelEncoder()\n",
        "le.fit(train_labels)\n",
        "train_labels_enc = le.transform(train_labels)\n",
        "validation_labels_enc = le.transform(validation_labels)\n",
        "\n",
        "print(train_labels[1495:1505], train_labels_enc[1495:1505])"
      ],
      "execution_count": null,
      "outputs": [
        {
          "output_type": "stream",
          "text": [
            "['cat', 'cat', 'dog', 'cat', 'dog', 'dog', 'dog', 'cat', 'dog', 'dog'] [0 0 1 0 1 1 1 0 1 1]\n"
          ],
          "name": "stdout"
        }
      ]
    },
    {
      "cell_type": "code",
      "metadata": {
        "id": "AhTKc-35E6W3"
      },
      "source": [
        "from tensorflow.keras.layers import Conv2D, MaxPooling2D, Flatten, Dense, Dropout, BatchNormalization \n",
        "from tensorflow.keras.models import Sequential\n",
        "from tensorflow.keras import optimizers"
      ],
      "execution_count": null,
      "outputs": []
    },
    {
      "cell_type": "markdown",
      "metadata": {
        "id": "uu6j2m8IE6W4"
      },
      "source": [
        "### Model Case I "
      ]
    },
    {
      "cell_type": "code",
      "metadata": {
        "id": "AlAkT0L6E6W5"
      },
      "source": [
        "model = Sequential()\n",
        "\n",
        "model.add(Conv2D(16, kernel_size=(3, 3), activation='relu', padding=\"same\",\n",
        "                 input_shape=input_shape))\n",
        "model.add(MaxPooling2D(pool_size=(2, 2)))\n",
        "\n",
        "model.add(Conv2D(64, kernel_size=(3, 3), activation='relu', padding=\"same\"))\n",
        "model.add(MaxPooling2D(pool_size=(2, 2)))\n",
        "\n",
        "model.add(Conv2D(128, kernel_size=(3, 3), activation='relu', padding=\"same\"))\n",
        "model.add(MaxPooling2D(pool_size=(2, 2)))\n",
        "\n",
        "model.add(Flatten())\n",
        "model.add(Dense(512, activation='relu'))\n",
        "model.add(Dense(1, activation='sigmoid'))"
      ],
      "execution_count": null,
      "outputs": []
    },
    {
      "cell_type": "code",
      "metadata": {
        "colab": {
          "base_uri": "https://localhost:8080/"
        },
        "id": "QoqCOiFpE6W6",
        "outputId": "62299e95-45df-4c97-c956-27fe3cb69135"
      },
      "source": [
        "model.compile(loss='binary_crossentropy',\n",
        "              optimizer= 'adam', # optimizers.RMSprop(lr=0.0001)\n",
        "              metrics=['accuracy'])\n",
        "\n",
        "model.summary()"
      ],
      "execution_count": null,
      "outputs": [
        {
          "output_type": "stream",
          "text": [
            "Model: \"sequential_2\"\n",
            "_________________________________________________________________\n",
            "Layer (type)                 Output Shape              Param #   \n",
            "=================================================================\n",
            "conv2d_6 (Conv2D)            (None, 50, 50, 16)        448       \n",
            "_________________________________________________________________\n",
            "max_pooling2d_6 (MaxPooling2 (None, 25, 25, 16)        0         \n",
            "_________________________________________________________________\n",
            "conv2d_7 (Conv2D)            (None, 25, 25, 64)        9280      \n",
            "_________________________________________________________________\n",
            "max_pooling2d_7 (MaxPooling2 (None, 12, 12, 64)        0         \n",
            "_________________________________________________________________\n",
            "conv2d_8 (Conv2D)            (None, 12, 12, 128)       73856     \n",
            "_________________________________________________________________\n",
            "max_pooling2d_8 (MaxPooling2 (None, 6, 6, 128)         0         \n",
            "_________________________________________________________________\n",
            "flatten_2 (Flatten)          (None, 4608)              0         \n",
            "_________________________________________________________________\n",
            "dense_4 (Dense)              (None, 512)               2359808   \n",
            "_________________________________________________________________\n",
            "dense_5 (Dense)              (None, 1)                 513       \n",
            "=================================================================\n",
            "Total params: 2,443,905\n",
            "Trainable params: 2,443,905\n",
            "Non-trainable params: 0\n",
            "_________________________________________________________________\n"
          ],
          "name": "stdout"
        }
      ]
    },
    {
      "cell_type": "code",
      "metadata": {
        "colab": {
          "base_uri": "https://localhost:8080/"
        },
        "id": "1Fca-9VQE6W7",
        "outputId": "73e665a3-252f-4b39-8c39-00d3e2e27cf8"
      },
      "source": [
        "history = model.fit(x=train_imgs_scaled, y=train_labels_enc,\n",
        "                    validation_data=(validation_imgs_scaled, validation_labels_enc),\n",
        "                    batch_size=batch_size,\n",
        "                    epochs=epochs,\n",
        "                    verbose=1)"
      ],
      "execution_count": null,
      "outputs": [
        {
          "output_type": "stream",
          "text": [
            "Epoch 1/50\n",
            "60/60 [==============================] - 17s 275ms/step - loss: 0.7038 - accuracy: 0.5060 - val_loss: 0.6922 - val_accuracy: 0.4990\n",
            "Epoch 2/50\n",
            "60/60 [==============================] - 14s 226ms/step - loss: 0.6598 - accuracy: 0.6036 - val_loss: 0.6178 - val_accuracy: 0.6690\n",
            "Epoch 3/50\n",
            "60/60 [==============================] - 14s 227ms/step - loss: 0.5850 - accuracy: 0.6871 - val_loss: 0.6091 - val_accuracy: 0.6820\n",
            "Epoch 4/50\n",
            "60/60 [==============================] - 14s 227ms/step - loss: 0.5349 - accuracy: 0.7290 - val_loss: 0.5853 - val_accuracy: 0.6930\n",
            "Epoch 5/50\n",
            "60/60 [==============================] - 14s 228ms/step - loss: 0.5139 - accuracy: 0.7423 - val_loss: 0.5837 - val_accuracy: 0.7270\n",
            "Epoch 6/50\n",
            "60/60 [==============================] - 14s 226ms/step - loss: 0.4788 - accuracy: 0.7722 - val_loss: 0.5604 - val_accuracy: 0.7250\n",
            "Epoch 7/50\n",
            "60/60 [==============================] - 13s 225ms/step - loss: 0.3837 - accuracy: 0.8215 - val_loss: 0.5661 - val_accuracy: 0.7170\n",
            "Epoch 8/50\n",
            "60/60 [==============================] - 14s 227ms/step - loss: 0.3450 - accuracy: 0.8629 - val_loss: 0.5970 - val_accuracy: 0.7330\n",
            "Epoch 9/50\n",
            "60/60 [==============================] - 14s 226ms/step - loss: 0.2707 - accuracy: 0.8796 - val_loss: 0.6344 - val_accuracy: 0.7360\n",
            "Epoch 10/50\n",
            "60/60 [==============================] - 14s 227ms/step - loss: 0.2197 - accuracy: 0.9200 - val_loss: 0.5915 - val_accuracy: 0.7530\n",
            "Epoch 11/50\n",
            "60/60 [==============================] - 14s 227ms/step - loss: 0.1665 - accuracy: 0.9380 - val_loss: 0.7114 - val_accuracy: 0.7450\n",
            "Epoch 12/50\n",
            "60/60 [==============================] - 14s 227ms/step - loss: 0.1007 - accuracy: 0.9726 - val_loss: 0.7506 - val_accuracy: 0.7520\n",
            "Epoch 13/50\n",
            "60/60 [==============================] - 14s 227ms/step - loss: 0.0655 - accuracy: 0.9846 - val_loss: 0.9231 - val_accuracy: 0.7140\n",
            "Epoch 14/50\n",
            "60/60 [==============================] - 14s 226ms/step - loss: 0.1133 - accuracy: 0.9642 - val_loss: 0.8862 - val_accuracy: 0.7340\n",
            "Epoch 15/50\n",
            "60/60 [==============================] - 14s 229ms/step - loss: 0.0383 - accuracy: 0.9917 - val_loss: 0.9652 - val_accuracy: 0.7330\n",
            "Epoch 16/50\n",
            "60/60 [==============================] - 14s 231ms/step - loss: 0.0259 - accuracy: 0.9952 - val_loss: 1.1343 - val_accuracy: 0.7420\n",
            "Epoch 17/50\n",
            "60/60 [==============================] - 14s 229ms/step - loss: 0.0087 - accuracy: 0.9994 - val_loss: 1.2176 - val_accuracy: 0.7500\n",
            "Epoch 18/50\n",
            "60/60 [==============================] - 14s 229ms/step - loss: 0.0028 - accuracy: 1.0000 - val_loss: 1.2667 - val_accuracy: 0.7490\n",
            "Epoch 19/50\n",
            "60/60 [==============================] - 14s 229ms/step - loss: 0.0021 - accuracy: 1.0000 - val_loss: 1.3135 - val_accuracy: 0.7520\n",
            "Epoch 20/50\n",
            "60/60 [==============================] - 14s 227ms/step - loss: 0.0015 - accuracy: 1.0000 - val_loss: 1.3701 - val_accuracy: 0.7520\n",
            "Epoch 21/50\n",
            "60/60 [==============================] - 14s 227ms/step - loss: 0.0012 - accuracy: 1.0000 - val_loss: 1.3904 - val_accuracy: 0.7510\n",
            "Epoch 22/50\n",
            "60/60 [==============================] - 14s 228ms/step - loss: 0.0011 - accuracy: 1.0000 - val_loss: 1.4331 - val_accuracy: 0.7500\n",
            "Epoch 23/50\n",
            "60/60 [==============================] - 14s 227ms/step - loss: 9.1856e-04 - accuracy: 1.0000 - val_loss: 1.4425 - val_accuracy: 0.7530\n",
            "Epoch 24/50\n",
            "60/60 [==============================] - 14s 227ms/step - loss: 7.4751e-04 - accuracy: 1.0000 - val_loss: 1.4718 - val_accuracy: 0.7530\n",
            "Epoch 25/50\n",
            "60/60 [==============================] - 14s 227ms/step - loss: 6.3542e-04 - accuracy: 1.0000 - val_loss: 1.4939 - val_accuracy: 0.7500\n",
            "Epoch 26/50\n",
            "60/60 [==============================] - 14s 227ms/step - loss: 6.1403e-04 - accuracy: 1.0000 - val_loss: 1.5088 - val_accuracy: 0.7490\n",
            "Epoch 27/50\n",
            "60/60 [==============================] - 14s 228ms/step - loss: 5.1482e-04 - accuracy: 1.0000 - val_loss: 1.5372 - val_accuracy: 0.7540\n",
            "Epoch 28/50\n",
            "60/60 [==============================] - 14s 227ms/step - loss: 4.8324e-04 - accuracy: 1.0000 - val_loss: 1.5578 - val_accuracy: 0.7520\n",
            "Epoch 29/50\n",
            "60/60 [==============================] - 14s 227ms/step - loss: 4.2258e-04 - accuracy: 1.0000 - val_loss: 1.5679 - val_accuracy: 0.7560\n",
            "Epoch 30/50\n",
            "60/60 [==============================] - 14s 228ms/step - loss: 3.4376e-04 - accuracy: 1.0000 - val_loss: 1.5832 - val_accuracy: 0.7520\n",
            "Epoch 31/50\n",
            "60/60 [==============================] - 14s 228ms/step - loss: 3.3881e-04 - accuracy: 1.0000 - val_loss: 1.6025 - val_accuracy: 0.7510\n",
            "Epoch 32/50\n",
            "60/60 [==============================] - 14s 226ms/step - loss: 3.1353e-04 - accuracy: 1.0000 - val_loss: 1.6164 - val_accuracy: 0.7540\n",
            "Epoch 33/50\n",
            "60/60 [==============================] - 14s 227ms/step - loss: 2.7473e-04 - accuracy: 1.0000 - val_loss: 1.6324 - val_accuracy: 0.7550\n",
            "Epoch 34/50\n",
            "60/60 [==============================] - 14s 227ms/step - loss: 2.5104e-04 - accuracy: 1.0000 - val_loss: 1.6441 - val_accuracy: 0.7510\n",
            "Epoch 35/50\n",
            "60/60 [==============================] - 14s 228ms/step - loss: 2.2235e-04 - accuracy: 1.0000 - val_loss: 1.6574 - val_accuracy: 0.7520\n",
            "Epoch 36/50\n",
            "60/60 [==============================] - 14s 226ms/step - loss: 2.1379e-04 - accuracy: 1.0000 - val_loss: 1.6728 - val_accuracy: 0.7540\n",
            "Epoch 37/50\n",
            "60/60 [==============================] - 14s 228ms/step - loss: 2.0128e-04 - accuracy: 1.0000 - val_loss: 1.6906 - val_accuracy: 0.7540\n",
            "Epoch 38/50\n",
            "60/60 [==============================] - 14s 228ms/step - loss: 1.7165e-04 - accuracy: 1.0000 - val_loss: 1.6957 - val_accuracy: 0.7510\n",
            "Epoch 39/50\n",
            "60/60 [==============================] - 14s 227ms/step - loss: 1.6313e-04 - accuracy: 1.0000 - val_loss: 1.7163 - val_accuracy: 0.7520\n",
            "Epoch 40/50\n",
            "60/60 [==============================] - 14s 227ms/step - loss: 1.4589e-04 - accuracy: 1.0000 - val_loss: 1.7220 - val_accuracy: 0.7530\n",
            "Epoch 41/50\n",
            "60/60 [==============================] - 14s 227ms/step - loss: 1.5193e-04 - accuracy: 1.0000 - val_loss: 1.7364 - val_accuracy: 0.7510\n",
            "Epoch 42/50\n",
            "60/60 [==============================] - 14s 226ms/step - loss: 1.2103e-04 - accuracy: 1.0000 - val_loss: 1.7496 - val_accuracy: 0.7550\n",
            "Epoch 43/50\n",
            "60/60 [==============================] - 14s 227ms/step - loss: 1.2818e-04 - accuracy: 1.0000 - val_loss: 1.7601 - val_accuracy: 0.7540\n",
            "Epoch 44/50\n",
            "60/60 [==============================] - 14s 227ms/step - loss: 1.1382e-04 - accuracy: 1.0000 - val_loss: 1.7662 - val_accuracy: 0.7510\n",
            "Epoch 45/50\n",
            "60/60 [==============================] - 16s 270ms/step - loss: 1.0116e-04 - accuracy: 1.0000 - val_loss: 1.7760 - val_accuracy: 0.7510\n",
            "Epoch 46/50\n",
            "60/60 [==============================] - 14s 227ms/step - loss: 1.0194e-04 - accuracy: 1.0000 - val_loss: 1.7903 - val_accuracy: 0.7510\n",
            "Epoch 47/50\n",
            "60/60 [==============================] - 14s 226ms/step - loss: 9.0256e-05 - accuracy: 1.0000 - val_loss: 1.7978 - val_accuracy: 0.7510\n",
            "Epoch 48/50\n",
            "60/60 [==============================] - 14s 226ms/step - loss: 9.1816e-05 - accuracy: 1.0000 - val_loss: 1.8141 - val_accuracy: 0.7510\n",
            "Epoch 49/50\n",
            "60/60 [==============================] - 14s 228ms/step - loss: 8.1797e-05 - accuracy: 1.0000 - val_loss: 1.8234 - val_accuracy: 0.7510\n",
            "Epoch 50/50\n",
            "60/60 [==============================] - 14s 227ms/step - loss: 7.3981e-05 - accuracy: 1.0000 - val_loss: 1.8320 - val_accuracy: 0.7500\n"
          ],
          "name": "stdout"
        }
      ]
    },
    {
      "cell_type": "code",
      "metadata": {
        "colab": {
          "base_uri": "https://localhost:8080/",
          "height": 308
        },
        "id": "sFC4VgL-E6W8",
        "outputId": "04c1651a-a3d0-48dc-e8ad-78e9c668cfc8"
      },
      "source": [
        "f, (ax1, ax2) = plt.subplots(1, 2, figsize=(12, 4))\n",
        "t = f.suptitle('Basic CNN Performance', fontsize=12)\n",
        "f.subplots_adjust(top=0.85, wspace=0.3)\n",
        "\n",
        "epoch_list = list(range(1,51))\n",
        "ax1.plot(epoch_list, history.history['accuracy'], label='Train Accuracy')\n",
        "ax1.plot(epoch_list, history.history['val_accuracy'], label='Validation Accuracy')\n",
        "ax1.set_xticks(np.arange(0, 51, 5))\n",
        "ax1.set_ylabel('Accuracy Value')\n",
        "ax1.set_xlabel('Epoch')\n",
        "ax1.set_title('Accuracy')\n",
        "l1 = ax1.legend(loc=\"best\")\n",
        "\n",
        "ax2.plot(epoch_list, history.history['loss'], label='Train Loss')\n",
        "ax2.plot(epoch_list, history.history['val_loss'], label='Validation Loss')\n",
        "ax2.set_xticks(np.arange(0, 51, 5))\n",
        "ax2.set_ylabel('Loss Value')\n",
        "ax2.set_xlabel('Epoch')\n",
        "ax2.set_title('Loss')\n",
        "l2 = ax2.legend(loc=\"best\")"
      ],
      "execution_count": null,
      "outputs": [
        {
          "output_type": "display_data",
          "data": {
            "image/png": "[encoded data removed]",
            "text/plain": [
              "<Figure size 864x288 with 2 Axes>"
            ]
          },
          "metadata": {
            "tags": [],
            "needs_background": "light"
          }
        }
      ]
    },
    {
      "cell_type": "code",
      "metadata": {
        "id": "e3TpE8iOE6W-"
      },
      "source": [
        "model.save('2-dropout-batchnorm-cnn.h5')"
      ],
      "execution_count": null,
      "outputs": []
    },
    {
      "cell_type": "code",
      "metadata": {
        "id": "LWak05_OFYCn",
        "colab": {
          "base_uri": "https://localhost:8080/"
        },
        "outputId": "cc9e9859-49c0-4954-ee17-bed2ed653ad0"
      },
      "source": [
        "from google.colab import drive\n",
        "drive.mount('/content/drive')"
      ],
      "execution_count": null,
      "outputs": [
        {
          "output_type": "stream",
          "text": [
            "Drive already mounted at /content/drive; to attempt to forcibly remount, call drive.mount(\"/content/drive\", force_remount=True).\n"
          ],
          "name": "stdout"
        }
      ]
    }
  ]
}
