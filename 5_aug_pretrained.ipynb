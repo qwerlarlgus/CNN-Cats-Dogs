{
  "nbformat": 4,
  "nbformat_minor": 0,
  "metadata": {
    "colab": {
      "name": "5_aug_pretrained.ipynb",
      "provenance": [],
      "authorship_tag": "ABX9TyPvgQRVZUnnDK2+lMbL22pn",
      "include_colab_link": true
    },
    "kernelspec": {
      "name": "python3",
      "display_name": "Python 3"
    }
  },
  "cells": [
    {
      "cell_type": "markdown",
      "metadata": {
        "id": "view-in-github",
        "colab_type": "text"
      },
      "source": [
        "<a href=\"https://colab.research.google.com/github/qwerlarlgus/CNN-Cats-Dogs/blob/main/5_aug_pretrained.ipynb\" target=\"_parent\"><img src=\"https://colab.research.google.com/assets/colab-badge.svg\" alt=\"Open In Colab\"/></a>"
      ]
    },
    {
      "cell_type": "code",
      "metadata": {
        "colab": {
          "base_uri": "https://localhost:8080/"
        },
        "id": "22mg_PXnCKsU",
        "outputId": "4822bc30-7cac-4326-b537-8538b02413cf"
      },
      "source": [
        "from google.colab import drive\n",
        "drive.mount('/content/drive')"
      ],
      "execution_count": null,
      "outputs": [
        {
          "output_type": "stream",
          "text": [
            "Mounted at /content/drive\n"
          ],
          "name": "stdout"
        }
      ]
    },
    {
      "cell_type": "code",
      "metadata": {
        "id": "6giq8ls1A3jN"
      },
      "source": [
        "%matplotlib inline"
      ],
      "execution_count": null,
      "outputs": []
    },
    {
      "cell_type": "code",
      "metadata": {
        "id": "B9GBtXmwA47m",
        "colab": {
          "base_uri": "https://localhost:8080/"
        },
        "outputId": "0fe5ec7d-0b6f-4d7d-832e-f5f2d94efbc5"
      },
      "source": [
        "!ls -l"
      ],
      "execution_count": null,
      "outputs": [
        {
          "output_type": "stream",
          "text": [
            "total 111588\n",
            "drwx------ 5 root root      4096 Jan 25 01:31 drive\n",
            "drwxr-xr-x 1 root root      4096 Jan 20 17:27 sample_data\n",
            "-rw------- 1 root root 114250866 Jan 21 04:51 training_data.zip\n"
          ],
          "name": "stdout"
        }
      ]
    },
    {
      "cell_type": "code",
      "metadata": {
        "id": "FWj06i8uA6OO",
        "colab": {
          "base_uri": "https://localhost:8080/"
        },
        "outputId": "5d2d1e99-754d-4fee-963f-200cf7edf947"
      },
      "source": [
        "!cp ./drive/MyDrive/training_data.zip ."
      ],
      "execution_count": null,
      "outputs": [
        {
          "output_type": "stream",
          "text": [
            "cp: cannot stat './drive/MyDrive/training_data.zip': No such file or directory\n"
          ],
          "name": "stdout"
        }
      ]
    },
    {
      "cell_type": "code",
      "metadata": {
        "id": "AEJfrotXA58E"
      },
      "source": [
        "!unzip training_data.zip\r\n"
      ],
      "execution_count": null,
      "outputs": []
    },
    {
      "cell_type": "code",
      "metadata": {
        "id": "O5M05p_pA5rd"
      },
      "source": [
        ""
      ],
      "execution_count": null,
      "outputs": []
    },
    {
      "cell_type": "code",
      "metadata": {
        "id": "KPy5I5SBA3jW"
      },
      "source": [
        "import glob\n",
        "import numpy as np\n",
        "import matplotlib.pyplot as plt\n",
        "from tensorflow.keras.preprocessing.image import ImageDataGenerator, load_img, img_to_array, array_to_img"
      ],
      "execution_count": null,
      "outputs": []
    },
    {
      "cell_type": "code",
      "metadata": {
        "id": "eZImnfGOA3jX",
        "colab": {
          "base_uri": "https://localhost:8080/"
        },
        "outputId": "5add0a91-01e9-4096-964e-50bf6af555f8"
      },
      "source": [
        "IMG_DIM = (150, 150)\n",
        "\n",
        "train_files = glob.glob('training_data/*')\n",
        "train_imgs = [img_to_array(load_img(img, target_size=IMG_DIM)) for img in train_files]\n",
        "train_imgs = np.array(train_imgs)\n",
        "train_labels = [fn.split('/')[1].split('.')[0].strip() for fn in train_files]\n",
        "\n",
        "validation_files = glob.glob('validation_data/*')\n",
        "validation_imgs = [img_to_array(load_img(img, target_size=IMG_DIM)) for img in validation_files]\n",
        "validation_imgs = np.array(validation_imgs)\n",
        "validation_labels = [fn.split('/')[1].split('.')[0].strip() for fn in validation_files]\n",
        "\n",
        "print('Train dataset shape:', train_imgs.shape, \n",
        "      '\\tValidation dataset shape:', validation_imgs.shape)"
      ],
      "execution_count": null,
      "outputs": [
        {
          "output_type": "stream",
          "text": [
            "Train dataset shape: (3000, 150, 150, 3) \tValidation dataset shape: (1000, 150, 150, 3)\n"
          ],
          "name": "stdout"
        }
      ]
    },
    {
      "cell_type": "code",
      "metadata": {
        "id": "OiDa5o60A3jX"
      },
      "source": [
        "train_imgs_scaled = train_imgs.astype('float32')\n",
        "validation_imgs_scaled = validation_imgs.astype('float32')\n",
        "train_imgs_scaled /= 255\n",
        "validation_imgs_scaled /= 255"
      ],
      "execution_count": null,
      "outputs": []
    },
    {
      "cell_type": "code",
      "metadata": {
        "id": "COLKZn79A3jY",
        "colab": {
          "base_uri": "https://localhost:8080/"
        },
        "outputId": "e87bc4c1-4f0c-4e23-e7ad-351a0eba134a"
      },
      "source": [
        "batch_size = 50\n",
        "num_classes = 2\n",
        "epochs = 100\n",
        "input_shape = (150, 150, 3)\n",
        "\n",
        "from sklearn.preprocessing import LabelEncoder\n",
        "\n",
        "le = LabelEncoder()\n",
        "le.fit(train_labels)\n",
        "# encode wine type labels\n",
        "train_labels_enc = le.transform(train_labels)\n",
        "validation_labels_enc = le.transform(validation_labels)\n",
        "\n",
        "print(train_labels[0:5], train_labels_enc[0:5])"
      ],
      "execution_count": null,
      "outputs": [
        {
          "output_type": "stream",
          "text": [
            "['cat', 'cat', 'cat', 'dog', 'cat'] [0 0 0 1 0]\n"
          ],
          "name": "stdout"
        }
      ]
    },
    {
      "cell_type": "code",
      "metadata": {
        "id": "Ieppy25xFE_N"
      },
      "source": [
        ""
      ],
      "execution_count": null,
      "outputs": []
    },
    {
      "cell_type": "code",
      "metadata": {
        "id": "j0wF41XlFEu9"
      },
      "source": [
        "train_datagen = ImageDataGenerator( zoom_range=0.3, rotation_range=50,  # rescale=1./255,\r\n",
        "                                   width_shift_range=0.2, height_shift_range=0.2, shear_range=0.2, \r\n",
        "                                   horizontal_flip=True, fill_mode='nearest')\r\n",
        "\r\n",
        "val_datagen = ImageDataGenerator() # rescale=1./255\r\n",
        "\r\n",
        "train_generator = train_datagen.flow(train_imgs, train_labels_enc, batch_size=30)\r\n",
        "val_generator = val_datagen.flow(validation_imgs, validation_labels_enc, batch_size=20)"
      ],
      "execution_count": null,
      "outputs": []
    },
    {
      "cell_type": "code",
      "metadata": {
        "id": "wDDCzCWzFEDf"
      },
      "source": [
        ""
      ],
      "execution_count": null,
      "outputs": []
    },
    {
      "cell_type": "code",
      "metadata": {
        "id": "9fVVMivMA3jZ",
        "colab": {
          "base_uri": "https://localhost:8080/"
        },
        "outputId": "5a1d72a6-d8df-44cc-ddae-6357d6fdfbe9"
      },
      "source": [
        "\n",
        "from tensorflow.keras.applications import vgg16\n",
        "from tensorflow.keras.models import Model\n",
        "import tensorflow.keras\n",
        "\n",
        "vgg = vgg16.VGG16(include_top=False, weights='imagenet',\n",
        "                                     input_shape=input_shape)\n",
        "\n",
        "output = vgg.layers[-1].output\n",
        "output = tensorflow.keras.layers.Flatten()(output)\n",
        "\n",
        "vgg_model = Model(vgg.input, output)\n",
        "vgg_model.trainable = False\n",
        "\n",
        "for layer in vgg_model.layers:\n",
        "    layer.trainable = False\n",
        "\n",
        "vgg_model.summary()\n"
      ],
      "execution_count": null,
      "outputs": [
        {
          "output_type": "stream",
          "text": [
            "Downloading data from https://storage.googleapis.com/tensorflow/keras-applications/vgg16/vgg16_weights_tf_dim_ordering_tf_kernels_notop.h5\n",
            "58892288/58889256 [==============================] - 0s 0us/step\n",
            "Model: \"model\"\n",
            "_________________________________________________________________\n",
            "Layer (type)                 Output Shape              Param #   \n",
            "=================================================================\n",
            "input_1 (InputLayer)         [(None, 150, 150, 3)]     0         \n",
            "_________________________________________________________________\n",
            "block1_conv1 (Conv2D)        (None, 150, 150, 64)      1792      \n",
            "_________________________________________________________________\n",
            "block1_conv2 (Conv2D)        (None, 150, 150, 64)      36928     \n",
            "_________________________________________________________________\n",
            "block1_pool (MaxPooling2D)   (None, 75, 75, 64)        0         \n",
            "_________________________________________________________________\n",
            "block2_conv1 (Conv2D)        (None, 75, 75, 128)       73856     \n",
            "_________________________________________________________________\n",
            "block2_conv2 (Conv2D)        (None, 75, 75, 128)       147584    \n",
            "_________________________________________________________________\n",
            "block2_pool (MaxPooling2D)   (None, 37, 37, 128)       0         \n",
            "_________________________________________________________________\n",
            "block3_conv1 (Conv2D)        (None, 37, 37, 256)       295168    \n",
            "_________________________________________________________________\n",
            "block3_conv2 (Conv2D)        (None, 37, 37, 256)       590080    \n",
            "_________________________________________________________________\n",
            "block3_conv3 (Conv2D)        (None, 37, 37, 256)       590080    \n",
            "_________________________________________________________________\n",
            "block3_pool (MaxPooling2D)   (None, 18, 18, 256)       0         \n",
            "_________________________________________________________________\n",
            "block4_conv1 (Conv2D)        (None, 18, 18, 512)       1180160   \n",
            "_________________________________________________________________\n",
            "block4_conv2 (Conv2D)        (None, 18, 18, 512)       2359808   \n",
            "_________________________________________________________________\n",
            "block4_conv3 (Conv2D)        (None, 18, 18, 512)       2359808   \n",
            "_________________________________________________________________\n",
            "block4_pool (MaxPooling2D)   (None, 9, 9, 512)         0         \n",
            "_________________________________________________________________\n",
            "block5_conv1 (Conv2D)        (None, 9, 9, 512)         2359808   \n",
            "_________________________________________________________________\n",
            "block5_conv2 (Conv2D)        (None, 9, 9, 512)         2359808   \n",
            "_________________________________________________________________\n",
            "block5_conv3 (Conv2D)        (None, 9, 9, 512)         2359808   \n",
            "_________________________________________________________________\n",
            "block5_pool (MaxPooling2D)   (None, 4, 4, 512)         0         \n",
            "_________________________________________________________________\n",
            "flatten (Flatten)            (None, 8192)              0         \n",
            "=================================================================\n",
            "Total params: 14,714,688\n",
            "Trainable params: 0\n",
            "Non-trainable params: 14,714,688\n",
            "_________________________________________________________________\n"
          ],
          "name": "stdout"
        }
      ]
    },
    {
      "cell_type": "code",
      "metadata": {
        "id": "c6M8SjAvDA8O"
      },
      "source": [
        "vgg_model.trainable = True\r\n",
        "\r\n",
        "set_trainable = False\r\n",
        "for layer in vgg_model.layers:\r\n",
        "    if layer.name in ['block5_conv1', 'block4_conv1']:\r\n",
        "        set_trainable = True\r\n",
        "    if set_trainable:\r\n",
        "        layer.trainable = True\r\n",
        "    else:\r\n",
        "        layer.trainable = False\r\n",
        "        \r\n",
        "print(\"Trainable layers:\", vgg_model.trainable_weights)"
      ],
      "execution_count": null,
      "outputs": []
    },
    {
      "cell_type": "code",
      "metadata": {
        "id": "T9SDjC3EA3jZ",
        "colab": {
          "base_uri": "https://localhost:8080/",
          "height": 1000
        },
        "outputId": "196eebfb-edfc-4261-c658-d43e766058df"
      },
      "source": [
        "import pandas as pd\n",
        "pd.set_option('max_colwidth', -1)\n",
        "\n",
        "layers = [(layer, layer.name, layer.trainable) for layer in vgg_model.layers]\n",
        "pd.DataFrame(layers, columns=['Layer Type', 'Layer Name', 'Layer Trainable'])"
      ],
      "execution_count": null,
      "outputs": [
        {
          "output_type": "stream",
          "text": [
            "/usr/local/lib/python3.6/dist-packages/ipykernel_launcher.py:2: FutureWarning: Passing a negative integer is deprecated in version 1.0 and will not be supported in future version. Instead, use None to not limit the column width.\n",
            "  \n"
          ],
          "name": "stderr"
        },
        {
          "output_type": "execute_result",
          "data": {
            "text/html": [
              "<div>\n",
              "<style scoped>\n",
              "    .dataframe tbody tr th:only-of-type {\n",
              "        vertical-align: middle;\n",
              "    }\n",
              "\n",
              "    .dataframe tbody tr th {\n",
              "        vertical-align: top;\n",
              "    }\n",
              "\n",
              "    .dataframe thead th {\n",
              "        text-align: right;\n",
              "    }\n",
              "</style>\n",
              "<table border=\"1\" class=\"dataframe\">\n",
              "  <thead>\n",
              "    <tr style=\"text-align: right;\">\n",
              "      <th></th>\n",
              "      <th>Layer Type</th>\n",
              "      <th>Layer Name</th>\n",
              "      <th>Layer Trainable</th>\n",
              "    </tr>\n",
              "  </thead>\n",
              "  <tbody>\n",
              "    <tr>\n",
              "      <th>0</th>\n",
              "      <td>&lt;tensorflow.python.keras.engine.input_layer.InputLayer object at 0x7f36ba315710&gt;</td>\n",
              "      <td>input_1</td>\n",
              "      <td>False</td>\n",
              "    </tr>\n",
              "    <tr>\n",
              "      <th>1</th>\n",
              "      <td>&lt;tensorflow.python.keras.layers.convolutional.Conv2D object at 0x7f36ba349ef0&gt;</td>\n",
              "      <td>block1_conv1</td>\n",
              "      <td>False</td>\n",
              "    </tr>\n",
              "    <tr>\n",
              "      <th>2</th>\n",
              "      <td>&lt;tensorflow.python.keras.layers.convolutional.Conv2D object at 0x7f36ba2f8f28&gt;</td>\n",
              "      <td>block1_conv2</td>\n",
              "      <td>False</td>\n",
              "    </tr>\n",
              "    <tr>\n",
              "      <th>3</th>\n",
              "      <td>&lt;tensorflow.python.keras.layers.pooling.MaxPooling2D object at 0x7f36b9abffd0&gt;</td>\n",
              "      <td>block1_pool</td>\n",
              "      <td>False</td>\n",
              "    </tr>\n",
              "    <tr>\n",
              "      <th>4</th>\n",
              "      <td>&lt;tensorflow.python.keras.layers.convolutional.Conv2D object at 0x7f3662098358&gt;</td>\n",
              "      <td>block2_conv1</td>\n",
              "      <td>False</td>\n",
              "    </tr>\n",
              "    <tr>\n",
              "      <th>5</th>\n",
              "      <td>&lt;tensorflow.python.keras.layers.convolutional.Conv2D object at 0x7f3662098f98&gt;</td>\n",
              "      <td>block2_conv2</td>\n",
              "      <td>False</td>\n",
              "    </tr>\n",
              "    <tr>\n",
              "      <th>6</th>\n",
              "      <td>&lt;tensorflow.python.keras.layers.pooling.MaxPooling2D object at 0x7f36620a24e0&gt;</td>\n",
              "      <td>block2_pool</td>\n",
              "      <td>False</td>\n",
              "    </tr>\n",
              "    <tr>\n",
              "      <th>7</th>\n",
              "      <td>&lt;tensorflow.python.keras.layers.convolutional.Conv2D object at 0x7f36620a65f8&gt;</td>\n",
              "      <td>block3_conv1</td>\n",
              "      <td>False</td>\n",
              "    </tr>\n",
              "    <tr>\n",
              "      <th>8</th>\n",
              "      <td>&lt;tensorflow.python.keras.layers.convolutional.Conv2D object at 0x7f36620ac588&gt;</td>\n",
              "      <td>block3_conv2</td>\n",
              "      <td>False</td>\n",
              "    </tr>\n",
              "    <tr>\n",
              "      <th>9</th>\n",
              "      <td>&lt;tensorflow.python.keras.layers.convolutional.Conv2D object at 0x7f36620a6f60&gt;</td>\n",
              "      <td>block3_conv3</td>\n",
              "      <td>False</td>\n",
              "    </tr>\n",
              "    <tr>\n",
              "      <th>10</th>\n",
              "      <td>&lt;tensorflow.python.keras.layers.pooling.MaxPooling2D object at 0x7f36620b4dd8&gt;</td>\n",
              "      <td>block3_pool</td>\n",
              "      <td>False</td>\n",
              "    </tr>\n",
              "    <tr>\n",
              "      <th>11</th>\n",
              "      <td>&lt;tensorflow.python.keras.layers.convolutional.Conv2D object at 0x7f36620b2f28&gt;</td>\n",
              "      <td>block4_conv1</td>\n",
              "      <td>True</td>\n",
              "    </tr>\n",
              "    <tr>\n",
              "      <th>12</th>\n",
              "      <td>&lt;tensorflow.python.keras.layers.convolutional.Conv2D object at 0x7f36620c1cc0&gt;</td>\n",
              "      <td>block4_conv2</td>\n",
              "      <td>True</td>\n",
              "    </tr>\n",
              "    <tr>\n",
              "      <th>13</th>\n",
              "      <td>&lt;tensorflow.python.keras.layers.convolutional.Conv2D object at 0x7f36620b24a8&gt;</td>\n",
              "      <td>block4_conv3</td>\n",
              "      <td>True</td>\n",
              "    </tr>\n",
              "    <tr>\n",
              "      <th>14</th>\n",
              "      <td>&lt;tensorflow.python.keras.layers.pooling.MaxPooling2D object at 0x7f36620487b8&gt;</td>\n",
              "      <td>block4_pool</td>\n",
              "      <td>True</td>\n",
              "    </tr>\n",
              "    <tr>\n",
              "      <th>15</th>\n",
              "      <td>&lt;tensorflow.python.keras.layers.convolutional.Conv2D object at 0x7f366204cc88&gt;</td>\n",
              "      <td>block5_conv1</td>\n",
              "      <td>True</td>\n",
              "    </tr>\n",
              "    <tr>\n",
              "      <th>16</th>\n",
              "      <td>&lt;tensorflow.python.keras.layers.convolutional.Conv2D object at 0x7f366204c5c0&gt;</td>\n",
              "      <td>block5_conv2</td>\n",
              "      <td>True</td>\n",
              "    </tr>\n",
              "    <tr>\n",
              "      <th>17</th>\n",
              "      <td>&lt;tensorflow.python.keras.layers.convolutional.Conv2D object at 0x7f36620b2ac8&gt;</td>\n",
              "      <td>block5_conv3</td>\n",
              "      <td>True</td>\n",
              "    </tr>\n",
              "    <tr>\n",
              "      <th>18</th>\n",
              "      <td>&lt;tensorflow.python.keras.layers.pooling.MaxPooling2D object at 0x7f366205cac8&gt;</td>\n",
              "      <td>block5_pool</td>\n",
              "      <td>True</td>\n",
              "    </tr>\n",
              "    <tr>\n",
              "      <th>19</th>\n",
              "      <td>&lt;tensorflow.python.keras.layers.core.Flatten object at 0x7f36620c1390&gt;</td>\n",
              "      <td>flatten</td>\n",
              "      <td>True</td>\n",
              "    </tr>\n",
              "  </tbody>\n",
              "</table>\n",
              "</div>"
            ],
            "text/plain": [
              "                                                                          Layer Type  ... Layer Trainable\n",
              "0   <tensorflow.python.keras.engine.input_layer.InputLayer object at 0x7f36ba315710>  ...  False         \n",
              "1   <tensorflow.python.keras.layers.convolutional.Conv2D object at 0x7f36ba349ef0>    ...  False         \n",
              "2   <tensorflow.python.keras.layers.convolutional.Conv2D object at 0x7f36ba2f8f28>    ...  False         \n",
              "3   <tensorflow.python.keras.layers.pooling.MaxPooling2D object at 0x7f36b9abffd0>    ...  False         \n",
              "4   <tensorflow.python.keras.layers.convolutional.Conv2D object at 0x7f3662098358>    ...  False         \n",
              "5   <tensorflow.python.keras.layers.convolutional.Conv2D object at 0x7f3662098f98>    ...  False         \n",
              "6   <tensorflow.python.keras.layers.pooling.MaxPooling2D object at 0x7f36620a24e0>    ...  False         \n",
              "7   <tensorflow.python.keras.layers.convolutional.Conv2D object at 0x7f36620a65f8>    ...  False         \n",
              "8   <tensorflow.python.keras.layers.convolutional.Conv2D object at 0x7f36620ac588>    ...  False         \n",
              "9   <tensorflow.python.keras.layers.convolutional.Conv2D object at 0x7f36620a6f60>    ...  False         \n",
              "10  <tensorflow.python.keras.layers.pooling.MaxPooling2D object at 0x7f36620b4dd8>    ...  False         \n",
              "11  <tensorflow.python.keras.layers.convolutional.Conv2D object at 0x7f36620b2f28>    ...  True          \n",
              "12  <tensorflow.python.keras.layers.convolutional.Conv2D object at 0x7f36620c1cc0>    ...  True          \n",
              "13  <tensorflow.python.keras.layers.convolutional.Conv2D object at 0x7f36620b24a8>    ...  True          \n",
              "14  <tensorflow.python.keras.layers.pooling.MaxPooling2D object at 0x7f36620487b8>    ...  True          \n",
              "15  <tensorflow.python.keras.layers.convolutional.Conv2D object at 0x7f366204cc88>    ...  True          \n",
              "16  <tensorflow.python.keras.layers.convolutional.Conv2D object at 0x7f366204c5c0>    ...  True          \n",
              "17  <tensorflow.python.keras.layers.convolutional.Conv2D object at 0x7f36620b2ac8>    ...  True          \n",
              "18  <tensorflow.python.keras.layers.pooling.MaxPooling2D object at 0x7f366205cac8>    ...  True          \n",
              "19  <tensorflow.python.keras.layers.core.Flatten object at 0x7f36620c1390>            ...  True          \n",
              "\n",
              "[20 rows x 3 columns]"
            ]
          },
          "metadata": {
            "tags": []
          },
          "execution_count": 13
        }
      ]
    },
    {
      "cell_type": "code",
      "metadata": {
        "id": "hJxdtonlDK1Y"
      },
      "source": [
        ""
      ],
      "execution_count": null,
      "outputs": []
    },
    {
      "cell_type": "code",
      "metadata": {
        "id": "OvJvrtrgA3ja"
      },
      "source": [
        "#print(\"Trainable layers:\", vgg_model.trainable_weights)"
      ],
      "execution_count": null,
      "outputs": []
    },
    {
      "cell_type": "code",
      "metadata": {
        "id": "J_Zbyst4A3ja",
        "colab": {
          "base_uri": "https://localhost:8080/",
          "height": 305
        },
        "outputId": "37bde42f-dfe8-4c4e-d125-5f03e021c7c8"
      },
      "source": [
        "bottleneck_feature_example = vgg.predict(train_imgs_scaled[0:1])\n",
        "print(bottleneck_feature_example.shape)\n",
        "plt.imshow(bottleneck_feature_example[0][:,:,0])"
      ],
      "execution_count": null,
      "outputs": [
        {
          "output_type": "stream",
          "text": [
            "(1, 4, 4, 512)\n"
          ],
          "name": "stdout"
        },
        {
          "output_type": "execute_result",
          "data": {
            "text/plain": [
              "<matplotlib.image.AxesImage at 0x7f365bfe5908>"
            ]
          },
          "metadata": {
            "tags": []
          },
          "execution_count": 15
        },
        {
          "output_type": "display_data",
          "data": {
            "image/png": "[encoded data removed]",
            "text/plain": [
              "<Figure size 432x288 with 1 Axes>"
            ]
          },
          "metadata": {
            "tags": [],
            "needs_background": "light"
          }
        }
      ]
    },
    {
      "cell_type": "code",
      "metadata": {
        "id": "_8LY2OOaA3jb"
      },
      "source": [
        "def get_bottleneck_features(model, input_imgs):\n",
        "    \n",
        "    features = model.predict(input_imgs, verbose=0)\n",
        "    return features"
      ],
      "execution_count": null,
      "outputs": []
    },
    {
      "cell_type": "code",
      "metadata": {
        "id": "8sekjWocA3jb",
        "colab": {
          "base_uri": "https://localhost:8080/"
        },
        "outputId": "c57b8ae6-b3fb-4f88-fdf9-d9ed2cc48e79"
      },
      "source": [
        "train_features_vgg = get_bottleneck_features(vgg_model, train_imgs_scaled)\n",
        "validation_features_vgg = get_bottleneck_features(vgg_model, validation_imgs_scaled)\n",
        "\n",
        "print('Train Bottleneck Features:', train_features_vgg.shape, \n",
        "      '\\tValidation Bottleneck Features:', validation_features_vgg.shape)"
      ],
      "execution_count": null,
      "outputs": [
        {
          "output_type": "stream",
          "text": [
            "Train Bottleneck Features: (3000, 8192) \tValidation Bottleneck Features: (1000, 8192)\n"
          ],
          "name": "stdout"
        }
      ]
    },
    {
      "cell_type": "code",
      "metadata": {
        "id": "unerLhrzF2HL"
      },
      "source": [
        ""
      ],
      "execution_count": null,
      "outputs": []
    },
    {
      "cell_type": "code",
      "metadata": {
        "id": "qyFijnDhGBjn",
        "colab": {
          "base_uri": "https://localhost:8080/"
        },
        "outputId": "1f233f5e-02ae-4313-b65b-4239f94246d6"
      },
      "source": [
        "from tensorflow.keras.layers import Conv2D, MaxPooling2D, Flatten, Dense, Dropout, InputLayer\r\n",
        "from tensorflow.keras.models import Sequential\r\n",
        "from tensorflow.keras import optimizers\r\n",
        "\r\n",
        "model = Sequential()\r\n",
        "model.add(vgg_model)\r\n",
        "model.add(Dense(512, activation='relu', input_dim=input_shape))\r\n",
        "model.add(Dropout(0.3))\r\n",
        "model.add(Dense(512, activation='relu'))\r\n",
        "model.add(Dropout(0.3))\r\n",
        "model.add(Dense(1, activation='sigmoid'))\r\n",
        "\r\n",
        "model.compile(loss='binary_crossentropy',\r\n",
        "              optimizer=optimizers.RMSprop(lr=2e-5),\r\n",
        "              metrics=['accuracy'])\r\n",
        "\r\n",
        "model.summary()"
      ],
      "execution_count": null,
      "outputs": [
        {
          "output_type": "stream",
          "text": [
            "Model: \"sequential\"\n",
            "_________________________________________________________________\n",
            "Layer (type)                 Output Shape              Param #   \n",
            "=================================================================\n",
            "model (Functional)           (None, 8192)              14714688  \n",
            "_________________________________________________________________\n",
            "dense (Dense)                (None, 512)               4194816   \n",
            "_________________________________________________________________\n",
            "dropout (Dropout)            (None, 512)               0         \n",
            "_________________________________________________________________\n",
            "dense_1 (Dense)              (None, 512)               262656    \n",
            "_________________________________________________________________\n",
            "dropout_1 (Dropout)          (None, 512)               0         \n",
            "_________________________________________________________________\n",
            "dense_2 (Dense)              (None, 1)                 513       \n",
            "=================================================================\n",
            "Total params: 19,172,673\n",
            "Trainable params: 17,437,185\n",
            "Non-trainable params: 1,735,488\n",
            "_________________________________________________________________\n"
          ],
          "name": "stdout"
        }
      ]
    },
    {
      "cell_type": "code",
      "metadata": {
        "id": "oXhFf4HLA3jc",
        "colab": {
          "base_uri": "https://localhost:8080/"
        },
        "outputId": "3eb6ba80-02c9-45a4-ba03-614d7e56d225"
      },
      "source": [
        "history = model.fit_generator(train_generator,  epochs=epochs,\r\n",
        "                              validation_data=val_generator,  verbose=1)"
      ],
      "execution_count": null,
      "outputs": [
        {
          "output_type": "stream",
          "text": [
            "Epoch 1/100\n"
          ],
          "name": "stdout"
        },
        {
          "output_type": "stream",
          "text": [
            "/usr/local/lib/python3.6/dist-packages/tensorflow/python/keras/engine/training.py:1844: UserWarning: `Model.fit_generator` is deprecated and will be removed in a future version. Please use `Model.fit`, which supports generators.\n",
            "  warnings.warn('`Model.fit_generator` is deprecated and '\n"
          ],
          "name": "stderr"
        },
        {
          "output_type": "stream",
          "text": [
            "100/100 [==============================] - 24s 217ms/step - loss: 2.2440 - accuracy: 0.5204 - val_loss: 0.5394 - val_accuracy: 0.7220\n",
            "Epoch 2/100\n",
            "100/100 [==============================] - 21s 210ms/step - loss: 0.6169 - accuracy: 0.6588 - val_loss: 0.2459 - val_accuracy: 0.8970\n",
            "Epoch 3/100\n",
            "100/100 [==============================] - 21s 210ms/step - loss: 0.4015 - accuracy: 0.8317 - val_loss: 0.1890 - val_accuracy: 0.9210\n",
            "Epoch 4/100\n",
            "100/100 [==============================] - 20s 205ms/step - loss: 0.3112 - accuracy: 0.8657 - val_loss: 0.2788 - val_accuracy: 0.8980\n",
            "Epoch 5/100\n",
            "100/100 [==============================] - 20s 205ms/step - loss: 0.2538 - accuracy: 0.9050 - val_loss: 0.1522 - val_accuracy: 0.9400\n",
            "Epoch 6/100\n",
            "100/100 [==============================] - 21s 206ms/step - loss: 0.2419 - accuracy: 0.9044 - val_loss: 0.1460 - val_accuracy: 0.9510\n",
            "Epoch 7/100\n",
            "100/100 [==============================] - 21s 205ms/step - loss: 0.2121 - accuracy: 0.9212 - val_loss: 0.1405 - val_accuracy: 0.9440\n",
            "Epoch 8/100\n",
            "100/100 [==============================] - 20s 204ms/step - loss: 0.1923 - accuracy: 0.9239 - val_loss: 0.1275 - val_accuracy: 0.9470\n",
            "Epoch 9/100\n",
            "100/100 [==============================] - 20s 204ms/step - loss: 0.1751 - accuracy: 0.9245 - val_loss: 0.1357 - val_accuracy: 0.9460\n",
            "Epoch 10/100\n",
            "100/100 [==============================] - 20s 204ms/step - loss: 0.1756 - accuracy: 0.9297 - val_loss: 0.1417 - val_accuracy: 0.9550\n",
            "Epoch 11/100\n",
            "100/100 [==============================] - 21s 206ms/step - loss: 0.1465 - accuracy: 0.9516 - val_loss: 0.4858 - val_accuracy: 0.8780\n",
            "Epoch 12/100\n",
            "100/100 [==============================] - 20s 204ms/step - loss: 0.1468 - accuracy: 0.9449 - val_loss: 0.1472 - val_accuracy: 0.9590\n",
            "Epoch 13/100\n",
            "100/100 [==============================] - 20s 204ms/step - loss: 0.1232 - accuracy: 0.9494 - val_loss: 0.0889 - val_accuracy: 0.9620\n",
            "Epoch 14/100\n",
            "100/100 [==============================] - 21s 205ms/step - loss: 0.1405 - accuracy: 0.9448 - val_loss: 0.1231 - val_accuracy: 0.9630\n",
            "Epoch 15/100\n",
            "100/100 [==============================] - 20s 204ms/step - loss: 0.1173 - accuracy: 0.9525 - val_loss: 0.2011 - val_accuracy: 0.9480\n",
            "Epoch 16/100\n",
            "100/100 [==============================] - 20s 203ms/step - loss: 0.1274 - accuracy: 0.9602 - val_loss: 0.1506 - val_accuracy: 0.9520\n",
            "Epoch 17/100\n",
            "100/100 [==============================] - 20s 204ms/step - loss: 0.1158 - accuracy: 0.9532 - val_loss: 0.1290 - val_accuracy: 0.9600\n",
            "Epoch 18/100\n",
            "100/100 [==============================] - 20s 203ms/step - loss: 0.1112 - accuracy: 0.9639 - val_loss: 0.4246 - val_accuracy: 0.9290\n",
            "Epoch 19/100\n",
            "100/100 [==============================] - 20s 203ms/step - loss: 0.1073 - accuracy: 0.9550 - val_loss: 0.1120 - val_accuracy: 0.9620\n",
            "Epoch 20/100\n",
            "100/100 [==============================] - 20s 204ms/step - loss: 0.1008 - accuracy: 0.9650 - val_loss: 0.1368 - val_accuracy: 0.9650\n",
            "Epoch 21/100\n",
            "100/100 [==============================] - 20s 204ms/step - loss: 0.0895 - accuracy: 0.9626 - val_loss: 0.1425 - val_accuracy: 0.9580\n",
            "Epoch 22/100\n",
            "100/100 [==============================] - 20s 204ms/step - loss: 0.0963 - accuracy: 0.9623 - val_loss: 0.1310 - val_accuracy: 0.9600\n",
            "Epoch 23/100\n",
            "100/100 [==============================] - 20s 204ms/step - loss: 0.0921 - accuracy: 0.9699 - val_loss: 0.2005 - val_accuracy: 0.9580\n",
            "Epoch 24/100\n",
            "100/100 [==============================] - 20s 204ms/step - loss: 0.1088 - accuracy: 0.9660 - val_loss: 0.3246 - val_accuracy: 0.9640\n",
            "Epoch 25/100\n",
            "100/100 [==============================] - 20s 204ms/step - loss: 0.0967 - accuracy: 0.9666 - val_loss: 0.1596 - val_accuracy: 0.9500\n",
            "Epoch 26/100\n",
            "100/100 [==============================] - 20s 205ms/step - loss: 0.1177 - accuracy: 0.9627 - val_loss: 0.2533 - val_accuracy: 0.9540\n",
            "Epoch 27/100\n",
            "100/100 [==============================] - 20s 204ms/step - loss: 0.0953 - accuracy: 0.9626 - val_loss: 0.8014 - val_accuracy: 0.9320\n",
            "Epoch 28/100\n",
            "100/100 [==============================] - 20s 203ms/step - loss: 0.1199 - accuracy: 0.9644 - val_loss: 0.4385 - val_accuracy: 0.9570\n",
            "Epoch 29/100\n",
            "100/100 [==============================] - 20s 204ms/step - loss: 0.1069 - accuracy: 0.9604 - val_loss: 0.9334 - val_accuracy: 0.8950\n",
            "Epoch 30/100\n",
            "100/100 [==============================] - 20s 203ms/step - loss: 0.0854 - accuracy: 0.9644 - val_loss: 0.2727 - val_accuracy: 0.9670\n",
            "Epoch 31/100\n",
            "100/100 [==============================] - 20s 203ms/step - loss: 0.0973 - accuracy: 0.9719 - val_loss: 0.3849 - val_accuracy: 0.9610\n",
            "Epoch 32/100\n",
            "100/100 [==============================] - 20s 203ms/step - loss: 0.1065 - accuracy: 0.9712 - val_loss: 0.1801 - val_accuracy: 0.9720\n",
            "Epoch 33/100\n",
            "100/100 [==============================] - 20s 203ms/step - loss: 0.1490 - accuracy: 0.9706 - val_loss: 0.2317 - val_accuracy: 0.9690\n",
            "Epoch 34/100\n",
            "100/100 [==============================] - 20s 203ms/step - loss: 0.0639 - accuracy: 0.9767 - val_loss: 0.3520 - val_accuracy: 0.9530\n",
            "Epoch 35/100\n",
            "100/100 [==============================] - 20s 204ms/step - loss: 0.0892 - accuracy: 0.9724 - val_loss: 0.5260 - val_accuracy: 0.9670\n",
            "Epoch 36/100\n",
            "100/100 [==============================] - 20s 203ms/step - loss: 0.1090 - accuracy: 0.9696 - val_loss: 0.5255 - val_accuracy: 0.9510\n",
            "Epoch 37/100\n",
            "100/100 [==============================] - 20s 204ms/step - loss: 0.1252 - accuracy: 0.9652 - val_loss: 0.2577 - val_accuracy: 0.9530\n",
            "Epoch 38/100\n",
            "100/100 [==============================] - 20s 203ms/step - loss: 0.0938 - accuracy: 0.9730 - val_loss: 0.3998 - val_accuracy: 0.9600\n",
            "Epoch 39/100\n",
            "100/100 [==============================] - 20s 202ms/step - loss: 0.1678 - accuracy: 0.9580 - val_loss: 0.6723 - val_accuracy: 0.9350\n",
            "Epoch 40/100\n",
            "100/100 [==============================] - 20s 203ms/step - loss: 0.0889 - accuracy: 0.9727 - val_loss: 0.6683 - val_accuracy: 0.9280\n",
            "Epoch 41/100\n",
            "100/100 [==============================] - 20s 204ms/step - loss: 0.1307 - accuracy: 0.9635 - val_loss: 0.4717 - val_accuracy: 0.9490\n",
            "Epoch 42/100\n",
            "100/100 [==============================] - 20s 205ms/step - loss: 0.1078 - accuracy: 0.9697 - val_loss: 0.2771 - val_accuracy: 0.9600\n",
            "Epoch 43/100\n",
            "100/100 [==============================] - 20s 203ms/step - loss: 0.1272 - accuracy: 0.9632 - val_loss: 0.1937 - val_accuracy: 0.9570\n",
            "Epoch 44/100\n",
            "100/100 [==============================] - 20s 202ms/step - loss: 0.0839 - accuracy: 0.9748 - val_loss: 0.2496 - val_accuracy: 0.9670\n",
            "Epoch 45/100\n",
            "100/100 [==============================] - 20s 204ms/step - loss: 0.1189 - accuracy: 0.9590 - val_loss: 0.2035 - val_accuracy: 0.9600\n",
            "Epoch 46/100\n",
            "100/100 [==============================] - 20s 203ms/step - loss: 0.1232 - accuracy: 0.9690 - val_loss: 0.2369 - val_accuracy: 0.9550\n",
            "Epoch 47/100\n",
            "100/100 [==============================] - 20s 203ms/step - loss: 0.0873 - accuracy: 0.9741 - val_loss: 0.2431 - val_accuracy: 0.9580\n",
            "Epoch 48/100\n",
            "100/100 [==============================] - 20s 203ms/step - loss: 0.1221 - accuracy: 0.9577 - val_loss: 0.2262 - val_accuracy: 0.9620\n",
            "Epoch 49/100\n",
            "100/100 [==============================] - 20s 204ms/step - loss: 0.1321 - accuracy: 0.9667 - val_loss: 0.3777 - val_accuracy: 0.9600\n",
            "Epoch 50/100\n",
            "100/100 [==============================] - 20s 203ms/step - loss: 0.0973 - accuracy: 0.9672 - val_loss: 0.3468 - val_accuracy: 0.9560\n",
            "Epoch 51/100\n",
            "100/100 [==============================] - 20s 203ms/step - loss: 0.1137 - accuracy: 0.9700 - val_loss: 0.4332 - val_accuracy: 0.9540\n",
            "Epoch 52/100\n",
            "100/100 [==============================] - 20s 203ms/step - loss: 0.1193 - accuracy: 0.9663 - val_loss: 0.2883 - val_accuracy: 0.9630\n",
            "Epoch 53/100\n",
            "100/100 [==============================] - 20s 204ms/step - loss: 0.1075 - accuracy: 0.9630 - val_loss: 0.4059 - val_accuracy: 0.9660\n",
            "Epoch 54/100\n",
            "100/100 [==============================] - 20s 203ms/step - loss: 0.1139 - accuracy: 0.9703 - val_loss: 0.3359 - val_accuracy: 0.9540\n",
            "Epoch 55/100\n",
            "100/100 [==============================] - 20s 202ms/step - loss: 0.1060 - accuracy: 0.9691 - val_loss: 0.8221 - val_accuracy: 0.9550\n",
            "Epoch 56/100\n",
            "100/100 [==============================] - 20s 201ms/step - loss: 0.1142 - accuracy: 0.9693 - val_loss: 0.4469 - val_accuracy: 0.9360\n",
            "Epoch 57/100\n",
            "100/100 [==============================] - 20s 205ms/step - loss: 0.1121 - accuracy: 0.9691 - val_loss: 0.1758 - val_accuracy: 0.9670\n",
            "Epoch 58/100\n",
            "100/100 [==============================] - 20s 202ms/step - loss: 0.1113 - accuracy: 0.9683 - val_loss: 0.1721 - val_accuracy: 0.9600\n",
            "Epoch 59/100\n",
            "100/100 [==============================] - 20s 203ms/step - loss: 0.1034 - accuracy: 0.9681 - val_loss: 0.2340 - val_accuracy: 0.9700\n",
            "Epoch 60/100\n",
            "100/100 [==============================] - 20s 202ms/step - loss: 0.1405 - accuracy: 0.9675 - val_loss: 0.3130 - val_accuracy: 0.9480\n",
            "Epoch 61/100\n",
            "100/100 [==============================] - 20s 203ms/step - loss: 0.1201 - accuracy: 0.9619 - val_loss: 0.3306 - val_accuracy: 0.9650\n",
            "Epoch 62/100\n",
            "100/100 [==============================] - 20s 203ms/step - loss: 0.0897 - accuracy: 0.9721 - val_loss: 0.5096 - val_accuracy: 0.9580\n",
            "Epoch 63/100\n",
            "100/100 [==============================] - 20s 202ms/step - loss: 0.1743 - accuracy: 0.9523 - val_loss: 0.3281 - val_accuracy: 0.9720\n",
            "Epoch 64/100\n",
            "100/100 [==============================] - 20s 202ms/step - loss: 0.1283 - accuracy: 0.9634 - val_loss: 0.3099 - val_accuracy: 0.9650\n",
            "Epoch 65/100\n",
            "100/100 [==============================] - 20s 205ms/step - loss: 0.1694 - accuracy: 0.9618 - val_loss: 0.4626 - val_accuracy: 0.9610\n",
            "Epoch 66/100\n",
            "100/100 [==============================] - 20s 202ms/step - loss: 0.1428 - accuracy: 0.9691 - val_loss: 0.2308 - val_accuracy: 0.9590\n",
            "Epoch 67/100\n",
            "100/100 [==============================] - 20s 202ms/step - loss: 0.1504 - accuracy: 0.9653 - val_loss: 0.3348 - val_accuracy: 0.9630\n",
            "Epoch 68/100\n",
            "100/100 [==============================] - 20s 203ms/step - loss: 0.1303 - accuracy: 0.9702 - val_loss: 0.3314 - val_accuracy: 0.9600\n",
            "Epoch 69/100\n",
            "100/100 [==============================] - 20s 204ms/step - loss: 0.0970 - accuracy: 0.9766 - val_loss: 0.2302 - val_accuracy: 0.9500\n",
            "Epoch 70/100\n",
            "100/100 [==============================] - 20s 202ms/step - loss: 0.1019 - accuracy: 0.9664 - val_loss: 0.2755 - val_accuracy: 0.9480\n",
            "Epoch 71/100\n",
            "100/100 [==============================] - 20s 203ms/step - loss: 0.1294 - accuracy: 0.9642 - val_loss: 0.1457 - val_accuracy: 0.9780\n",
            "Epoch 72/100\n",
            "100/100 [==============================] - 20s 204ms/step - loss: 0.1035 - accuracy: 0.9727 - val_loss: 0.3800 - val_accuracy: 0.9610\n",
            "Epoch 73/100\n",
            "100/100 [==============================] - 20s 203ms/step - loss: 0.1290 - accuracy: 0.9613 - val_loss: 1.0083 - val_accuracy: 0.9260\n",
            "Epoch 74/100\n",
            "100/100 [==============================] - 20s 202ms/step - loss: 0.1619 - accuracy: 0.9606 - val_loss: 0.3865 - val_accuracy: 0.9700\n",
            "Epoch 75/100\n",
            "100/100 [==============================] - 20s 202ms/step - loss: 0.1451 - accuracy: 0.9597 - val_loss: 0.2146 - val_accuracy: 0.9610\n",
            "Epoch 76/100\n",
            "100/100 [==============================] - 20s 202ms/step - loss: 0.1127 - accuracy: 0.9636 - val_loss: 0.2657 - val_accuracy: 0.9670\n",
            "Epoch 77/100\n",
            "100/100 [==============================] - 20s 203ms/step - loss: 0.1416 - accuracy: 0.9572 - val_loss: 0.2669 - val_accuracy: 0.9570\n",
            "Epoch 78/100\n",
            "100/100 [==============================] - 20s 202ms/step - loss: 0.1197 - accuracy: 0.9644 - val_loss: 0.2738 - val_accuracy: 0.9700\n",
            "Epoch 79/100\n",
            "100/100 [==============================] - 20s 202ms/step - loss: 0.0943 - accuracy: 0.9689 - val_loss: 0.2273 - val_accuracy: 0.9660\n",
            "Epoch 80/100\n",
            "100/100 [==============================] - 20s 203ms/step - loss: 0.2406 - accuracy: 0.9547 - val_loss: 0.2336 - val_accuracy: 0.9700\n",
            "Epoch 81/100\n",
            "100/100 [==============================] - 20s 204ms/step - loss: 0.1389 - accuracy: 0.9605 - val_loss: 0.2906 - val_accuracy: 0.9610\n",
            "Epoch 82/100\n",
            "100/100 [==============================] - 20s 203ms/step - loss: 0.1703 - accuracy: 0.9570 - val_loss: 0.3648 - val_accuracy: 0.9600\n",
            "Epoch 83/100\n",
            "100/100 [==============================] - 20s 202ms/step - loss: 0.1312 - accuracy: 0.9642 - val_loss: 0.1165 - val_accuracy: 0.9750\n",
            "Epoch 84/100\n",
            "100/100 [==============================] - 20s 202ms/step - loss: 0.1114 - accuracy: 0.9663 - val_loss: 3.4364 - val_accuracy: 0.8970\n",
            "Epoch 85/100\n",
            "100/100 [==============================] - 20s 204ms/step - loss: 0.1378 - accuracy: 0.9600 - val_loss: 0.5092 - val_accuracy: 0.9670\n",
            "Epoch 86/100\n",
            "100/100 [==============================] - 20s 203ms/step - loss: 0.1053 - accuracy: 0.9660 - val_loss: 0.4503 - val_accuracy: 0.9220\n",
            "Epoch 87/100\n",
            "100/100 [==============================] - 20s 204ms/step - loss: 0.1273 - accuracy: 0.9685 - val_loss: 0.5210 - val_accuracy: 0.9620\n",
            "Epoch 88/100\n",
            "100/100 [==============================] - 20s 204ms/step - loss: 0.2777 - accuracy: 0.9603 - val_loss: 0.2063 - val_accuracy: 0.9600\n",
            "Epoch 89/100\n",
            "100/100 [==============================] - 20s 204ms/step - loss: 0.1581 - accuracy: 0.9582 - val_loss: 0.2548 - val_accuracy: 0.9660\n",
            "Epoch 90/100\n",
            "100/100 [==============================] - 20s 202ms/step - loss: 0.1946 - accuracy: 0.9573 - val_loss: 0.2714 - val_accuracy: 0.9650\n",
            "Epoch 91/100\n",
            "100/100 [==============================] - 20s 203ms/step - loss: 0.1754 - accuracy: 0.9595 - val_loss: 0.2292 - val_accuracy: 0.9660\n",
            "Epoch 92/100\n",
            "100/100 [==============================] - 20s 203ms/step - loss: 0.1406 - accuracy: 0.9518 - val_loss: 2.0766 - val_accuracy: 0.9290\n",
            "Epoch 93/100\n",
            "100/100 [==============================] - 20s 203ms/step - loss: 0.1774 - accuracy: 0.9565 - val_loss: 0.4338 - val_accuracy: 0.9680\n",
            "Epoch 94/100\n",
            "100/100 [==============================] - 20s 202ms/step - loss: 0.1477 - accuracy: 0.9707 - val_loss: 0.3261 - val_accuracy: 0.9510\n",
            "Epoch 95/100\n",
            "100/100 [==============================] - 20s 204ms/step - loss: 0.1610 - accuracy: 0.9631 - val_loss: 0.4826 - val_accuracy: 0.9430\n",
            "Epoch 96/100\n",
            "100/100 [==============================] - 20s 203ms/step - loss: 0.1479 - accuracy: 0.9582 - val_loss: 0.1063 - val_accuracy: 0.9690\n",
            "Epoch 97/100\n",
            "100/100 [==============================] - 20s 204ms/step - loss: 0.1668 - accuracy: 0.9466 - val_loss: 0.2113 - val_accuracy: 0.9560\n",
            "Epoch 98/100\n",
            "100/100 [==============================] - 20s 203ms/step - loss: 0.1181 - accuracy: 0.9591 - val_loss: 0.3522 - val_accuracy: 0.9000\n",
            "Epoch 99/100\n",
            "100/100 [==============================] - 20s 204ms/step - loss: 0.1889 - accuracy: 0.9370 - val_loss: 0.1779 - val_accuracy: 0.9540\n",
            "Epoch 100/100\n",
            "100/100 [==============================] - 20s 203ms/step - loss: 0.1457 - accuracy: 0.9513 - val_loss: 0.3860 - val_accuracy: 0.9500\n"
          ],
          "name": "stdout"
        }
      ]
    },
    {
      "cell_type": "code",
      "metadata": {
        "id": "P0Fk-e8wA3jd",
        "colab": {
          "base_uri": "https://localhost:8080/",
          "height": 290
        },
        "outputId": "5855e3c4-39e9-4fa5-c2eb-ffcd16012786"
      },
      "source": [
        "f, (ax1, ax2) = plt.subplots(1, 2, figsize=(12, 4))\n",
        "t = f.suptitle('Pre-trained CNN (Transfer Learning) Performance', fontsize=12)\n",
        "f.subplots_adjust(top=0.85, wspace=0.3)\n",
        "\n",
        "epoch_list = list(range(1,101))\n",
        "ax1.plot(epoch_list, history.history['accuracy'], label='Train Accuracy')\n",
        "ax1.plot(epoch_list, history.history['val_accuracy'], label='Validation Accuracy')\n",
        "ax1.set_xticks(np.arange(0, 101, 5))\n",
        "ax1.set_ylabel('Accuracy Value')\n",
        "ax1.set_xlabel('Epoch')\n",
        "ax1.set_title('Accuracy')\n",
        "l1 = ax1.legend(loc=\"best\")\n",
        "\n",
        "ax2.plot(epoch_list, history.history['loss'], label='Train Loss')\n",
        "ax2.plot(epoch_list, history.history['val_loss'], label='Validation Loss')\n",
        "ax2.set_xticks(np.arange(0, 101, 5))\n",
        "ax2.set_ylabel('Loss Value')\n",
        "ax2.set_xlabel('Epoch')\n",
        "ax2.set_title('Loss')\n",
        "l2 = ax2.legend(loc=\"best\")"
      ],
      "execution_count": null,
      "outputs": [
        {
          "output_type": "display_data",
          "data": {
            "image/png": "[encoded data removed]",
            "text/plain": [
              "<Figure size 864x288 with 2 Axes>"
            ]
          },
          "metadata": {
            "tags": [],
            "needs_background": "light"
          }
        }
      ]
    },
    {
      "cell_type": "code",
      "metadata": {
        "id": "wHLV0XfKA3jd"
      },
      "source": [
        "model.save('5-pre-aug-vgg16.h5')"
      ],
      "execution_count": null,
      "outputs": []
    }
  ]
}