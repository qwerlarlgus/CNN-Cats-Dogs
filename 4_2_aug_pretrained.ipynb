{ 
  "nbformat": 4,
  "nbformat_minor": 0,
  "metadata": {
    "kernelspec": {
      "display_name": "Python 3",
      "language": "python",
      "name": "python3"
    },
    "language_info": {
      "codemirror_mode": {
        "name": "ipython",
        "version": 3
      },
      "file_extension": ".py",
      "mimetype": "text/x-python",
      "name": "python",
      "nbconvert_exporter": "python",
      "pygments_lexer": "ipython3",
      "version": "3.7.6"
    },
    "colab": {
      "name": "4-2-aug-pretrained.ipynb",
      "provenance": [],
      "collapsed_sections": [],
      "include_colab_link": true
    },
    "accelerator": "GPU"
  },
  "cells": [
    {
      "cell_type": "markdown",
      "metadata": {
        "id": "view-in-github",
        "colab_type": "text"
      },
      "source": [
        "<a href=\"https://colab.research.google.com/github/JSJeong-me/CNN-Cats-Dogs/blob/main/4_2_aug_pretrained.ipynb\" target=\"_parent\"><img src=\"https://colab.research.google.com/assets/colab-badge.svg\" alt=\"Open In Colab\"/></a>"
      ]
    },
    {
      "cell_type": "code",
      "metadata": {
        "colab": {
          "base_uri": "https://localhost:8080/"
        },
        "id": "22mg_PXnCKsU",
        "outputId": "cb6278ab-b8ae-46ee-d8c8-ed2d83932e4a"
      },
      "source": [
        "from google.colab import drive\n",
        "drive.mount('/content/drive')"
      ],
      "execution_count": 1,
      "outputs": [
        {
          "output_type": "stream",
          "text": [
            "Mounted at /content/drive\n"
          ],
          "name": "stdout"
        }
      ]
    },
    {
      "cell_type": "code",
      "metadata": {
        "id": "6giq8ls1A3jN"
      },
      "source": [
        "%matplotlib inline"
      ],
      "execution_count": 2,
      "outputs": []
    },
    {
      "cell_type": "code",
      "metadata": {
        "id": "B9GBtXmwA47m",
        "colab": {
          "base_uri": "https://localhost:8080/"
        },
        "outputId": "3e5a1825-df22-4ab2-e014-9929122f9004"
      },
      "source": [
        "!ls -l"
      ],
      "execution_count": 3,
      "outputs": [
        {
          "output_type": "stream",
          "text": [
            "total 8\n",
            "drwx------ 5 root root 4096 Jan 24 19:52 drive\n",
            "drwxr-xr-x 1 root root 4096 Jan 20 17:27 sample_data\n"
          ],
          "name": "stdout"
        }
      ]
    },
    {
      "cell_type": "code",
      "metadata": {
        "id": "FWj06i8uA6OO"
      },
      "source": [
        "!cp ./drive/MyDrive/training_data.zip ."
      ],
      "execution_count": 4,
      "outputs": []
    },
    {
      "cell_type": "code",
      "metadata": {
        "id": "AEJfrotXA58E"
      },
      "source": [
        "!unzip training_data.zip\r\n"
      ],
      "execution_count": null,
      "outputs": []
    },
    {
      "cell_type": "code",
      "metadata": {
        "id": "O5M05p_pA5rd"
      },
      "source": [
        ""
      ],
      "execution_count": null,
      "outputs": []
    },
    {
      "cell_type": "code",
      "metadata": {
        "id": "KPy5I5SBA3jW"
      },
      "source": [
        "import glob\n",
        "import numpy as np\n",
        "import matplotlib.pyplot as plt\n",
        "from tensorflow.keras.preprocessing.image import ImageDataGenerator, load_img, img_to_array, array_to_img"
      ],
      "execution_count": 1,
      "outputs": []
    },
    {
      "cell_type": "code",
      "metadata": {
        "id": "eZImnfGOA3jX",
        "colab": {
          "base_uri": "https://localhost:8080/"
        },
        "outputId": "05513be5-4d7a-45ff-f187-0c11c2aa5e66"
      },
      "source": [
        "IMG_DIM = (150, 150)\n",
        "\n",
        "train_files = glob.glob('training_data/*')\n",
        "train_imgs = [img_to_array(load_img(img, target_size=IMG_DIM)) for img in train_files]\n",
        "train_imgs = np.array(train_imgs)\n",
        "train_labels = [fn.split('/')[1].split('.')[0].strip() for fn in train_files]\n",
        "\n",
        "validation_files = glob.glob('validation_data/*')\n",
        "validation_imgs = [img_to_array(load_img(img, target_size=IMG_DIM)) for img in validation_files]\n",
        "validation_imgs = np.array(validation_imgs)\n",
        "validation_labels = [fn.split('/')[1].split('.')[0].strip() for fn in validation_files]\n",
        "\n",
        "print('Train dataset shape:', train_imgs.shape, \n",
        "      '\\tValidation dataset shape:', validation_imgs.shape)"
      ],
      "execution_count": 2,
      "outputs": [
        {
          "output_type": "stream",
          "text": [
            "Train dataset shape: (3000, 150, 150, 3) \tValidation dataset shape: (1000, 150, 150, 3)\n"
          ],
          "name": "stdout"
        }
      ]
    },
    {
      "cell_type": "code",
      "metadata": {
        "id": "OiDa5o60A3jX"
      },
      "source": [
        "train_imgs_scaled = train_imgs.astype('float32')\n",
        "validation_imgs_scaled = validation_imgs.astype('float32')\n",
        "train_imgs_scaled /= 255\n",
        "validation_imgs_scaled /= 255"
      ],
      "execution_count": 3,
      "outputs": []
    },
    {
      "cell_type": "code",
      "metadata": {
        "id": "COLKZn79A3jY",
        "colab": {
          "base_uri": "https://localhost:8080/"
        },
        "outputId": "c364bdfe-3804-4cab-f8a5-02a115afc82f"
      },
      "source": [
        "batch_size = 50\n",
        "num_classes = 2\n",
        "epochs = 150\n",
        "input_shape = (150, 150, 3)\n",
        "\n",
        "from sklearn.preprocessing import LabelEncoder\n",
        "\n",
        "le = LabelEncoder()\n",
        "le.fit(train_labels)\n",
        "# encode wine type labels\n",
        "train_labels_enc = le.transform(train_labels)\n",
        "validation_labels_enc = le.transform(validation_labels)\n",
        "\n",
        "print(train_labels[0:5], train_labels_enc[0:5])"
      ],
      "execution_count": 4,
      "outputs": [
        {
          "output_type": "stream",
          "text": [
            "['cat', 'cat', 'cat', 'dog', 'cat'] [0 0 0 1 0]\n"
          ],
          "name": "stdout"
        }
      ]
    },
    {
      "cell_type": "code",
      "metadata": {
        "id": "Ieppy25xFE_N"
      },
      "source": [
        ""
      ],
      "execution_count": null,
      "outputs": []
    },
    {
      "cell_type": "code",
      "metadata": {
        "id": "j0wF41XlFEu9"
      },
      "source": [
        "train_datagen = ImageDataGenerator( zoom_range=0.3, rotation_range=50,  # rescale=1./255,\r\n",
        "                                   width_shift_range=0.2, height_shift_range=0.2, shear_range=0.2, \r\n",
        "                                   horizontal_flip=True, fill_mode='nearest')\r\n",
        "\r\n",
        "val_datagen = ImageDataGenerator() # rescale=1./255\r\n",
        "\r\n",
        "train_generator = train_datagen.flow(train_imgs, train_labels_enc, batch_size=30)\r\n",
        "val_generator = val_datagen.flow(validation_imgs, validation_labels_enc, batch_size=20)"
      ],
      "execution_count": 5,
      "outputs": []
    },
    {
      "cell_type": "code",
      "metadata": {
        "id": "wDDCzCWzFEDf"
      },
      "source": [
        ""
      ],
      "execution_count": null,
      "outputs": []
    },
    {
      "cell_type": "code",
      "metadata": {
        "id": "9fVVMivMA3jZ"
      },
      "source": [
        "\n",
        "from tensorflow.keras.applications import vgg16\n",
        "from tensorflow.keras.models import Model\n",
        "import tensorflow.keras\n",
        "\n",
        "vgg = vgg16.VGG16(include_top=False, weights='imagenet',\n",
        "                                     input_shape=input_shape)\n",
        "\n",
        "output = vgg.layers[-1].output\n",
        "output = tensorflow.keras.layers.Flatten()(output)\n",
        "\n",
        "vgg_model = Model(vgg.input, output)\n",
        "vgg_model.trainable = False\n",
        "\n",
        "for layer in vgg_model.layers:\n",
        "    layer.trainable = False\n",
        "\n",
        "vgg_model.summary()\n"
      ],
      "execution_count": null,
      "outputs": []
    },
    {
      "cell_type": "code",
      "metadata": {
        "id": "T9SDjC3EA3jZ",
        "outputId": "c9700f00-c6a8-4693-d572-458b3938bae5",
        "colab": {
          "base_uri": "https://localhost:8080/",
          "height": 717
        }
      },
      "source": [
        "import pandas as pd\n",
        "pd.set_option('max_colwidth', -1)\n",
        "\n",
        "layers = [(layer, layer.name, layer.trainable) for layer in vgg_model.layers]\n",
        "pd.DataFrame(layers, columns=['Layer Type', 'Layer Name', 'Layer Trainable'])"
      ],
      "execution_count": 7,
      "outputs": [
        {
          "output_type": "stream",
          "text": [
            "/usr/local/lib/python3.6/dist-packages/ipykernel_launcher.py:2: FutureWarning: Passing a negative integer is deprecated in version 1.0 and will not be supported in future version. Instead, use None to not limit the column width.\n",
            "  \n"
          ],
          "name": "stderr"
        },
        {
          "output_type": "execute_result",
          "data": {
            "text/html": [
              "<div>\n",
              "<style scoped>\n",
              "    .dataframe tbody tr th:only-of-type {\n",
              "        vertical-align: middle;\n",
              "    }\n",
              "\n",
              "    .dataframe tbody tr th {\n",
              "        vertical-align: top;\n",
              "    }\n",
              "\n",
              "    .dataframe thead th {\n",
              "        text-align: right;\n",
              "    }\n",
              "</style>\n",
              "<table border=\"1\" class=\"dataframe\">\n",
              "  <thead>\n",
              "    <tr style=\"text-align: right;\">\n",
              "      <th></th>\n",
              "      <th>Layer Type</th>\n",
              "      <th>Layer Name</th>\n",
              "      <th>Layer Trainable</th>\n",
              "    </tr>\n",
              "  </thead>\n",
              "  <tbody>\n",
              "    <tr>\n",
              "      <th>0</th>\n",
              "      <td>&lt;tensorflow.python.keras.engine.input_layer.InputLayer object at 0x7f692eb53dd8&gt;</td>\n",
              "      <td>input_1</td>\n",
              "      <td>False</td>\n",
              "    </tr>\n",
              "    <tr>\n",
              "      <th>1</th>\n",
              "      <td>&lt;tensorflow.python.keras.layers.convolutional.Conv2D object at 0x7f692e4044e0&gt;</td>\n",
              "      <td>block1_conv1</td>\n",
              "      <td>False</td>\n",
              "    </tr>\n",
              "    <tr>\n",
              "      <th>2</th>\n",
              "      <td>&lt;tensorflow.python.keras.layers.convolutional.Conv2D object at 0x7f692e404fd0&gt;</td>\n",
              "      <td>block1_conv2</td>\n",
              "      <td>False</td>\n",
              "    </tr>\n",
              "    <tr>\n",
              "      <th>3</th>\n",
              "      <td>&lt;tensorflow.python.keras.layers.pooling.MaxPooling2D object at 0x7f6920102898&gt;</td>\n",
              "      <td>block1_pool</td>\n",
              "      <td>False</td>\n",
              "    </tr>\n",
              "    <tr>\n",
              "      <th>4</th>\n",
              "      <td>&lt;tensorflow.python.keras.layers.convolutional.Conv2D object at 0x7f692010b940&gt;</td>\n",
              "      <td>block2_conv1</td>\n",
              "      <td>False</td>\n",
              "    </tr>\n",
              "    <tr>\n",
              "      <th>5</th>\n",
              "      <td>&lt;tensorflow.python.keras.layers.convolutional.Conv2D object at 0x7f6920111780&gt;</td>\n",
              "      <td>block2_conv2</td>\n",
              "      <td>False</td>\n",
              "    </tr>\n",
              "    <tr>\n",
              "      <th>6</th>\n",
              "      <td>&lt;tensorflow.python.keras.layers.pooling.MaxPooling2D object at 0x7f6920111b38&gt;</td>\n",
              "      <td>block2_pool</td>\n",
              "      <td>False</td>\n",
              "    </tr>\n",
              "    <tr>\n",
              "      <th>7</th>\n",
              "      <td>&lt;tensorflow.python.keras.layers.convolutional.Conv2D object at 0x7f692011cbe0&gt;</td>\n",
              "      <td>block3_conv1</td>\n",
              "      <td>False</td>\n",
              "    </tr>\n",
              "    <tr>\n",
              "      <th>8</th>\n",
              "      <td>&lt;tensorflow.python.keras.layers.convolutional.Conv2D object at 0x7f692011fe10&gt;</td>\n",
              "      <td>block3_conv2</td>\n",
              "      <td>False</td>\n",
              "    </tr>\n",
              "    <tr>\n",
              "      <th>9</th>\n",
              "      <td>&lt;tensorflow.python.keras.layers.convolutional.Conv2D object at 0x7f6920128240&gt;</td>\n",
              "      <td>block3_conv3</td>\n",
              "      <td>False</td>\n",
              "    </tr>\n",
              "    <tr>\n",
              "      <th>10</th>\n",
              "      <td>&lt;tensorflow.python.keras.layers.pooling.MaxPooling2D object at 0x7f692012d5c0&gt;</td>\n",
              "      <td>block3_pool</td>\n",
              "      <td>False</td>\n",
              "    </tr>\n",
              "    <tr>\n",
              "      <th>11</th>\n",
              "      <td>&lt;tensorflow.python.keras.layers.convolutional.Conv2D object at 0x7f6920135518&gt;</td>\n",
              "      <td>block4_conv1</td>\n",
              "      <td>False</td>\n",
              "    </tr>\n",
              "    <tr>\n",
              "      <th>12</th>\n",
              "      <td>&lt;tensorflow.python.keras.layers.convolutional.Conv2D object at 0x7f692013a4a8&gt;</td>\n",
              "      <td>block4_conv2</td>\n",
              "      <td>False</td>\n",
              "    </tr>\n",
              "    <tr>\n",
              "      <th>13</th>\n",
              "      <td>&lt;tensorflow.python.keras.layers.convolutional.Conv2D object at 0x7f692013add8&gt;</td>\n",
              "      <td>block4_conv3</td>\n",
              "      <td>False</td>\n",
              "    </tr>\n",
              "    <tr>\n",
              "      <th>14</th>\n",
              "      <td>&lt;tensorflow.python.keras.layers.pooling.MaxPooling2D object at 0x7f692012d978&gt;</td>\n",
              "      <td>block4_pool</td>\n",
              "      <td>False</td>\n",
              "    </tr>\n",
              "    <tr>\n",
              "      <th>15</th>\n",
              "      <td>&lt;tensorflow.python.keras.layers.convolutional.Conv2D object at 0x7f692011cdd8&gt;</td>\n",
              "      <td>block5_conv1</td>\n",
              "      <td>False</td>\n",
              "    </tr>\n",
              "    <tr>\n",
              "      <th>16</th>\n",
              "      <td>&lt;tensorflow.python.keras.layers.convolutional.Conv2D object at 0x7f692011c438&gt;</td>\n",
              "      <td>block5_conv2</td>\n",
              "      <td>False</td>\n",
              "    </tr>\n",
              "    <tr>\n",
              "      <th>17</th>\n",
              "      <td>&lt;tensorflow.python.keras.layers.convolutional.Conv2D object at 0x7f6920102780&gt;</td>\n",
              "      <td>block5_conv3</td>\n",
              "      <td>False</td>\n",
              "    </tr>\n",
              "    <tr>\n",
              "      <th>18</th>\n",
              "      <td>&lt;tensorflow.python.keras.layers.pooling.MaxPooling2D object at 0x7f69200c1c50&gt;</td>\n",
              "      <td>block5_pool</td>\n",
              "      <td>False</td>\n",
              "    </tr>\n",
              "    <tr>\n",
              "      <th>19</th>\n",
              "      <td>&lt;tensorflow.python.keras.layers.core.Flatten object at 0x7f69200c6f98&gt;</td>\n",
              "      <td>flatten</td>\n",
              "      <td>False</td>\n",
              "    </tr>\n",
              "  </tbody>\n",
              "</table>\n",
              "</div>"
            ],
            "text/plain": [
              "                                                                          Layer Type  ... Layer Trainable\n",
              "0   <tensorflow.python.keras.engine.input_layer.InputLayer object at 0x7f692eb53dd8>  ...  False         \n",
              "1   <tensorflow.python.keras.layers.convolutional.Conv2D object at 0x7f692e4044e0>    ...  False         \n",
              "2   <tensorflow.python.keras.layers.convolutional.Conv2D object at 0x7f692e404fd0>    ...  False         \n",
              "3   <tensorflow.python.keras.layers.pooling.MaxPooling2D object at 0x7f6920102898>    ...  False         \n",
              "4   <tensorflow.python.keras.layers.convolutional.Conv2D object at 0x7f692010b940>    ...  False         \n",
              "5   <tensorflow.python.keras.layers.convolutional.Conv2D object at 0x7f6920111780>    ...  False         \n",
              "6   <tensorflow.python.keras.layers.pooling.MaxPooling2D object at 0x7f6920111b38>    ...  False         \n",
              "7   <tensorflow.python.keras.layers.convolutional.Conv2D object at 0x7f692011cbe0>    ...  False         \n",
              "8   <tensorflow.python.keras.layers.convolutional.Conv2D object at 0x7f692011fe10>    ...  False         \n",
              "9   <tensorflow.python.keras.layers.convolutional.Conv2D object at 0x7f6920128240>    ...  False         \n",
              "10  <tensorflow.python.keras.layers.pooling.MaxPooling2D object at 0x7f692012d5c0>    ...  False         \n",
              "11  <tensorflow.python.keras.layers.convolutional.Conv2D object at 0x7f6920135518>    ...  False         \n",
              "12  <tensorflow.python.keras.layers.convolutional.Conv2D object at 0x7f692013a4a8>    ...  False         \n",
              "13  <tensorflow.python.keras.layers.convolutional.Conv2D object at 0x7f692013add8>    ...  False         \n",
              "14  <tensorflow.python.keras.layers.pooling.MaxPooling2D object at 0x7f692012d978>    ...  False         \n",
              "15  <tensorflow.python.keras.layers.convolutional.Conv2D object at 0x7f692011cdd8>    ...  False         \n",
              "16  <tensorflow.python.keras.layers.convolutional.Conv2D object at 0x7f692011c438>    ...  False         \n",
              "17  <tensorflow.python.keras.layers.convolutional.Conv2D object at 0x7f6920102780>    ...  False         \n",
              "18  <tensorflow.python.keras.layers.pooling.MaxPooling2D object at 0x7f69200c1c50>    ...  False         \n",
              "19  <tensorflow.python.keras.layers.core.Flatten object at 0x7f69200c6f98>            ...  False         \n",
              "\n",
              "[20 rows x 3 columns]"
            ]
          },
          "metadata": {
            "tags": []
          },
          "execution_count": 7
        }
      ]
    },
    {
      "cell_type": "code",
      "metadata": {
        "id": "OvJvrtrgA3ja",
        "colab": {
          "base_uri": "https://localhost:8080/"
        },
        "outputId": "46899c19-2f44-47c9-8c43-7941889840c0"
      },
      "source": [
        "print(\"Trainable layers:\", vgg_model.trainable_weights)"
      ],
      "execution_count": 8,
      "outputs": [
        {
          "output_type": "stream",
          "text": [
            "Trainable layers: []\n"
          ],
          "name": "stdout"
        }
      ]
    },
    {
      "cell_type": "code",
      "metadata": {
        "id": "J_Zbyst4A3ja",
        "outputId": "6ff932bc-52d6-4df4-da16-160e48d987de",
        "colab": {
          "base_uri": "https://localhost:8080/",
          "height": 304
        }
      },
      "source": [
        "bottleneck_feature_example = vgg.predict(train_imgs_scaled[0:1])\n",
        "print(bottleneck_feature_example.shape)\n",
        "plt.imshow(bottleneck_feature_example[0][:,:,0])"
      ],
      "execution_count": 9,
      "outputs": [
        {
          "output_type": "stream",
          "text": [
            "(1, 4, 4, 512)\n"
          ],
          "name": "stdout"
        },
        {
          "output_type": "execute_result",
          "data": {
            "text/plain": [
              "<matplotlib.image.AxesImage at 0x7f68c57b5ef0>"
            ]
          },
          "metadata": {
            "tags": []
          },
          "execution_count": 9
        },
        {
          "output_type": "display_data",
          "data": {
            "image/png": "[encoded data removed]",
            "text/plain": [
              "<Figure size 432x288 with 1 Axes>"
            ]
          },
          "metadata": {
            "tags": [],
            "needs_background": "light"
          }
        }
      ]
    },
    {
      "cell_type": "code",
      "metadata": {
        "id": "_8LY2OOaA3jb"
      },
      "source": [
        "def get_bottleneck_features(model, input_imgs):\n",
        "    \n",
        "    features = model.predict(input_imgs, verbose=0)\n",
        "    return features"
      ],
      "execution_count": 10,
      "outputs": []
    },
    {
      "cell_type": "code",
      "metadata": {
        "id": "8sekjWocA3jb",
        "outputId": "bb54ac03-4660-4932-816f-2389c00facf1",
        "colab": {
          "base_uri": "https://localhost:8080/"
        }
      },
      "source": [
        "train_features_vgg = get_bottleneck_features(vgg_model, train_imgs_scaled)\n",
        "validation_features_vgg = get_bottleneck_features(vgg_model, validation_imgs_scaled)\n",
        "\n",
        "print('Train Bottleneck Features:', train_features_vgg.shape, \n",
        "      '\\tValidation Bottleneck Features:', validation_features_vgg.shape)"
      ],
      "execution_count": 11,
      "outputs": [
        {
          "output_type": "stream",
          "text": [
            "Train Bottleneck Features: (3000, 8192) \tValidation Bottleneck Features: (1000, 8192)\n"
          ],
          "name": "stdout"
        }
      ]
    },
    {
      "cell_type": "code",
      "metadata": {
        "id": "unerLhrzF2HL"
      },
      "source": [
        ""
      ],
      "execution_count": null,
      "outputs": []
    },
    {
      "cell_type": "code",
      "metadata": {
        "id": "qyFijnDhGBjn",
        "outputId": "5535330b-a91f-42c9-d129-95ec983268c8",
        "colab": {
          "base_uri": "https://localhost:8080/"
        }
      },
      "source": [
        "from tensorflow.keras.layers import Conv2D, MaxPooling2D, Flatten, Dense, Dropout, InputLayer\r\n",
        "from tensorflow.keras.models import Sequential\r\n",
        "from tensorflow.keras import optimizers\r\n",
        "\r\n",
        "model = Sequential()\r\n",
        "model.add(vgg_model)\r\n",
        "model.add(Dense(512, activation='relu', input_dim=input_shape))\r\n",
        "model.add(Dropout(0.3))\r\n",
        "model.add(Dense(512, activation='relu'))\r\n",
        "model.add(Dropout(0.3))\r\n",
        "model.add(Dense(1, activation='sigmoid'))\r\n",
        "\r\n",
        "model.compile(loss='binary_crossentropy',\r\n",
        "              optimizer=optimizers.RMSprop(lr=2e-5),\r\n",
        "              metrics=['accuracy'])\r\n",
        "\r\n",
        "model.summary()"
      ],
      "execution_count": 12,
      "outputs": [
        {
          "output_type": "stream",
          "text": [
            "Model: \"sequential\"\n",
            "_________________________________________________________________\n",
            "Layer (type)                 Output Shape              Param #   \n",
            "=================================================================\n",
            "model (Functional)           (None, 8192)              14714688  \n",
            "_________________________________________________________________\n",
            "dense (Dense)                (None, 512)               4194816   \n",
            "_________________________________________________________________\n",
            "dropout (Dropout)            (None, 512)               0         \n",
            "_________________________________________________________________\n",
            "dense_1 (Dense)              (None, 512)               262656    \n",
            "_________________________________________________________________\n",
            "dropout_1 (Dropout)          (None, 512)               0         \n",
            "_________________________________________________________________\n",
            "dense_2 (Dense)              (None, 1)                 513       \n",
            "=================================================================\n",
            "Total params: 19,172,673\n",
            "Trainable params: 4,457,985\n",
            "Non-trainable params: 14,714,688\n",
            "_________________________________________________________________\n"
          ],
          "name": "stdout"
        }
      ]
    },
    {
      "cell_type": "code",
      "metadata": {
        "id": "oXhFf4HLA3jc",
        "outputId": "e1242989-21ef-4f04-ca0f-e27cf7d0e943",
        "colab": {
          "base_uri": "https://localhost:8080/"
        }
      },
      "source": [
        "history = model.fit_generator(train_generator,  epochs=30,\r\n",
        "                              validation_data=val_generator,  verbose=1)"
      ],
      "execution_count": 13,
      "outputs": [
        {
          "output_type": "stream",
          "text": [
            "/usr/local/lib/python3.6/dist-packages/tensorflow/python/keras/engine/training.py:1844: UserWarning: `Model.fit_generator` is deprecated and will be removed in a future version. Please use `Model.fit`, which supports generators.\n",
            "  warnings.warn('`Model.fit_generator` is deprecated and '\n"
          ],
          "name": "stderr"
        },
        {
          "output_type": "stream",
          "text": [
            "Epoch 1/30\n",
            "100/100 [==============================] - 20s 189ms/step - loss: 5.3239 - accuracy: 0.5597 - val_loss: 1.2387 - val_accuracy: 0.8470\n",
            "Epoch 2/30\n",
            "100/100 [==============================] - 18s 180ms/step - loss: 2.4660 - accuracy: 0.7165 - val_loss: 0.9793 - val_accuracy: 0.8910\n",
            "Epoch 3/30\n",
            "100/100 [==============================] - 18s 182ms/step - loss: 1.8713 - accuracy: 0.7627 - val_loss: 0.8163 - val_accuracy: 0.9040\n",
            "Epoch 4/30\n",
            "100/100 [==============================] - 18s 181ms/step - loss: 1.6556 - accuracy: 0.7708 - val_loss: 0.7031 - val_accuracy: 0.9120\n",
            "Epoch 5/30\n",
            "100/100 [==============================] - 18s 180ms/step - loss: 1.6388 - accuracy: 0.7899 - val_loss: 0.8344 - val_accuracy: 0.9030\n",
            "Epoch 6/30\n",
            "100/100 [==============================] - 18s 179ms/step - loss: 1.4455 - accuracy: 0.7910 - val_loss: 0.7513 - val_accuracy: 0.9120\n",
            "Epoch 7/30\n",
            "100/100 [==============================] - 18s 182ms/step - loss: 1.3619 - accuracy: 0.7995 - val_loss: 0.6637 - val_accuracy: 0.9120\n",
            "Epoch 8/30\n",
            "100/100 [==============================] - 18s 181ms/step - loss: 1.3029 - accuracy: 0.7974 - val_loss: 0.6298 - val_accuracy: 0.9170\n",
            "Epoch 9/30\n",
            "100/100 [==============================] - 18s 179ms/step - loss: 1.1170 - accuracy: 0.8092 - val_loss: 0.6699 - val_accuracy: 0.9120\n",
            "Epoch 10/30\n",
            "100/100 [==============================] - 18s 180ms/step - loss: 0.9575 - accuracy: 0.8352 - val_loss: 0.5826 - val_accuracy: 0.9190\n",
            "Epoch 11/30\n",
            "100/100 [==============================] - 18s 180ms/step - loss: 0.8661 - accuracy: 0.8401 - val_loss: 0.5803 - val_accuracy: 0.9200\n",
            "Epoch 12/30\n",
            "100/100 [==============================] - 18s 181ms/step - loss: 0.9004 - accuracy: 0.8341 - val_loss: 0.5911 - val_accuracy: 0.9210\n",
            "Epoch 13/30\n",
            "100/100 [==============================] - 18s 179ms/step - loss: 0.8781 - accuracy: 0.8348 - val_loss: 0.5880 - val_accuracy: 0.9170\n",
            "Epoch 14/30\n",
            "100/100 [==============================] - 18s 180ms/step - loss: 0.9124 - accuracy: 0.8334 - val_loss: 0.5063 - val_accuracy: 0.9220\n",
            "Epoch 15/30\n",
            "100/100 [==============================] - 18s 180ms/step - loss: 0.8231 - accuracy: 0.8431 - val_loss: 0.5407 - val_accuracy: 0.9190\n",
            "Epoch 16/30\n",
            "100/100 [==============================] - 18s 181ms/step - loss: 0.7588 - accuracy: 0.8446 - val_loss: 0.5041 - val_accuracy: 0.9270\n",
            "Epoch 17/30\n",
            "100/100 [==============================] - 18s 181ms/step - loss: 0.7911 - accuracy: 0.8333 - val_loss: 0.4789 - val_accuracy: 0.9250\n",
            "Epoch 18/30\n",
            "100/100 [==============================] - 18s 180ms/step - loss: 0.7628 - accuracy: 0.8536 - val_loss: 0.4799 - val_accuracy: 0.9240\n",
            "Epoch 19/30\n",
            "100/100 [==============================] - 18s 180ms/step - loss: 0.7882 - accuracy: 0.8383 - val_loss: 0.4906 - val_accuracy: 0.9250\n",
            "Epoch 20/30\n",
            "100/100 [==============================] - 18s 180ms/step - loss: 0.7023 - accuracy: 0.8520 - val_loss: 0.4671 - val_accuracy: 0.9220\n",
            "Epoch 21/30\n",
            "100/100 [==============================] - 18s 182ms/step - loss: 0.7392 - accuracy: 0.8392 - val_loss: 0.4614 - val_accuracy: 0.9230\n",
            "Epoch 22/30\n",
            "100/100 [==============================] - 18s 179ms/step - loss: 0.6909 - accuracy: 0.8543 - val_loss: 0.4370 - val_accuracy: 0.9230\n",
            "Epoch 23/30\n",
            "100/100 [==============================] - 18s 179ms/step - loss: 0.6541 - accuracy: 0.8537 - val_loss: 0.4255 - val_accuracy: 0.9210\n",
            "Epoch 24/30\n",
            "100/100 [==============================] - 18s 180ms/step - loss: 0.6323 - accuracy: 0.8571 - val_loss: 0.4381 - val_accuracy: 0.9220\n",
            "Epoch 25/30\n",
            "100/100 [==============================] - 18s 180ms/step - loss: 0.5587 - accuracy: 0.8621 - val_loss: 0.4389 - val_accuracy: 0.9280\n",
            "Epoch 26/30\n",
            "100/100 [==============================] - 18s 180ms/step - loss: 0.5731 - accuracy: 0.8596 - val_loss: 0.4509 - val_accuracy: 0.9230\n",
            "Epoch 27/30\n",
            "100/100 [==============================] - 18s 180ms/step - loss: 0.5417 - accuracy: 0.8579 - val_loss: 0.4378 - val_accuracy: 0.9220\n",
            "Epoch 28/30\n",
            "100/100 [==============================] - 18s 180ms/step - loss: 0.6179 - accuracy: 0.8585 - val_loss: 0.4111 - val_accuracy: 0.9290\n",
            "Epoch 29/30\n",
            "100/100 [==============================] - 18s 180ms/step - loss: 0.4942 - accuracy: 0.8715 - val_loss: 0.3990 - val_accuracy: 0.9320\n",
            "Epoch 30/30\n",
            "100/100 [==============================] - 18s 180ms/step - loss: 0.5487 - accuracy: 0.8690 - val_loss: 0.3860 - val_accuracy: 0.9360\n"
          ],
          "name": "stdout"
        }
      ]
    },
    {
      "cell_type": "code",
      "metadata": {
        "id": "UV-VPb-lA3jc"
      },
      "source": [
        ""
      ],
      "execution_count": null,
      "outputs": []
    },
    {
      "cell_type": "code",
      "metadata": {
        "id": "P0Fk-e8wA3jd",
        "colab": {
          "base_uri": "https://localhost:8080/",
          "height": 308
        },
        "outputId": "d86bb56d-225d-4b52-c931-66f4ea237121"
      },
      "source": [
        "f, (ax1, ax2) = plt.subplots(1, 2, figsize=(12, 4))\n",
        "t = f.suptitle('Pre-trained CNN (Transfer Learning) Performance', fontsize=12)\n",
        "f.subplots_adjust(top=0.85, wspace=0.3)\n",
        "\n",
        "epoch_list = list(range(1,31))\n",
        "ax1.plot(epoch_list, history.history['accuracy'], label='Train Accuracy')\n",
        "ax1.plot(epoch_list, history.history['val_accuracy'], label='Validation Accuracy')\n",
        "ax1.set_xticks(np.arange(0, 31, 5))\n",
        "ax1.set_ylabel('Accuracy Value')\n",
        "ax1.set_xlabel('Epoch')\n",
        "ax1.set_title('Accuracy')\n",
        "l1 = ax1.legend(loc=\"best\")\n",
        "\n",
        "ax2.plot(epoch_list, history.history['loss'], label='Train Loss')\n",
        "ax2.plot(epoch_list, history.history['val_loss'], label='Validation Loss')\n",
        "ax2.set_xticks(np.arange(0, 31, 5))\n",
        "ax2.set_ylabel('Loss Value')\n",
        "ax2.set_xlabel('Epoch')\n",
        "ax2.set_title('Loss')\n",
        "l2 = ax2.legend(loc=\"best\")"
      ],
      "execution_count": 14,
      "outputs": [
        {
          "output_type": "display_data",
          "data": {
            "image/png": "[encoded data removed]",
            "text/plain": [
              "<Figure size 864x288 with 2 Axes>"
            ]
          },
          "metadata": {
            "tags": [],
            "needs_background": "light"
          }
        }
      ]
    },
    {
      "cell_type": "code",
      "metadata": {
        "id": "wHLV0XfKA3jd"
      },
      "source": [
        "model.save('4-2-augpretrained_cnn.h5')"
      ],
      "execution_count": null,
      "outputs": []
    },
    {
      "cell_type": "code",
      "metadata": {
        "id": "eBjX3kbpA3je"
      },
      "source": [
        ""
      ],
      "execution_count": null,
      "outputs": []
    },
    {
      "cell_type": "code",
      "metadata": {
        "id": "3IaOWSbaA3je"
      },
      "source": [
        ""
      ],
      "execution_count": null,
      "outputs": []
    },
    {
      "cell_type": "code",
      "metadata": {
        "id": "Q7SzUeawA3jn"
      },
      "source": [
        ""
      ],
      "execution_count": null,
      "outputs": []
    }
  ]
}
