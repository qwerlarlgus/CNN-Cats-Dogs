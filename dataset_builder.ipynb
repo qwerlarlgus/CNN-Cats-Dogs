{
  "nbformat": 4,
  "nbformat_minor": 0,
  "metadata": {
    "kernelspec": {
      "display_name": "Python 3",
      "language": "python",
      "name": "python3"
    },
    "language_info": {
      "codemirror_mode": {
        "name": "ipython",
        "version": 3
      },
      "file_extension": ".py",
      "mimetype": "text/x-python",
      "name": "python",
      "nbconvert_exporter": "python",
      "pygments_lexer": "ipython3",
      "version": "3.7.6"
    },
    "colab": {
      "name": "data_set_builder.ipynb",
      "provenance": [],
      "collapsed_sections": [],
      "include_colab_link": true
    },
    "accelerator": "GPU"
  },
  "cells": [
    {
      "cell_type": "markdown",
      "metadata": {
        "id": "view-in-github",
        "colab_type": "text"
      },
      "source": [
        "<a href=\"https://colab.research.google.com/github/JSJeong-me/CNN-Cats-Dogs/blob/main/data_set_builder.ipynb\" target=\"_parent\"><img src=\"https://colab.research.google.com/assets/colab-badge.svg\" alt=\"Open In Colab\"/></a>"
      ]
    },
    {
      "cell_type": "code",
      "metadata": {
        "id": "eV_2xHefReRr"
      },
      "source": [
        "!unzip training_data.zip"
      ],
      "execution_count": null,
      "outputs": []
    },
    {
      "cell_type": "code",
      "metadata": {
        "colab": {
          "base_uri": "https://localhost:8080/"
        },
        "id": "vUNH1tVwWre2",
        "outputId": "04cd70e2-5be3-4237-efb8-cff2ef7f2791"
      },
      "source": [
        "!ls -l"
      ],
      "execution_count": null,
      "outputs": [
        {
          "output_type": "stream",
          "text": [
            "total 66636\n",
            "drwx------ 5 root root     4096 Jan 21 06:04 drive\n",
            "drwxr-xr-x 1 root root     4096 Jan 15 17:28 sample_data\n",
            "drwxr-xr-x 2 root root    20480 Jan 21 06:20 test_data\n",
            "drwxr-xr-x 2 root root    69632 Jan 21 06:20 training_data\n",
            "-rw-r--r-- 1 root root 68110008 Jan 21 06:12 training_data.zip\n",
            "drwxr-xr-x 2 root root    20480 Jan 21 06:20 validation_data\n"
          ],
          "name": "stdout"
        }
      ]
    },
    {
      "cell_type": "code",
      "metadata": {
        "colab": {
          "base_uri": "https://localhost:8080/",
          "height": 35
        },
        "id": "mjmsV3TxTYLb",
        "outputId": "16a1b0cb-1036-4372-a337-d879d6c869f6"
      },
      "source": [
        "import keras\r\n",
        "keras.__version__"
      ],
      "execution_count": null,
      "outputs": [
        {
          "output_type": "execute_result",
          "data": {
            "application/vnd.google.colaboratory.intrinsic+json": {
              "type": "string"
            },
            "text/plain": [
              "'2.4.3'"
            ]
          },
          "metadata": {
            "tags": []
          },
          "execution_count": 4
        }
      ]
    },
    {
      "cell_type": "code",
      "metadata": {
        "id": "_LMVYxBOTfPH"
      },
      "source": [
        "import glob\r\n",
        "import numpy as np\r\n",
        "import matplotlib.pyplot as plt\r\n",
        "from tensorflow.keras.preprocessing.image import ImageDataGenerator, load_img, img_to_array, array_to_img"
      ],
      "execution_count": null,
      "outputs": []
    },
    {
      "cell_type": "code",
      "metadata": {
        "colab": {
          "base_uri": "https://localhost:8080/"
        },
        "id": "DrV7VwuQT70T",
        "outputId": "b46f3fcd-7310-4abb-b4ab-f87f9d350dc6"
      },
      "source": [
        "IMG_DIM = (150, 150)\r\n",
        "\r\n",
        "train_files = glob.glob('training_data/*')\r\n",
        "train_imgs = [img_to_array(load_img(img, target_size=IMG_DIM)) for img in train_files]\r\n",
        "train_imgs = np.array(train_imgs)\r\n",
        "train_labels = [fn.split('/')[1].split('.')[0].strip() for fn in train_files]\r\n",
        "\r\n",
        "validation_files = glob.glob('validation_data/*')\r\n",
        "validation_imgs = [img_to_array(load_img(img, target_size=IMG_DIM)) for img in validation_files]\r\n",
        "validation_imgs = np.array(validation_imgs)\r\n",
        "validation_labels = [fn.split('/')[1].split('.')[0].strip() for fn in validation_files]\r\n",
        "\r\n",
        "print('Train dataset shape:', train_imgs.shape, \r\n",
        "      '\\tValidation dataset shape:', validation_imgs.shape)"
      ],
      "execution_count": null,
      "outputs": [
        {
          "output_type": "stream",
          "text": [
            "Train dataset shape: (2000, 150, 150, 3) \tValidation dataset shape: (500, 150, 150, 3)\n"
          ],
          "name": "stdout"
        }
      ]
    },
    {
      "cell_type": "code",
      "metadata": {
        "id": "4c3maBsXURop"
      },
      "source": [
        "train_imgs_scaled = train_imgs.astype('float32')\r\n",
        "validation_imgs_scaled  = validation_imgs.astype('float32')\r\n",
        "train_imgs_scaled /= 255\r\n",
        "validation_imgs_scaled /= 255"
      ],
      "execution_count": null,
      "outputs": []
    },
    {
      "cell_type": "code",
      "metadata": {
        "colab": {
          "base_uri": "https://localhost:8080/",
          "height": 184
        },
        "id": "7i3vDue3UV2h",
        "outputId": "a2699451-a459-4afa-d449-a8bfbfb4ffc9"
      },
      "source": [
        "print(train_imgs[0].shape)\r\n",
        "array_to_img(train_imgs[0])"
      ],
      "execution_count": null,
      "outputs": [
        {
          "output_type": "stream",
          "text": [
            "(150, 150, 3)\n"
          ],
          "name": "stdout"
        },
        {
          "output_type": "execute_result",
          "data": {
            "image/png": "[encoded data removed]",
            "text/plain": [
              "<PIL.Image.Image image mode=RGB size=150x150 at 0x7FA998F3A550>"
            ]
          },
          "metadata": {
            "tags": []
          },
          "execution_count": 8
        }
      ]
    },
    {
      "cell_type": "code",
      "metadata": {
        "colab": {
          "base_uri": "https://localhost:8080/"
        },
        "id": "qPztrSB4UauC",
        "outputId": "b88e7d48-e1f3-4ab2-e1fa-a57d4e2bc060"
      },
      "source": [
        "batch_size = 50\r\n",
        "num_classes = 2\r\n",
        "epochs = 100\r\n",
        "input_shape = (150, 150, 3)\r\n",
        "\r\n",
        "# encode text category labels\r\n",
        "from sklearn.preprocessing import LabelEncoder\r\n",
        "\r\n",
        "le = LabelEncoder()\r\n",
        "le.fit(train_labels)\r\n",
        "train_labels_enc = le.transform(train_labels)\r\n",
        "validation_labels_enc = le.transform(validation_labels)\r\n",
        "\r\n",
        "print(train_labels[1495:1505], train_labels_enc[1495:1505])"
      ],
      "execution_count": null,
      "outputs": [
        {
          "output_type": "stream",
          "text": [
            "['cat', 'cat', 'cat', 'cat', 'dog', 'dog', 'dog', 'dog', 'dog', 'cat'] [0 0 0 0 1 1 1 1 1 0]\n"
          ],
          "name": "stdout"
        }
      ]
    },
    {
      "cell_type": "code",
      "metadata": {
        "colab": {
          "base_uri": "https://localhost:8080/"
        },
        "id": "RJhSk_j3VA7w",
        "outputId": "b2a732d8-34d7-45e5-c481-ce32487109c6"
      },
      "source": [
        "from google.colab import drive\n",
        "drive.mount('/content/drive')"
      ],
      "execution_count": null,
      "outputs": [
        {
          "output_type": "stream",
          "text": [
            "Mounted at /content/drive\n"
          ],
          "name": "stdout"
        }
      ]
    },
    {
      "cell_type": "code",
      "metadata": {
        "id": "kyrt6XoVUpbW"
      },
      "source": [
        "from tensorflow.keras.layers import Conv2D, MaxPooling2D, Flatten, Dense, Dropout\r\n",
        "from tensorflow.keras.models import Sequential\r\n",
        "from tensorflow.keras import optimizers"
      ],
      "execution_count": null,
      "outputs": []
    },
    {
      "cell_type": "code",
      "metadata": {
        "colab": {
          "base_uri": "https://localhost:8080/"
        },
        "id": "nesh0bHKReRw",
        "outputId": "0dac2a2c-e18d-4819-b68c-be6ad94ce693"
      },
      "source": [
        "model = Sequential()\n",
        "\n",
        "model.add(Conv2D(64, (3, 3), padding=\"same\",  activation='relu', input_shape=input_shape),)\n",
        "model.add(Conv2D(64, (3,3), padding=\"same\", activation=\"relu\"))\n",
        "model.add(MaxPooling2D(pool_size=(2, 2), strides=(2,2)))\n",
        "\n",
        "model.add(Conv2D(128, (3, 3), padding=\"same\", activation='relu'))\n",
        "model.add(Conv2D(128, (3, 3), padding=\"same\", activation='relu'))\n",
        "model.add(MaxPooling2D(pool_size=(2, 2), strides=(2,2)))\n",
        "\n",
        "model.add(Conv2D(256, (3, 3), padding=\"same\", activation='relu'))\n",
        "model.add(Conv2D(256, (3, 3), padding=\"same\", activation='relu'))\n",
        "model.add(Conv2D(256, (3, 3), padding=\"same\", activation='relu'))\n",
        "model.add(MaxPooling2D(pool_size=(2, 2), strides=(2,2)))\n",
        "\n",
        "model.add(Conv2D(512, (3, 3), padding=\"same\", activation='relu'))\n",
        "model.add(Conv2D(512, (3, 3), padding=\"same\", activation='relu'))\n",
        "model.add(Conv2D(512, (3, 3), padding=\"same\", activation='relu'))\n",
        "model.add(MaxPooling2D(pool_size=(2, 2), strides=(2,2)))\n",
        "\n",
        "model.add(Conv2D(512, kernel_size=(3,3), padding=\"same\", activation=\"relu\"))\n",
        "model.add(Conv2D(512, kernel_size=(3,3), padding=\"same\", activation=\"relu\"))\n",
        "model.add(Conv2D(512, kernel_size=(3,3), padding=\"same\", activation=\"relu\"))\n",
        "model.add(MaxPooling2D(pool_size=(2,2),strides=(2,2)))\n",
        "\n",
        "model.add(Flatten())\n",
        "model.add(Dense(4096, activation='relu'))\n",
        "\n",
        "model.add(Dropout(0.5))\n",
        "model.add(Dense(4096, activation='relu'))\n",
        "\n",
        "model.add(Dense(1, activation='sigmoid'))\n",
        "\n",
        "model.compile(loss='binary_crossentropy',\n",
        "              optimizer='rmsprop',\n",
        "              metrics=['accuracy'])\n",
        "\n",
        "model.summary()"
      ],
      "execution_count": null,
      "outputs": [
        {
          "output_type": "stream",
          "text": [
            "Model: \"sequential_1\"\n",
            "_________________________________________________________________\n",
            "Layer (type)                 Output Shape              Param #   \n",
            "=================================================================\n",
            "conv2d_13 (Conv2D)           (None, 150, 150, 64)      1792      \n",
            "_________________________________________________________________\n",
            "conv2d_14 (Conv2D)           (None, 150, 150, 64)      36928     \n",
            "_________________________________________________________________\n",
            "max_pooling2d_5 (MaxPooling2 (None, 75, 75, 64)        0         \n",
            "_________________________________________________________________\n",
            "conv2d_15 (Conv2D)           (None, 75, 75, 128)       73856     \n",
            "_________________________________________________________________\n",
            "conv2d_16 (Conv2D)           (None, 75, 75, 128)       147584    \n",
            "_________________________________________________________________\n",
            "max_pooling2d_6 (MaxPooling2 (None, 37, 37, 128)       0         \n",
            "_________________________________________________________________\n",
            "conv2d_17 (Conv2D)           (None, 37, 37, 256)       295168    \n",
            "_________________________________________________________________\n",
            "conv2d_18 (Conv2D)           (None, 37, 37, 256)       590080    \n",
            "_________________________________________________________________\n",
            "conv2d_19 (Conv2D)           (None, 37, 37, 256)       590080    \n",
            "_________________________________________________________________\n",
            "max_pooling2d_7 (MaxPooling2 (None, 18, 18, 256)       0         \n",
            "_________________________________________________________________\n",
            "conv2d_20 (Conv2D)           (None, 18, 18, 512)       1180160   \n",
            "_________________________________________________________________\n",
            "conv2d_21 (Conv2D)           (None, 18, 18, 512)       2359808   \n",
            "_________________________________________________________________\n",
            "conv2d_22 (Conv2D)           (None, 18, 18, 512)       2359808   \n",
            "_________________________________________________________________\n",
            "max_pooling2d_8 (MaxPooling2 (None, 9, 9, 512)         0         \n",
            "_________________________________________________________________\n",
            "conv2d_23 (Conv2D)           (None, 9, 9, 512)         2359808   \n",
            "_________________________________________________________________\n",
            "conv2d_24 (Conv2D)           (None, 9, 9, 512)         2359808   \n",
            "_________________________________________________________________\n",
            "conv2d_25 (Conv2D)           (None, 9, 9, 512)         2359808   \n",
            "_________________________________________________________________\n",
            "max_pooling2d_9 (MaxPooling2 (None, 4, 4, 512)         0         \n",
            "_________________________________________________________________\n",
            "flatten_1 (Flatten)          (None, 8192)              0         \n",
            "_________________________________________________________________\n",
            "dense_3 (Dense)              (None, 4096)              33558528  \n",
            "_________________________________________________________________\n",
            "dropout_1 (Dropout)          (None, 4096)              0         \n",
            "_________________________________________________________________\n",
            "dense_4 (Dense)              (None, 4096)              16781312  \n",
            "_________________________________________________________________\n",
            "dense_5 (Dense)              (None, 1)                 4097      \n",
            "=================================================================\n",
            "Total params: 65,058,625\n",
            "Trainable params: 65,058,625\n",
            "Non-trainable params: 0\n",
            "_________________________________________________________________\n"
          ],
          "name": "stdout"
        }
      ]
    },
    {
      "cell_type": "code",
      "metadata": {
        "colab": {
          "base_uri": "https://localhost:8080/"
        },
        "id": "HDwONAUGdSpN",
        "outputId": "3937fc54-14af-4bd7-ce28-47c504822cfa"
      },
      "source": [
        "history = model.fit(x=train_imgs_scaled, y=train_labels_enc,\r\n",
        "                    validation_data=(validation_imgs_scaled, validation_labels_enc),\r\n",
        "                    batch_size=batch_size,\r\n",
        "                    epochs=epochs,\r\n",
        "                    verbose=1)"
      ],
      "execution_count": null,
      "outputs": [
        {
          "output_type": "stream",
          "text": [
            "Epoch 1/100\n",
            "40/40 [==============================] - 17s 388ms/step - loss: 11681.0317 - accuracy: 0.4914 - val_loss: 0.6936 - val_accuracy: 0.5000\n",
            "Epoch 2/100\n",
            "40/40 [==============================] - 16s 390ms/step - loss: 0.6939 - accuracy: 0.4957 - val_loss: 0.6931 - val_accuracy: 0.5000\n",
            "Epoch 3/100\n",
            "40/40 [==============================] - 16s 393ms/step - loss: 0.6945 - accuracy: 0.4959 - val_loss: 0.6932 - val_accuracy: 0.5000\n",
            "Epoch 4/100\n",
            "40/40 [==============================] - 15s 387ms/step - loss: 0.6935 - accuracy: 0.4930 - val_loss: 0.6932 - val_accuracy: 0.5000\n",
            "Epoch 5/100\n",
            "40/40 [==============================] - 15s 384ms/step - loss: 0.6938 - accuracy: 0.4831 - val_loss: 0.6932 - val_accuracy: 0.5000\n",
            "Epoch 6/100\n",
            "40/40 [==============================] - 15s 384ms/step - loss: 0.6936 - accuracy: 0.4912 - val_loss: 0.6932 - val_accuracy: 0.5000\n",
            "Epoch 7/100\n",
            "40/40 [==============================] - 15s 386ms/step - loss: 1.4301 - accuracy: 0.5013 - val_loss: 0.6932 - val_accuracy: 0.5000\n",
            "Epoch 8/100\n",
            "40/40 [==============================] - 15s 386ms/step - loss: 0.6942 - accuracy: 0.4873 - val_loss: 0.6932 - val_accuracy: 0.5000\n",
            "Epoch 9/100\n",
            "40/40 [==============================] - 15s 385ms/step - loss: 0.6935 - accuracy: 0.4865 - val_loss: 0.6932 - val_accuracy: 0.5000\n",
            "Epoch 10/100\n",
            "40/40 [==============================] - 15s 385ms/step - loss: 0.6946 - accuracy: 0.5073 - val_loss: 0.6932 - val_accuracy: 0.5000\n",
            "Epoch 11/100\n",
            "40/40 [==============================] - 15s 384ms/step - loss: 0.8716 - accuracy: 0.5042 - val_loss: 0.6932 - val_accuracy: 0.5000\n",
            "Epoch 12/100\n",
            "40/40 [==============================] - 15s 383ms/step - loss: 0.6936 - accuracy: 0.4834 - val_loss: 0.6933 - val_accuracy: 0.5000\n",
            "Epoch 13/100\n",
            "40/40 [==============================] - 15s 383ms/step - loss: 0.7242 - accuracy: 0.4822 - val_loss: 0.6932 - val_accuracy: 0.5000\n",
            "Epoch 14/100\n",
            "40/40 [==============================] - 15s 383ms/step - loss: 0.6940 - accuracy: 0.4857 - val_loss: 0.6932 - val_accuracy: 0.5000\n",
            "Epoch 15/100\n",
            "40/40 [==============================] - 15s 379ms/step - loss: 0.6931 - accuracy: 0.5073 - val_loss: 0.6931 - val_accuracy: 0.5000\n",
            "Epoch 16/100\n",
            "40/40 [==============================] - 15s 374ms/step - loss: 0.6935 - accuracy: 0.4808 - val_loss: 0.6931 - val_accuracy: 0.5000\n",
            "Epoch 17/100\n",
            "40/40 [==============================] - 15s 373ms/step - loss: 0.6934 - accuracy: 0.4886 - val_loss: 0.6932 - val_accuracy: 0.5000\n",
            "Epoch 18/100\n",
            "40/40 [==============================] - 15s 374ms/step - loss: 0.6935 - accuracy: 0.5039 - val_loss: 0.6932 - val_accuracy: 0.5000\n",
            "Epoch 19/100\n",
            "40/40 [==============================] - 15s 374ms/step - loss: 0.6934 - accuracy: 0.4870 - val_loss: 0.6932 - val_accuracy: 0.5000\n",
            "Epoch 20/100\n",
            "40/40 [==============================] - 15s 374ms/step - loss: 0.6933 - accuracy: 0.4932 - val_loss: 0.6932 - val_accuracy: 0.5000\n",
            "Epoch 21/100\n",
            "40/40 [==============================] - 15s 375ms/step - loss: 0.6934 - accuracy: 0.4911 - val_loss: 0.6931 - val_accuracy: 0.5000\n",
            "Epoch 22/100\n",
            "40/40 [==============================] - 15s 374ms/step - loss: 0.6933 - accuracy: 0.4836 - val_loss: 0.6932 - val_accuracy: 0.5000\n",
            "Epoch 23/100\n",
            "40/40 [==============================] - 15s 374ms/step - loss: 0.6931 - accuracy: 0.5073 - val_loss: 0.6932 - val_accuracy: 0.5000\n",
            "Epoch 24/100\n",
            "40/40 [==============================] - 15s 374ms/step - loss: 0.6934 - accuracy: 0.4936 - val_loss: 0.6931 - val_accuracy: 0.5000\n",
            "Epoch 25/100\n",
            "40/40 [==============================] - 15s 374ms/step - loss: 0.6933 - accuracy: 0.4848 - val_loss: 0.6932 - val_accuracy: 0.5000\n",
            "Epoch 26/100\n",
            "40/40 [==============================] - 15s 374ms/step - loss: 0.6934 - accuracy: 0.4779 - val_loss: 0.6931 - val_accuracy: 0.5000\n",
            "Epoch 27/100\n",
            "40/40 [==============================] - 15s 374ms/step - loss: 0.6932 - accuracy: 0.5004 - val_loss: 0.6932 - val_accuracy: 0.5000\n",
            "Epoch 28/100\n",
            "40/40 [==============================] - 15s 374ms/step - loss: 0.6932 - accuracy: 0.4941 - val_loss: 0.6932 - val_accuracy: 0.5000\n",
            "Epoch 29/100\n",
            "40/40 [==============================] - 15s 373ms/step - loss: 0.6932 - accuracy: 0.4891 - val_loss: 0.6931 - val_accuracy: 0.5000\n",
            "Epoch 30/100\n",
            "40/40 [==============================] - 15s 374ms/step - loss: 0.6932 - accuracy: 0.4978 - val_loss: 0.6932 - val_accuracy: 0.5000\n",
            "Epoch 31/100\n",
            "40/40 [==============================] - 15s 374ms/step - loss: 0.6932 - accuracy: 0.4824 - val_loss: 0.6931 - val_accuracy: 0.5000\n",
            "Epoch 32/100\n",
            "40/40 [==============================] - 15s 374ms/step - loss: 0.6932 - accuracy: 0.5056 - val_loss: 0.6931 - val_accuracy: 0.5000\n",
            "Epoch 33/100\n",
            "40/40 [==============================] - 15s 374ms/step - loss: 0.6932 - accuracy: 0.4965 - val_loss: 0.6931 - val_accuracy: 0.5000\n",
            "Epoch 34/100\n",
            "40/40 [==============================] - 15s 375ms/step - loss: 0.6932 - accuracy: 0.4985 - val_loss: 0.6932 - val_accuracy: 0.5000\n",
            "Epoch 35/100\n",
            "40/40 [==============================] - 15s 374ms/step - loss: 0.6931 - accuracy: 0.5072 - val_loss: 0.6931 - val_accuracy: 0.5000\n",
            "Epoch 36/100\n",
            "40/40 [==============================] - 15s 374ms/step - loss: 0.6932 - accuracy: 0.4841 - val_loss: 0.6931 - val_accuracy: 0.5000\n",
            "Epoch 37/100\n",
            "40/40 [==============================] - 15s 374ms/step - loss: 0.6931 - accuracy: 0.5030 - val_loss: 0.6932 - val_accuracy: 0.5000\n",
            "Epoch 38/100\n",
            "40/40 [==============================] - 15s 373ms/step - loss: 0.6931 - accuracy: 0.5099 - val_loss: 0.6932 - val_accuracy: 0.5000\n",
            "Epoch 39/100\n",
            "40/40 [==============================] - 15s 373ms/step - loss: 0.6932 - accuracy: 0.4934 - val_loss: 0.6931 - val_accuracy: 0.5000\n",
            "Epoch 40/100\n",
            "40/40 [==============================] - 15s 373ms/step - loss: 0.6931 - accuracy: 0.5265 - val_loss: 0.6931 - val_accuracy: 0.5000\n",
            "Epoch 41/100\n",
            "40/40 [==============================] - 15s 374ms/step - loss: 0.6932 - accuracy: 0.4923 - val_loss: 0.6931 - val_accuracy: 0.5000\n",
            "Epoch 42/100\n",
            "40/40 [==============================] - 15s 373ms/step - loss: 0.6933 - accuracy: 0.4752 - val_loss: 0.6931 - val_accuracy: 0.5000\n",
            "Epoch 43/100\n",
            "40/40 [==============================] - 15s 373ms/step - loss: 0.6932 - accuracy: 0.4913 - val_loss: 0.6931 - val_accuracy: 0.5000\n",
            "Epoch 44/100\n",
            "40/40 [==============================] - 15s 374ms/step - loss: 0.6932 - accuracy: 0.4990 - val_loss: 0.6931 - val_accuracy: 0.5000\n",
            "Epoch 45/100\n",
            "40/40 [==============================] - 15s 374ms/step - loss: 0.6931 - accuracy: 0.5108 - val_loss: 0.6931 - val_accuracy: 0.5000\n",
            "Epoch 46/100\n",
            "40/40 [==============================] - 15s 375ms/step - loss: 0.6932 - accuracy: 0.5007 - val_loss: 0.6931 - val_accuracy: 0.5000\n",
            "Epoch 47/100\n",
            "40/40 [==============================] - 15s 375ms/step - loss: 0.6932 - accuracy: 0.4833 - val_loss: 0.6931 - val_accuracy: 0.5000\n",
            "Epoch 48/100\n",
            "40/40 [==============================] - 15s 375ms/step - loss: 0.6929 - accuracy: 0.5354 - val_loss: 0.6931 - val_accuracy: 0.5000\n",
            "Epoch 49/100\n",
            "40/40 [==============================] - 15s 375ms/step - loss: 0.6933 - accuracy: 0.4933 - val_loss: 0.6931 - val_accuracy: 0.5000\n",
            "Epoch 50/100\n",
            "40/40 [==============================] - 15s 375ms/step - loss: 0.6932 - accuracy: 0.4988 - val_loss: 0.6931 - val_accuracy: 0.5000\n",
            "Epoch 51/100\n",
            "40/40 [==============================] - 15s 378ms/step - loss: 0.6932 - accuracy: 0.5005 - val_loss: 0.6931 - val_accuracy: 0.5000\n",
            "Epoch 52/100\n",
            "40/40 [==============================] - 15s 374ms/step - loss: 0.6932 - accuracy: 0.4874 - val_loss: 0.6931 - val_accuracy: 0.5000\n",
            "Epoch 53/100\n",
            "40/40 [==============================] - 15s 374ms/step - loss: 0.6931 - accuracy: 0.5141 - val_loss: 0.6931 - val_accuracy: 0.5000\n",
            "Epoch 54/100\n",
            "40/40 [==============================] - 15s 374ms/step - loss: 0.6932 - accuracy: 0.4841 - val_loss: 0.6931 - val_accuracy: 0.5000\n",
            "Epoch 55/100\n",
            "40/40 [==============================] - 15s 374ms/step - loss: 0.6932 - accuracy: 0.5005 - val_loss: 0.6931 - val_accuracy: 0.5000\n",
            "Epoch 56/100\n",
            "40/40 [==============================] - 15s 373ms/step - loss: 0.6931 - accuracy: 0.5171 - val_loss: 0.6931 - val_accuracy: 0.5000\n",
            "Epoch 57/100\n",
            "40/40 [==============================] - 15s 374ms/step - loss: 0.6932 - accuracy: 0.4897 - val_loss: 0.6931 - val_accuracy: 0.5000\n",
            "Epoch 58/100\n",
            "40/40 [==============================] - 15s 374ms/step - loss: 0.6932 - accuracy: 0.4976 - val_loss: 0.6931 - val_accuracy: 0.5000\n",
            "Epoch 59/100\n",
            "40/40 [==============================] - 15s 374ms/step - loss: 0.6932 - accuracy: 0.4931 - val_loss: 0.6931 - val_accuracy: 0.5000\n",
            "Epoch 60/100\n",
            "40/40 [==============================] - 15s 374ms/step - loss: 0.6931 - accuracy: 0.5194 - val_loss: 0.6931 - val_accuracy: 0.5000\n",
            "Epoch 61/100\n",
            "40/40 [==============================] - 15s 374ms/step - loss: 0.6932 - accuracy: 0.4942 - val_loss: 0.6931 - val_accuracy: 0.5000\n",
            "Epoch 62/100\n",
            "40/40 [==============================] - 15s 374ms/step - loss: 0.6932 - accuracy: 0.4985 - val_loss: 0.6931 - val_accuracy: 0.5000\n",
            "Epoch 63/100\n",
            "40/40 [==============================] - 15s 374ms/step - loss: 0.6932 - accuracy: 0.4849 - val_loss: 0.6932 - val_accuracy: 0.5000\n",
            "Epoch 64/100\n",
            "40/40 [==============================] - 15s 374ms/step - loss: 0.6932 - accuracy: 0.4896 - val_loss: 0.6932 - val_accuracy: 0.5000\n",
            "Epoch 65/100\n",
            "40/40 [==============================] - 15s 375ms/step - loss: 0.6932 - accuracy: 0.5023 - val_loss: 0.6932 - val_accuracy: 0.5000\n",
            "Epoch 66/100\n",
            "40/40 [==============================] - 15s 374ms/step - loss: 0.6930 - accuracy: 0.5192 - val_loss: 0.6931 - val_accuracy: 0.5000\n",
            "Epoch 67/100\n",
            "40/40 [==============================] - 15s 374ms/step - loss: 0.6931 - accuracy: 0.4985 - val_loss: 0.6931 - val_accuracy: 0.5000\n",
            "Epoch 68/100\n",
            "40/40 [==============================] - 15s 374ms/step - loss: 0.6932 - accuracy: 0.4998 - val_loss: 0.6931 - val_accuracy: 0.5000\n",
            "Epoch 69/100\n",
            "40/40 [==============================] - 15s 374ms/step - loss: 0.6932 - accuracy: 0.5053 - val_loss: 0.6931 - val_accuracy: 0.5000\n",
            "Epoch 70/100\n",
            "40/40 [==============================] - 15s 374ms/step - loss: 0.6932 - accuracy: 0.4803 - val_loss: 0.6931 - val_accuracy: 0.5000\n",
            "Epoch 71/100\n",
            "40/40 [==============================] - 15s 375ms/step - loss: 0.6933 - accuracy: 0.5079 - val_loss: 0.6931 - val_accuracy: 0.5000\n",
            "Epoch 72/100\n",
            "40/40 [==============================] - 15s 375ms/step - loss: 0.6931 - accuracy: 0.4959 - val_loss: 0.6931 - val_accuracy: 0.5000\n",
            "Epoch 73/100\n",
            "40/40 [==============================] - 15s 374ms/step - loss: 0.6931 - accuracy: 0.5003 - val_loss: 0.6931 - val_accuracy: 0.5000\n",
            "Epoch 74/100\n",
            "40/40 [==============================] - 15s 375ms/step - loss: 0.6932 - accuracy: 0.4911 - val_loss: 0.6931 - val_accuracy: 0.5000\n",
            "Epoch 75/100\n",
            "40/40 [==============================] - 15s 375ms/step - loss: 0.6932 - accuracy: 0.5024 - val_loss: 0.6931 - val_accuracy: 0.5000\n",
            "Epoch 76/100\n",
            "40/40 [==============================] - 15s 375ms/step - loss: 0.6932 - accuracy: 0.5062 - val_loss: 0.6931 - val_accuracy: 0.5000\n",
            "Epoch 77/100\n",
            "40/40 [==============================] - 15s 375ms/step - loss: 0.6932 - accuracy: 0.4795 - val_loss: 0.6931 - val_accuracy: 0.5000\n",
            "Epoch 78/100\n",
            "40/40 [==============================] - 15s 375ms/step - loss: 0.6932 - accuracy: 0.5093 - val_loss: 0.6931 - val_accuracy: 0.5000\n",
            "Epoch 79/100\n",
            "40/40 [==============================] - 15s 375ms/step - loss: 0.6932 - accuracy: 0.4988 - val_loss: 0.6931 - val_accuracy: 0.5000\n",
            "Epoch 80/100\n",
            "40/40 [==============================] - 15s 376ms/step - loss: 0.6933 - accuracy: 0.4707 - val_loss: 0.6931 - val_accuracy: 0.5000\n",
            "Epoch 81/100\n",
            "40/40 [==============================] - 15s 375ms/step - loss: 0.6931 - accuracy: 0.5181 - val_loss: 0.6931 - val_accuracy: 0.5000\n",
            "Epoch 82/100\n",
            "40/40 [==============================] - 15s 375ms/step - loss: 0.6931 - accuracy: 0.5128 - val_loss: 0.6931 - val_accuracy: 0.5000\n",
            "Epoch 83/100\n",
            "40/40 [==============================] - 15s 375ms/step - loss: 0.6932 - accuracy: 0.4979 - val_loss: 0.6931 - val_accuracy: 0.5000\n",
            "Epoch 84/100\n",
            "40/40 [==============================] - 15s 375ms/step - loss: 0.6932 - accuracy: 0.5030 - val_loss: 0.6931 - val_accuracy: 0.5000\n",
            "Epoch 85/100\n",
            "40/40 [==============================] - 15s 374ms/step - loss: 0.6930 - accuracy: 0.5341 - val_loss: 0.6931 - val_accuracy: 0.5000\n",
            "Epoch 86/100\n",
            "40/40 [==============================] - 15s 374ms/step - loss: 0.6932 - accuracy: 0.4890 - val_loss: 0.6931 - val_accuracy: 0.5000\n",
            "Epoch 87/100\n",
            "40/40 [==============================] - 15s 375ms/step - loss: 0.6932 - accuracy: 0.4805 - val_loss: 0.6931 - val_accuracy: 0.5000\n",
            "Epoch 88/100\n",
            "40/40 [==============================] - 15s 374ms/step - loss: 0.6932 - accuracy: 0.4999 - val_loss: 0.6931 - val_accuracy: 0.5000\n",
            "Epoch 89/100\n",
            "40/40 [==============================] - 15s 374ms/step - loss: 0.6932 - accuracy: 0.5014 - val_loss: 0.6931 - val_accuracy: 0.5000\n",
            "Epoch 90/100\n",
            "40/40 [==============================] - 15s 374ms/step - loss: 0.6932 - accuracy: 0.5049 - val_loss: 0.6931 - val_accuracy: 0.5000\n",
            "Epoch 91/100\n",
            "40/40 [==============================] - 15s 374ms/step - loss: 0.6932 - accuracy: 0.4839 - val_loss: 0.6931 - val_accuracy: 0.5000\n",
            "Epoch 92/100\n",
            "40/40 [==============================] - 15s 374ms/step - loss: 0.6932 - accuracy: 0.4685 - val_loss: 0.6931 - val_accuracy: 0.5000\n",
            "Epoch 93/100\n",
            "40/40 [==============================] - 15s 374ms/step - loss: 0.6932 - accuracy: 0.5033 - val_loss: 0.6931 - val_accuracy: 0.5000\n",
            "Epoch 94/100\n",
            "40/40 [==============================] - 15s 374ms/step - loss: 0.6932 - accuracy: 0.5021 - val_loss: 0.6931 - val_accuracy: 0.5000\n",
            "Epoch 95/100\n",
            "40/40 [==============================] - 15s 374ms/step - loss: 0.6932 - accuracy: 0.4827 - val_loss: 0.6931 - val_accuracy: 0.5000\n",
            "Epoch 96/100\n",
            "40/40 [==============================] - 15s 375ms/step - loss: 0.6932 - accuracy: 0.4783 - val_loss: 0.6931 - val_accuracy: 0.5000\n",
            "Epoch 97/100\n",
            "40/40 [==============================] - 15s 375ms/step - loss: 0.6932 - accuracy: 0.4944 - val_loss: 0.6931 - val_accuracy: 0.5000\n",
            "Epoch 98/100\n",
            "40/40 [==============================] - 15s 375ms/step - loss: 0.6932 - accuracy: 0.4660 - val_loss: 0.6931 - val_accuracy: 0.5000\n",
            "Epoch 99/100\n",
            "40/40 [==============================] - 15s 374ms/step - loss: 0.6932 - accuracy: 0.4953 - val_loss: 0.6931 - val_accuracy: 0.5000\n",
            "Epoch 100/100\n",
            "40/40 [==============================] - 15s 374ms/step - loss: 0.6932 - accuracy: 0.5041 - val_loss: 0.6931 - val_accuracy: 0.5000\n"
          ],
          "name": "stdout"
        }
      ]
    },
    {
      "cell_type": "code",
      "metadata": {
        "colab": {
          "base_uri": "https://localhost:8080/",
          "height": 268
        },
        "id": "OZNWPfJlde0b",
        "outputId": "43cc76a5-4eeb-4875-ea77-9adac24902d9"
      },
      "source": [
        "f, (ax1, ax2) = plt.subplots(1, 2, figsize=(12, 4))\r\n",
        "t = f.suptitle('Basic CNN Performance', fontsize=12)\r\n",
        "f.subplots_adjust(top=0.85, wspace=0.3)\r\n",
        "\r\n",
        "epoch_list = list(range(1,101))\r\n",
        "ax1.plot(epoch_list, history.history['accuracy'], label='Train Accuracy')\r\n",
        "ax1.plot(epoch_list, history.history['val_accuracy'], label='Validation Accuracy')\r\n",
        "ax1.set_xticks(np.arange(0, 101, 5))\r\n",
        "ax1.set_ylabel('Accuracy Value')\r\n",
        "ax1.set_xlabel('Epoch')\r\n",
        "ax1.set_title('Accuracy')\r\n",
        "l1 = ax1.legend(loc=\"best\")\r\n",
        "\r\n",
        "ax2.plot(epoch_list, history.history['loss'], label='Train Loss')\r\n",
        "ax2.plot(epoch_list, history.history['val_loss'], label='Validation Loss')\r\n",
        "ax2.set_xticks(np.arange(0, 101, 5))\r\n",
        "ax2.set_ylabel('Loss Value')\r\n",
        "ax2.set_xlabel('Epoch')\r\n",
        "ax2.set_title('Loss')\r\n",
        "l2 = ax2.legend(loc=\"best\")"
      ],
      "execution_count": null,
      "outputs": [
        {
          "output_type": "display_data",
          "data": {
            "image/png": "[encoded data removed]",
            "text/plain": [
              "<Figure size 864x288 with 2 Axes>"
            ]
          },
          "metadata": {
            "tags": [],
            "needs_background": "light"
          }
        }
      ]
    },
    {
      "cell_type": "code",
      "metadata": {
        "id": "GMyV8MGLdxLB"
      },
      "source": [
        "model.save('cola-01-21.h5')"
      ],
      "execution_count": null,
      "outputs": []
    }
  ]
}
