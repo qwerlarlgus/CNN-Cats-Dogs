{
  "nbformat": 4,
  "nbformat_minor": 0,
  "metadata": {
    "kernelspec": {
      "display_name": "Python 3",
      "language": "python",
      "name": "python3"
    },
    "language_info": {
      "codemirror_mode": {
        "name": "ipython",
        "version": 3
      },
      "file_extension": ".py",
      "mimetype": "text/x-python",
      "name": "python",
      "nbconvert_exporter": "python",
      "pygments_lexer": "ipython3",
      "version": "3.7.6"
    },
    "colab": {
      "name": "dataset_builder.ipynb",
      "provenance": [],
      "include_colab_link": true
    },
    "accelerator": "GPU"
  },
  "cells": [
    {
      "cell_type": "markdown",
      "metadata": {
        "id": "view-in-github",
        "colab_type": "text"
      },
      "source": [
        "<a href=\"https://colab.research.google.com/github/qwerlarlgus/CNN-Cats-Dogs/blob/main/dataset_builder.ipynb\" target=\"_parent\"><img src=\"https://colab.research.google.com/assets/colab-badge.svg\" alt=\"Open In Colab\"/></a>"
      ]
    },
    {
      "cell_type": "code",
      "metadata": {
        "colab": {
          "base_uri": "https://localhost:8080/"
        },
        "id": "uy5TKXEuhuLT",
        "outputId": "0a5dfa40-1b95-4eea-a018-02d2026a67e8"
      },
      "source": [
        "from google.colab import drive\n",
        "drive.mount('/content/drive')"
      ],
      "execution_count": null,
      "outputs": [
        {
          "output_type": "stream",
          "text": [
            "Drive already mounted at /content/drive; to attempt to forcibly remount, call drive.mount(\"/content/drive\", force_remount=True).\n"
          ],
          "name": "stdout"
        }
      ]
    },
    {
      "cell_type": "code",
      "metadata": {
        "id": "qZn6p2DdTCiy"
      },
      "source": [
        "%matplotlib inline"
      ],
      "execution_count": null,
      "outputs": []
    },
    {
      "cell_type": "code",
      "metadata": {
        "colab": {
          "base_uri": "https://localhost:8080/"
        },
        "id": "25HyY8sqW0d8",
        "outputId": "f165fbc4-f2c0-460a-a6b2-e45452581ea6"
      },
      "source": [
        "!mv ./sample_data/validation_data.zip./"
      ],
      "execution_count": null,
      "outputs": [
        {
          "output_type": "stream",
          "text": [
            "mv: missing destination file operand after './sample_data/validation_data.zip./'\n",
            "Try 'mv --help' for more information.\n"
          ],
          "name": "stdout"
        }
      ]
    },
    {
      "cell_type": "code",
      "metadata": {
        "id": "HDYRES-5RtN1"
      },
      "source": [
        "!unzip validation_data.zip"
      ],
      "execution_count": null,
      "outputs": []
    },
    {
      "cell_type": "code",
      "metadata": {
        "colab": {
          "base_uri": "https://localhost:8080/"
        },
        "id": "2t7CaqfDW877",
        "outputId": "081eea71-9e6b-46c4-e175-d3bfefd6a63b"
      },
      "source": [
        "!ls -l"
      ],
      "execution_count": null,
      "outputs": [
        {
          "output_type": "stream",
          "text": [
            "total 111748\n",
            "drwx------ 5 root root      4096 Jan 21 05:59 drive\n",
            "drwxr-xr-x 1 root root      4096 Jan 15 17:28 sample_data\n",
            "drwxr-xr-x 2 root root     32768 Jan 21 06:00 test_data\n",
            "drwxr-xr-x 2 root root     90112 Jan 21 06:00 training_data\n",
            "drwxr-xr-x 2 root root     36864 Jan 21 06:00 validation_data\n",
            "-rw------- 1 root root 114250866 Jan 21 04:51 validation_data.zip\n"
          ],
          "name": "stdout"
        }
      ]
    },
    {
      "cell_type": "code",
      "metadata": {
        "id": "h2gLdhrfTFp3"
      },
      "source": [
        "import glob\r\n",
        "import numpy as np\r\n",
        "import matplotlib.pyplot as plt\r\n",
        "from tensorflow.keras.preprocessing.image import ImageDataGenerator, load_img, img_to_array, array_to_img"
      ],
      "execution_count": null,
      "outputs": []
    },
    {
      "cell_type": "code",
      "metadata": {
        "colab": {
          "base_uri": "https://localhost:8080/"
        },
        "id": "lfXhJ-B7TUKx",
        "outputId": "37efb452-0436-446b-bd94-909f6f559fb6"
      },
      "source": [
        "IMG_DIM = (150, 150)\r\n",
        "\r\n",
        "train_files = glob.glob('training_data/*')\r\n",
        "train_imgs = [img_to_array(load_img(img, target_size=IMG_DIM)) for img in train_files]\r\n",
        "train_imgs = np.array(train_imgs)\r\n",
        "\r\n",
        "train_labels = [fn.split('/')[1].split('.')[0].strip() for fn in train_files] # for linux\r\n",
        "#train_labels = [fn.split('\\\\')[1].split('.')[0].strip() for fn in train_files] # for windows\r\n",
        "\r\n",
        "validation_files = glob.glob('validation_data/*')\r\n",
        "validation_imgs = [img_to_array(load_img(img, target_size=IMG_DIM)) for img in validation_files]\r\n",
        "validation_imgs = np.array(validation_imgs)\r\n",
        "validation_labels = [fn.split('/')[1].split('.')[0].strip() for fn in validation_files] # for linux\r\n",
        "#validation_labels = [fn.split('\\\\')[1].split('.')[0].strip() for fn in validation_files] # for windows\r\n",
        "\r\n",
        "print('Train dataset shape:', train_imgs.shape, \r\n",
        "      '\\tValidation dataset shape:', validation_imgs.shape)"
      ],
      "execution_count": null,
      "outputs": [
        {
          "output_type": "stream",
          "text": [
            "Train dataset shape: (3000, 150, 150, 3) \tValidation dataset shape: (1000, 150, 150, 3)\n"
          ],
          "name": "stdout"
        }
      ]
    },
    {
      "cell_type": "code",
      "metadata": {
        "colab": {
          "base_uri": "https://localhost:8080/",
          "height": 185
        },
        "id": "8CQuLJJFUeXX",
        "outputId": "289bf9f2-470a-41d4-f6fd-65261e72dd08"
      },
      "source": [
        "print(train_imgs[90].shape)\r\n",
        "array_to_img(train_imgs[90])"
      ],
      "execution_count": null,
      "outputs": [
        {
          "output_type": "stream",
          "text": [
            "(150, 150, 3)\n"
          ],
          "name": "stdout"
        },
        {
          "output_type": "execute_result",
          "data": {
            "image/png": "[encoded data removed]",
            "text/plain": [
              "<PIL.Image.Image image mode=RGB size=150x150 at 0x7F59B5A76358>"
            ]
          },
          "metadata": {
            "tags": []
          },
          "execution_count": 15
        }
      ]
    },
    {
      "cell_type": "code",
      "metadata": {
        "id": "AwADs6ptbEWQ"
      },
      "source": [
        "train_imgs_scaled = train_imgs.astype('float32')\r\n",
        "validation_imgs_scaled  = validation_imgs.astype('float32')\r\n",
        "train_imgs_scaled /= 255\r\n",
        "validation_imgs_scaled /= 255"
      ],
      "execution_count": null,
      "outputs": []
    },
    {
      "cell_type": "code",
      "metadata": {
        "colab": {
          "base_uri": "https://localhost:8080/"
        },
        "id": "7rm72jsEUhJM",
        "outputId": "2279394b-2b5f-4a71-d3b1-3e39273e4af9"
      },
      "source": [
        "batch_size = 40\r\n",
        "num_classes = 2\r\n",
        "epochs = 100\r\n",
        "input_shape = (150, 150, 3)\r\n",
        "\r\n",
        "# encode text category labels\r\n",
        "from sklearn.preprocessing import LabelEncoder\r\n",
        "\r\n",
        "le = LabelEncoder()\r\n",
        "le.fit(train_labels)\r\n",
        "train_labels_enc = le.transform(train_labels)\r\n",
        "validation_labels_enc = le.transform(validation_labels)\r\n",
        "\r\n",
        "print(train_labels[1495:1505], train_labels_enc[1495:1505])"
      ],
      "execution_count": null,
      "outputs": [
        {
          "output_type": "stream",
          "text": [
            "['dog', 'cat', 'cat', 'dog', 'dog', 'cat', 'cat', 'cat', 'dog', 'cat'] [1 0 0 1 1 0 0 0 1 0]\n"
          ],
          "name": "stdout"
        }
      ]
    },
    {
      "cell_type": "code",
      "metadata": {
        "colab": {
          "base_uri": "https://localhost:8080/"
        },
        "id": "Edf-Am9OTrF2",
        "outputId": "5761d134-2ffd-40bc-917a-6bb6826cf655"
      },
      "source": [
        "from sklearn.preprocessing import LabelEncoder\r\n",
        "\r\n",
        "le = LabelEncoder()\r\n",
        "le.fit(train_labels)\r\n",
        "# encode wine type labels\r\n",
        "train_labels_enc = le.transform(train_labels)\r\n",
        "validation_labels_enc = le.transform(validation_labels)\r\n",
        "\r\n",
        "print(train_labels[0:5], train_labels_enc[0:5])"
      ],
      "execution_count": null,
      "outputs": [
        {
          "output_type": "stream",
          "text": [
            "['cat', 'dog', 'cat', 'dog', 'dog'] [0 1 0 1 1]\n"
          ],
          "name": "stdout"
        }
      ]
    },
    {
      "cell_type": "code",
      "metadata": {
        "id": "DKYofgVyTq8a"
      },
      "source": [
        "train_datagen = ImageDataGenerator(rescale=1./255, zoom_range=0.3, rotation_range=50,\r\n",
        "                                   width_shift_range=0.2, height_shift_range=0.2, shear_range=0.2, \r\n",
        "                                   horizontal_flip=True, fill_mode='nearest')\r\n",
        "\r\n",
        "val_datagen = ImageDataGenerator(rescale=1./255)"
      ],
      "execution_count": null,
      "outputs": []
    },
    {
      "cell_type": "code",
      "metadata": {
        "id": "7HLQOcN_YCtU"
      },
      "source": [
        "from tensorflow.keras.layers import Conv2D, MaxPooling2D, Flatten, Dense, Dropout\r\n",
        "from tensorflow.keras.models import Sequential\r\n",
        "from tensorflow.keras import optimizers"
      ],
      "execution_count": null,
      "outputs": []
    },
    {
      "cell_type": "code",
      "metadata": {
        "id": "cy9ovMmiZCxV"
      },
      "source": [
        "model = Sequential()\r\n",
        "\r\n",
        "model.add(Conv2D(input_shape=input_shape,filters=64,kernel_size=(3,3),padding=\"same\", activation=\"relu\"))\r\n",
        "model.add(Conv2D(filters=64,kernel_size=(3,3),padding=\"same\", activation=\"relu\"))\r\n",
        "model.add(MaxPooling2D(pool_size=(2,2),strides=(2,2)))\r\n",
        "\r\n",
        "model.add(Conv2D(filters=128, kernel_size=(3,3), padding=\"same\", activation=\"relu\"))\r\n",
        "model.add(Conv2D(filters=128, kernel_size=(3,3), padding=\"same\", activation=\"relu\"))\r\n",
        "model.add(MaxPooling2D(pool_size=(2,2),strides=(2,2)))\r\n",
        "\r\n",
        "model.add(Conv2D(filters=256, kernel_size=(3,3), padding=\"same\", activation=\"relu\"))\r\n",
        "model.add(Conv2D(filters=256, kernel_size=(3,3), padding=\"same\", activation=\"relu\"))\r\n",
        "model.add(Conv2D(filters=256, kernel_size=(3,3), padding=\"same\", activation=\"relu\"))\r\n",
        "model.add(MaxPooling2D(pool_size=(2,2),strides=(2,2)))\r\n",
        "\r\n",
        "model.add(Conv2D(filters=512, kernel_size=(3,3), padding=\"same\", activation=\"relu\"))\r\n",
        "model.add(Conv2D(filters=512, kernel_size=(3,3), padding=\"same\", activation=\"relu\"))\r\n",
        "model.add(Conv2D(filters=512, kernel_size=(3,3), padding=\"same\", activation=\"relu\"))\r\n",
        "model.add(MaxPooling2D(pool_size=(2,2),strides=(2,2)))\r\n",
        "\r\n",
        "model.add(Conv2D(filters=512, kernel_size=(3,3), padding=\"same\", activation=\"relu\"))\r\n",
        "model.add(Conv2D(filters=512, kernel_size=(3,3), padding=\"same\", activation=\"relu\"))\r\n",
        "model.add(Conv2D(filters=512, kernel_size=(3,3), padding=\"same\", activation=\"relu\"))\r\n",
        "model.add(MaxPooling2D(pool_size=(2,2),strides=(2,2)))\r\n",
        "\r\n",
        "#속도떄문에 모델 뺀거임 아무튼 뺀거임\r\n"
      ],
      "execution_count": null,
      "outputs": []
    },
    {
      "cell_type": "code",
      "metadata": {
        "id": "kzL8BA9VhOn6"
      },
      "source": [
        "model.add(Flatten())\r\n",
        "model.add(Dense(512, activation='relu'))\r\n",
        "model.add(Dropout(0.3))\r\n",
        "model.add(Dense(512, activation='relu'))\r\n",
        "model.add(Dropout(0.3))\r\n",
        "model.add(Dense(1, activation='sigmoid'))"
      ],
      "execution_count": null,
      "outputs": []
    },
    {
      "cell_type": "code",
      "metadata": {
        "colab": {
          "base_uri": "https://localhost:8080/"
        },
        "id": "xyQpW99QTZW0",
        "outputId": "7af0bba8-7253-49e4-80e0-9f8aad91ff9f"
      },
      "source": [
        "model.compile(loss='binary_crossentropy',\r\n",
        "              optimizer=optimizers.RMSprop(lr=1e-4),\r\n",
        "              metrics=['accuracy'])\r\n",
        "\r\n",
        "model.summary()"
      ],
      "execution_count": null,
      "outputs": [
        {
          "output_type": "stream",
          "text": [
            "Model: \"sequential\"\n",
            "_________________________________________________________________\n",
            "Layer (type)                 Output Shape              Param #   \n",
            "=================================================================\n",
            "conv2d (Conv2D)              (None, 150, 150, 64)      1792      \n",
            "_________________________________________________________________\n",
            "conv2d_1 (Conv2D)            (None, 150, 150, 64)      36928     \n",
            "_________________________________________________________________\n",
            "max_pooling2d (MaxPooling2D) (None, 75, 75, 64)        0         \n",
            "_________________________________________________________________\n",
            "conv2d_2 (Conv2D)            (None, 75, 75, 128)       73856     \n",
            "_________________________________________________________________\n",
            "conv2d_3 (Conv2D)            (None, 75, 75, 128)       147584    \n",
            "_________________________________________________________________\n",
            "max_pooling2d_1 (MaxPooling2 (None, 37, 37, 128)       0         \n",
            "_________________________________________________________________\n",
            "conv2d_4 (Conv2D)            (None, 37, 37, 256)       295168    \n",
            "_________________________________________________________________\n",
            "conv2d_5 (Conv2D)            (None, 37, 37, 256)       590080    \n",
            "_________________________________________________________________\n",
            "conv2d_6 (Conv2D)            (None, 37, 37, 256)       590080    \n",
            "_________________________________________________________________\n",
            "max_pooling2d_2 (MaxPooling2 (None, 18, 18, 256)       0         \n",
            "_________________________________________________________________\n",
            "conv2d_7 (Conv2D)            (None, 18, 18, 512)       1180160   \n",
            "_________________________________________________________________\n",
            "conv2d_8 (Conv2D)            (None, 18, 18, 512)       2359808   \n",
            "_________________________________________________________________\n",
            "conv2d_9 (Conv2D)            (None, 18, 18, 512)       2359808   \n",
            "_________________________________________________________________\n",
            "max_pooling2d_3 (MaxPooling2 (None, 9, 9, 512)         0         \n",
            "_________________________________________________________________\n",
            "conv2d_10 (Conv2D)           (None, 9, 9, 512)         2359808   \n",
            "_________________________________________________________________\n",
            "conv2d_11 (Conv2D)           (None, 9, 9, 512)         2359808   \n",
            "_________________________________________________________________\n",
            "conv2d_12 (Conv2D)           (None, 9, 9, 512)         2359808   \n",
            "_________________________________________________________________\n",
            "max_pooling2d_4 (MaxPooling2 (None, 4, 4, 512)         0         \n",
            "_________________________________________________________________\n",
            "flatten (Flatten)            (None, 8192)              0         \n",
            "_________________________________________________________________\n",
            "dense (Dense)                (None, 512)               4194816   \n",
            "_________________________________________________________________\n",
            "dropout (Dropout)            (None, 512)               0         \n",
            "_________________________________________________________________\n",
            "dense_1 (Dense)              (None, 512)               262656    \n",
            "_________________________________________________________________\n",
            "dropout_1 (Dropout)          (None, 512)               0         \n",
            "_________________________________________________________________\n",
            "dense_2 (Dense)              (None, 1)                 513       \n",
            "=================================================================\n",
            "Total params: 19,172,673\n",
            "Trainable params: 19,172,673\n",
            "Non-trainable params: 0\n",
            "_________________________________________________________________\n"
          ],
          "name": "stdout"
        }
      ]
    },
    {
      "cell_type": "code",
      "metadata": {
        "colab": {
          "base_uri": "https://localhost:8080/"
        },
        "id": "lCL9CjWoTxMX",
        "outputId": "7252f2e1-a3e7-4462-b841-9862eb613bb6"
      },
      "source": [
        "history = model.fit(x=train_imgs_scaled, y=train_labels_enc,\r\n",
        "                    validation_data=(validation_imgs_scaled, validation_labels_enc),\r\n",
        "                    batch_size=batch_size,\r\n",
        "                    epochs=epochs,\r\n",
        "                    verbose=1)"
      ],
      "execution_count": null,
      "outputs": [
        {
          "output_type": "stream",
          "text": [
            "Epoch 1/100\n",
            "75/75 [==============================] - 22s 172ms/step - loss: 0.7030 - accuracy: 0.4944 - val_loss: 0.6931 - val_accuracy: 0.5000\n",
            "Epoch 2/100\n",
            "75/75 [==============================] - 12s 164ms/step - loss: 0.7021 - accuracy: 0.5143 - val_loss: 0.7597 - val_accuracy: 0.5000\n",
            "Epoch 3/100\n",
            "75/75 [==============================] - 12s 164ms/step - loss: 0.6930 - accuracy: 0.5326 - val_loss: 0.6850 - val_accuracy: 0.5780\n",
            "Epoch 4/100\n",
            "75/75 [==============================] - 12s 163ms/step - loss: 0.6712 - accuracy: 0.6011 - val_loss: 0.6760 - val_accuracy: 0.5950\n",
            "Epoch 5/100\n",
            "75/75 [==============================] - 12s 164ms/step - loss: 0.6585 - accuracy: 0.6388 - val_loss: 0.6240 - val_accuracy: 0.6470\n",
            "Epoch 6/100\n",
            "75/75 [==============================] - 12s 164ms/step - loss: 0.6313 - accuracy: 0.6230 - val_loss: 0.7001 - val_accuracy: 0.5830\n",
            "Epoch 7/100\n",
            "75/75 [==============================] - 12s 164ms/step - loss: 0.6238 - accuracy: 0.6553 - val_loss: 0.7066 - val_accuracy: 0.6160\n",
            "Epoch 8/100\n",
            "75/75 [==============================] - 12s 164ms/step - loss: 0.6054 - accuracy: 0.6762 - val_loss: 0.6032 - val_accuracy: 0.6650\n",
            "Epoch 9/100\n",
            "75/75 [==============================] - 12s 164ms/step - loss: 0.5994 - accuracy: 0.6814 - val_loss: 0.5801 - val_accuracy: 0.6800\n",
            "Epoch 10/100\n",
            "75/75 [==============================] - 12s 164ms/step - loss: 0.5780 - accuracy: 0.7004 - val_loss: 0.5863 - val_accuracy: 0.6880\n",
            "Epoch 11/100\n",
            "75/75 [==============================] - 12s 164ms/step - loss: 0.5559 - accuracy: 0.7129 - val_loss: 0.5568 - val_accuracy: 0.7120\n",
            "Epoch 12/100\n",
            "75/75 [==============================] - 12s 164ms/step - loss: 0.5276 - accuracy: 0.7417 - val_loss: 0.5820 - val_accuracy: 0.6810\n",
            "Epoch 13/100\n",
            "75/75 [==============================] - 12s 164ms/step - loss: 0.4884 - accuracy: 0.7631 - val_loss: 0.5514 - val_accuracy: 0.7220\n",
            "Epoch 14/100\n",
            "75/75 [==============================] - 12s 164ms/step - loss: 0.4650 - accuracy: 0.7821 - val_loss: 0.5314 - val_accuracy: 0.7330\n",
            "Epoch 15/100\n",
            "75/75 [==============================] - 12s 164ms/step - loss: 0.4198 - accuracy: 0.8129 - val_loss: 0.5107 - val_accuracy: 0.7440\n",
            "Epoch 16/100\n",
            "75/75 [==============================] - 12s 164ms/step - loss: 0.3940 - accuracy: 0.8242 - val_loss: 0.5940 - val_accuracy: 0.7370\n",
            "Epoch 17/100\n",
            "75/75 [==============================] - 12s 163ms/step - loss: 0.3464 - accuracy: 0.8486 - val_loss: 0.4889 - val_accuracy: 0.7600\n",
            "Epoch 18/100\n",
            "75/75 [==============================] - 12s 163ms/step - loss: 0.3135 - accuracy: 0.8721 - val_loss: 0.6469 - val_accuracy: 0.7440\n",
            "Epoch 19/100\n",
            "75/75 [==============================] - 12s 164ms/step - loss: 0.2791 - accuracy: 0.8808 - val_loss: 0.6685 - val_accuracy: 0.7680\n",
            "Epoch 20/100\n",
            "75/75 [==============================] - 12s 164ms/step - loss: 0.2584 - accuracy: 0.8963 - val_loss: 0.4946 - val_accuracy: 0.7550\n",
            "Epoch 21/100\n",
            "75/75 [==============================] - 12s 164ms/step - loss: 0.1991 - accuracy: 0.9182 - val_loss: 0.5567 - val_accuracy: 0.7750\n",
            "Epoch 22/100\n",
            "75/75 [==============================] - 12s 164ms/step - loss: 0.2166 - accuracy: 0.9110 - val_loss: 0.5788 - val_accuracy: 0.7820\n",
            "Epoch 23/100\n",
            "75/75 [==============================] - 12s 164ms/step - loss: 0.1776 - accuracy: 0.9340 - val_loss: 0.9087 - val_accuracy: 0.7420\n",
            "Epoch 24/100\n",
            "75/75 [==============================] - 12s 164ms/step - loss: 0.1740 - accuracy: 0.9405 - val_loss: 0.7697 - val_accuracy: 0.7740\n",
            "Epoch 25/100\n",
            "75/75 [==============================] - 12s 164ms/step - loss: 0.1427 - accuracy: 0.9460 - val_loss: 1.0638 - val_accuracy: 0.7570\n",
            "Epoch 26/100\n",
            "75/75 [==============================] - 12s 164ms/step - loss: 0.1076 - accuracy: 0.9601 - val_loss: 0.9598 - val_accuracy: 0.7800\n",
            "Epoch 27/100\n",
            "75/75 [==============================] - 12s 164ms/step - loss: 0.1146 - accuracy: 0.9568 - val_loss: 0.9290 - val_accuracy: 0.7540\n",
            "Epoch 28/100\n",
            "75/75 [==============================] - 12s 164ms/step - loss: 0.0908 - accuracy: 0.9706 - val_loss: 0.8537 - val_accuracy: 0.7630\n",
            "Epoch 29/100\n",
            "75/75 [==============================] - 12s 164ms/step - loss: 0.1046 - accuracy: 0.9579 - val_loss: 1.0684 - val_accuracy: 0.7110\n",
            "Epoch 30/100\n",
            "75/75 [==============================] - 12s 164ms/step - loss: 0.1152 - accuracy: 0.9588 - val_loss: 1.2890 - val_accuracy: 0.7510\n",
            "Epoch 31/100\n",
            "75/75 [==============================] - 12s 164ms/step - loss: 0.0921 - accuracy: 0.9603 - val_loss: 0.8025 - val_accuracy: 0.7890\n",
            "Epoch 32/100\n",
            "75/75 [==============================] - 12s 164ms/step - loss: 0.0491 - accuracy: 0.9813 - val_loss: 1.0951 - val_accuracy: 0.7700\n",
            "Epoch 33/100\n",
            "75/75 [==============================] - 12s 164ms/step - loss: 0.0638 - accuracy: 0.9802 - val_loss: 1.2820 - val_accuracy: 0.7550\n",
            "Epoch 34/100\n",
            "75/75 [==============================] - 12s 164ms/step - loss: 0.0629 - accuracy: 0.9751 - val_loss: 0.9159 - val_accuracy: 0.7870\n",
            "Epoch 35/100\n",
            "75/75 [==============================] - 12s 164ms/step - loss: 0.0412 - accuracy: 0.9860 - val_loss: 1.0356 - val_accuracy: 0.7840\n",
            "Epoch 36/100\n",
            "75/75 [==============================] - 12s 164ms/step - loss: 0.0654 - accuracy: 0.9789 - val_loss: 0.9489 - val_accuracy: 0.7660\n",
            "Epoch 37/100\n",
            "75/75 [==============================] - 12s 164ms/step - loss: 0.0358 - accuracy: 0.9916 - val_loss: 1.3715 - val_accuracy: 0.7640\n",
            "Epoch 38/100\n",
            "75/75 [==============================] - 12s 164ms/step - loss: 0.0387 - accuracy: 0.9857 - val_loss: 1.2240 - val_accuracy: 0.7790\n",
            "Epoch 39/100\n",
            "75/75 [==============================] - 12s 164ms/step - loss: 0.0307 - accuracy: 0.9900 - val_loss: 1.3452 - val_accuracy: 0.7710\n",
            "Epoch 40/100\n",
            "75/75 [==============================] - 12s 164ms/step - loss: 0.0548 - accuracy: 0.9841 - val_loss: 1.6120 - val_accuracy: 0.7750\n",
            "Epoch 41/100\n",
            "75/75 [==============================] - 12s 164ms/step - loss: 0.0395 - accuracy: 0.9877 - val_loss: 0.9870 - val_accuracy: 0.7670\n",
            "Epoch 42/100\n",
            "75/75 [==============================] - 12s 164ms/step - loss: 0.0425 - accuracy: 0.9860 - val_loss: 1.0885 - val_accuracy: 0.7800\n",
            "Epoch 43/100\n",
            "75/75 [==============================] - 12s 164ms/step - loss: 0.0227 - accuracy: 0.9939 - val_loss: 1.0974 - val_accuracy: 0.7670\n",
            "Epoch 44/100\n",
            "75/75 [==============================] - 12s 164ms/step - loss: 0.0319 - accuracy: 0.9896 - val_loss: 1.7568 - val_accuracy: 0.7730\n",
            "Epoch 45/100\n",
            "75/75 [==============================] - 12s 164ms/step - loss: 0.0425 - accuracy: 0.9852 - val_loss: 1.2516 - val_accuracy: 0.7820\n",
            "Epoch 46/100\n",
            "75/75 [==============================] - 12s 164ms/step - loss: 0.0293 - accuracy: 0.9936 - val_loss: 1.8329 - val_accuracy: 0.8000\n",
            "Epoch 47/100\n",
            "75/75 [==============================] - 12s 164ms/step - loss: 0.0554 - accuracy: 0.9764 - val_loss: 1.5950 - val_accuracy: 0.7820\n",
            "Epoch 48/100\n",
            "75/75 [==============================] - 12s 163ms/step - loss: 0.0269 - accuracy: 0.9919 - val_loss: 1.8553 - val_accuracy: 0.7730\n",
            "Epoch 49/100\n",
            "75/75 [==============================] - 12s 163ms/step - loss: 0.0409 - accuracy: 0.9872 - val_loss: 1.4782 - val_accuracy: 0.7820\n",
            "Epoch 50/100\n",
            "75/75 [==============================] - 12s 164ms/step - loss: 0.0348 - accuracy: 0.9915 - val_loss: 1.2109 - val_accuracy: 0.7820\n",
            "Epoch 51/100\n",
            "75/75 [==============================] - 12s 163ms/step - loss: 0.0426 - accuracy: 0.9889 - val_loss: 1.5431 - val_accuracy: 0.7810\n",
            "Epoch 52/100\n",
            "75/75 [==============================] - 12s 164ms/step - loss: 0.0297 - accuracy: 0.9923 - val_loss: 1.8541 - val_accuracy: 0.7750\n",
            "Epoch 53/100\n",
            "75/75 [==============================] - 12s 163ms/step - loss: 0.0531 - accuracy: 0.9853 - val_loss: 2.2910 - val_accuracy: 0.7770\n",
            "Epoch 54/100\n",
            "75/75 [==============================] - 12s 163ms/step - loss: 0.0404 - accuracy: 0.9873 - val_loss: 0.9050 - val_accuracy: 0.7870\n",
            "Epoch 55/100\n",
            "75/75 [==============================] - 12s 164ms/step - loss: 0.0269 - accuracy: 0.9946 - val_loss: 1.5569 - val_accuracy: 0.7840\n",
            "Epoch 56/100\n",
            "75/75 [==============================] - 12s 165ms/step - loss: 0.0259 - accuracy: 0.9940 - val_loss: 1.5611 - val_accuracy: 0.7840\n",
            "Epoch 57/100\n",
            "75/75 [==============================] - 12s 163ms/step - loss: 0.0309 - accuracy: 0.9905 - val_loss: 1.8557 - val_accuracy: 0.7870\n",
            "Epoch 58/100\n",
            "75/75 [==============================] - 12s 164ms/step - loss: 0.0487 - accuracy: 0.9886 - val_loss: 1.4494 - val_accuracy: 0.7730\n",
            "Epoch 59/100\n",
            "75/75 [==============================] - 12s 164ms/step - loss: 0.0327 - accuracy: 0.9894 - val_loss: 1.8015 - val_accuracy: 0.8000\n",
            "Epoch 60/100\n",
            "75/75 [==============================] - 12s 163ms/step - loss: 0.0376 - accuracy: 0.9922 - val_loss: 1.5365 - val_accuracy: 0.7810\n",
            "Epoch 61/100\n",
            "75/75 [==============================] - 12s 164ms/step - loss: 0.0087 - accuracy: 0.9978 - val_loss: 1.5763 - val_accuracy: 0.7810\n",
            "Epoch 62/100\n",
            "75/75 [==============================] - 12s 164ms/step - loss: 0.0164 - accuracy: 0.9972 - val_loss: 2.2086 - val_accuracy: 0.7890\n",
            "Epoch 63/100\n",
            "75/75 [==============================] - 12s 164ms/step - loss: 0.0466 - accuracy: 0.9893 - val_loss: 1.5905 - val_accuracy: 0.7820\n",
            "Epoch 64/100\n",
            "75/75 [==============================] - 12s 164ms/step - loss: 0.0299 - accuracy: 0.9908 - val_loss: 1.8114 - val_accuracy: 0.7840\n",
            "Epoch 65/100\n",
            "75/75 [==============================] - 12s 164ms/step - loss: 0.0336 - accuracy: 0.9907 - val_loss: 1.4765 - val_accuracy: 0.7850\n",
            "Epoch 66/100\n",
            "75/75 [==============================] - 12s 163ms/step - loss: 0.0123 - accuracy: 0.9973 - val_loss: 2.0629 - val_accuracy: 0.7840\n",
            "Epoch 67/100\n",
            "75/75 [==============================] - 12s 163ms/step - loss: 0.0286 - accuracy: 0.9934 - val_loss: 2.7995 - val_accuracy: 0.7710\n",
            "Epoch 68/100\n",
            "75/75 [==============================] - 12s 163ms/step - loss: 0.0341 - accuracy: 0.9890 - val_loss: 1.2906 - val_accuracy: 0.7830\n",
            "Epoch 69/100\n",
            "75/75 [==============================] - 12s 164ms/step - loss: 0.0190 - accuracy: 0.9915 - val_loss: 2.4051 - val_accuracy: 0.7920\n",
            "Epoch 70/100\n",
            "75/75 [==============================] - 12s 164ms/step - loss: 0.0408 - accuracy: 0.9896 - val_loss: 2.4578 - val_accuracy: 0.7930\n",
            "Epoch 71/100\n",
            "75/75 [==============================] - 12s 164ms/step - loss: 3.9211e-04 - accuracy: 1.0000 - val_loss: 1.5750 - val_accuracy: 0.7800\n",
            "Epoch 72/100\n",
            "75/75 [==============================] - 12s 164ms/step - loss: 0.0443 - accuracy: 0.9866 - val_loss: 2.1727 - val_accuracy: 0.7890\n",
            "Epoch 73/100\n",
            "75/75 [==============================] - 12s 164ms/step - loss: 0.0608 - accuracy: 0.9883 - val_loss: 2.2054 - val_accuracy: 0.7910\n",
            "Epoch 74/100\n",
            "75/75 [==============================] - 12s 164ms/step - loss: 0.0079 - accuracy: 0.9974 - val_loss: 2.0302 - val_accuracy: 0.7910\n",
            "Epoch 75/100\n",
            "75/75 [==============================] - 12s 164ms/step - loss: 0.0199 - accuracy: 0.9934 - val_loss: 1.7812 - val_accuracy: 0.7610\n",
            "Epoch 76/100\n",
            "75/75 [==============================] - 12s 163ms/step - loss: 0.0105 - accuracy: 0.9981 - val_loss: 1.2394 - val_accuracy: 0.7770\n",
            "Epoch 77/100\n",
            "75/75 [==============================] - 12s 164ms/step - loss: 0.0191 - accuracy: 0.9960 - val_loss: 2.4882 - val_accuracy: 0.7810\n",
            "Epoch 78/100\n",
            "75/75 [==============================] - 12s 164ms/step - loss: 0.0578 - accuracy: 0.9858 - val_loss: 1.6008 - val_accuracy: 0.7760\n",
            "Epoch 79/100\n",
            "75/75 [==============================] - 12s 164ms/step - loss: 0.0178 - accuracy: 0.9952 - val_loss: 4.0586 - val_accuracy: 0.7780\n",
            "Epoch 80/100\n",
            "75/75 [==============================] - 12s 164ms/step - loss: 0.0511 - accuracy: 0.9908 - val_loss: 1.3885 - val_accuracy: 0.7700\n",
            "Epoch 81/100\n",
            "75/75 [==============================] - 12s 164ms/step - loss: 0.0321 - accuracy: 0.9929 - val_loss: 1.4831 - val_accuracy: 0.7790\n",
            "Epoch 82/100\n",
            "75/75 [==============================] - 12s 164ms/step - loss: 0.0433 - accuracy: 0.9919 - val_loss: 1.7350 - val_accuracy: 0.7840\n",
            "Epoch 83/100\n",
            "75/75 [==============================] - 12s 164ms/step - loss: 0.0292 - accuracy: 0.9945 - val_loss: 3.3201 - val_accuracy: 0.7850\n",
            "Epoch 84/100\n",
            "75/75 [==============================] - 12s 164ms/step - loss: 5.8836e-06 - accuracy: 1.0000 - val_loss: 4.7779 - val_accuracy: 0.7900\n",
            "Epoch 85/100\n",
            "75/75 [==============================] - 12s 164ms/step - loss: 0.0669 - accuracy: 0.9890 - val_loss: 1.5834 - val_accuracy: 0.7770\n",
            "Epoch 86/100\n",
            "75/75 [==============================] - 12s 164ms/step - loss: 0.0203 - accuracy: 0.9959 - val_loss: 2.8015 - val_accuracy: 0.7720\n",
            "Epoch 87/100\n",
            "75/75 [==============================] - 12s 164ms/step - loss: 0.0721 - accuracy: 0.9866 - val_loss: 1.4455 - val_accuracy: 0.7920\n",
            "Epoch 88/100\n",
            "75/75 [==============================] - 12s 164ms/step - loss: 0.0323 - accuracy: 0.9957 - val_loss: 5.2197 - val_accuracy: 0.7840\n",
            "Epoch 89/100\n",
            "75/75 [==============================] - 12s 164ms/step - loss: 0.0484 - accuracy: 0.9895 - val_loss: 2.0110 - val_accuracy: 0.7730\n",
            "Epoch 90/100\n",
            "75/75 [==============================] - 12s 164ms/step - loss: 0.0228 - accuracy: 0.9922 - val_loss: 2.3060 - val_accuracy: 0.7780\n",
            "Epoch 91/100\n",
            "75/75 [==============================] - 12s 164ms/step - loss: 0.0331 - accuracy: 0.9916 - val_loss: 2.9285 - val_accuracy: 0.7780\n",
            "Epoch 92/100\n",
            "75/75 [==============================] - 12s 164ms/step - loss: 0.0421 - accuracy: 0.9930 - val_loss: 2.4797 - val_accuracy: 0.8000\n",
            "Epoch 93/100\n",
            "75/75 [==============================] - 12s 164ms/step - loss: 0.0281 - accuracy: 0.9962 - val_loss: 1.9625 - val_accuracy: 0.7880\n",
            "Epoch 94/100\n",
            "75/75 [==============================] - 12s 164ms/step - loss: 0.0542 - accuracy: 0.9929 - val_loss: 3.2826 - val_accuracy: 0.7920\n",
            "Epoch 95/100\n",
            "75/75 [==============================] - 12s 164ms/step - loss: 0.0178 - accuracy: 0.9962 - val_loss: 3.2802 - val_accuracy: 0.7880\n",
            "Epoch 96/100\n",
            "75/75 [==============================] - 12s 165ms/step - loss: 0.0289 - accuracy: 0.9937 - val_loss: 3.5780 - val_accuracy: 0.8090\n",
            "Epoch 97/100\n",
            "75/75 [==============================] - 12s 164ms/step - loss: 0.0545 - accuracy: 0.9909 - val_loss: 3.8504 - val_accuracy: 0.7760\n",
            "Epoch 98/100\n",
            "75/75 [==============================] - 12s 164ms/step - loss: 0.0040 - accuracy: 0.9998 - val_loss: 3.0397 - val_accuracy: 0.7730\n",
            "Epoch 99/100\n",
            "75/75 [==============================] - 12s 164ms/step - loss: 0.0491 - accuracy: 0.9904 - val_loss: 1.3194 - val_accuracy: 0.7630\n",
            "Epoch 100/100\n",
            "75/75 [==============================] - 12s 164ms/step - loss: 0.0349 - accuracy: 0.9923 - val_loss: 1.1079 - val_accuracy: 0.7680\n"
          ],
          "name": "stdout"
        }
      ]
    },
    {
      "cell_type": "code",
      "metadata": {
        "colab": {
          "base_uri": "https://localhost:8080/",
          "height": 308
        },
        "id": "uF9SPAMvTyWg",
        "outputId": "ba3cf1bd-0994-44c4-ccd9-0a0e435daec6"
      },
      "source": [
        "f, (ax1, ax2) = plt.subplots(1, 2, figsize=(12, 4))\r\n",
        "t = f.suptitle('Basic CNN Performance', fontsize=12)\r\n",
        "f.subplots_adjust(top=0.85, wspace=0.3)\r\n",
        "\r\n",
        "epoch_list = list(range(1,101))\r\n",
        "ax1.plot(epoch_list, history.history['accuracy'], label='Train Accuracy')\r\n",
        "ax1.plot(epoch_list, history.history['val_accuracy'], label='Validation Accuracy')\r\n",
        "ax1.set_xticks(np.arange(0, 101, 5))\r\n",
        "ax1.set_ylabel('Accuracy Value')\r\n",
        "ax1.set_xlabel('Epoch')\r\n",
        "ax1.set_title('Accuracy')\r\n",
        "l1 = ax1.legend(loc=\"best\")\r\n",
        "\r\n",
        "ax2.plot(epoch_list, history.history['loss'], label='Train Loss')\r\n",
        "ax2.plot(epoch_list, history.history['val_loss'], label='Validation Loss')\r\n",
        "ax2.set_xticks(np.arange(0, 101, 5))\r\n",
        "ax2.set_ylabel('Loss Value')\r\n",
        "ax2.set_xlabel('Epoch')\r\n",
        "ax2.set_title('Loss')\r\n",
        "l2 = ax2.legend(loc=\"best\")"
      ],
      "execution_count": null,
      "outputs": [
        {
          "output_type": "display_data",
          "data": {
            "image/png": "[encoded data removed]",
            "text/plain": [
              "<Figure size 864x288 with 2 Axes>"
            ]
          },
          "metadata": {
            "tags": [],
            "needs_background": "light"
          }
        }
      ]
    },
    {
      "cell_type": "code",
      "metadata": {
        "id": "3QjzcE6hchGg"
      },
      "source": [
        "model.save('cats_dogs_vgg16_cnn.h5')"
      ],
      "execution_count": null,
      "outputs": []
    },
    {
      "cell_type": "code",
      "metadata": {
        "id": "CXUvDkkHco0z"
      },
      "source": [
        ""
      ],
      "execution_count": null,
      "outputs": []
    }
  ]
}