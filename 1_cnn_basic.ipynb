{
  "nbformat": 4,
  "nbformat_minor": 0,
  "metadata": {
    "kernelspec": {
      "display_name": "Python 3",
      "language": "python",
      "name": "python3"
    },
    "language_info": {
      "codemirror_mode": {
        "name": "ipython",
        "version": 3
      },
      "file_extension": ".py",
      "mimetype": "text/x-python",
      "name": "python",
      "nbconvert_exporter": "python",
      "pygments_lexer": "ipython3",
      "version": "3.7.6"
    },
    "colab": {
      "name": "1-cnn-basic.ipynb",
      "provenance": [],
      "collapsed_sections": [],
      "include_colab_link": true
    },
    "accelerator": "GPU",
    "widgets": {
      "application/vnd.jupyter.widget-state+json": {
        "a2d035ce31664417896834e258073da8": {
          "model_module": "@jupyter-widgets/controls",
          "model_name": "VBoxModel",
          "state": {
            "_view_name": "VBoxView",
            "_dom_classes": [],
            "_model_name": "VBoxModel",
            "_view_module": "@jupyter-widgets/controls",
            "_model_module_version": "1.5.0",
            "_view_count": null,
            "_view_module_version": "1.5.0",
            "box_style": "",
            "layout": "IPY_MODEL_612b8e87aa354f5290dde0ead928c25e",
            "_model_module": "@jupyter-widgets/controls",
            "children": [
              "IPY_MODEL_f971e24593e2496ab77b481d35f6275f",
              "IPY_MODEL_1346ee930aca462eb0a9dfe1ae8dddc7"
            ]
          }
        },
        "612b8e87aa354f5290dde0ead928c25e": {
          "model_module": "@jupyter-widgets/base",
          "model_name": "LayoutModel",
          "state": {
            "_view_name": "LayoutView",
            "grid_template_rows": null,
            "right": null,
            "justify_content": null,
            "_view_module": "@jupyter-widgets/base",
            "overflow": null,
            "_model_module_version": "1.2.0",
            "_view_count": null,
            "flex_flow": null,
            "width": null,
            "min_width": null,
            "border": null,
            "align_items": null,
            "bottom": null,
            "_model_module": "@jupyter-widgets/base",
            "top": null,
            "grid_column": null,
            "overflow_y": null,
            "overflow_x": null,
            "grid_auto_flow": null,
            "grid_area": null,
            "grid_template_columns": null,
            "flex": null,
            "_model_name": "LayoutModel",
            "justify_items": null,
            "grid_row": null,
            "max_height": null,
            "align_content": null,
            "visibility": null,
            "align_self": null,
            "height": null,
            "min_height": null,
            "padding": null,
            "grid_auto_rows": null,
            "grid_gap": null,
            "max_width": null,
            "order": null,
            "_view_module_version": "1.2.0",
            "grid_template_areas": null,
            "object_position": null,
            "object_fit": null,
            "grid_auto_columns": null,
            "margin": null,
            "display": null,
            "left": null
          }
        },
        "f971e24593e2496ab77b481d35f6275f": {
          "model_module": "@jupyter-widgets/controls",
          "model_name": "HTMLModel",
          "state": {
            "_view_name": "HTMLView",
            "style": "IPY_MODEL_08626c4547774befb4e08a5959e5c534",
            "_dom_classes": [],
            "description": "",
            "_model_name": "HTMLModel",
            "placeholder": "​",
            "_view_module": "@jupyter-widgets/controls",
            "_model_module_version": "1.5.0",
            "value": "Training Images: 3000",
            "_view_count": null,
            "_view_module_version": "1.5.0",
            "description_tooltip": null,
            "_model_module": "@jupyter-widgets/controls",
            "layout": "IPY_MODEL_c042a54ab45d4b759d1c6090d871d682"
          }
        },
        "1346ee930aca462eb0a9dfe1ae8dddc7": {
          "model_module": "@jupyter-widgets/controls",
          "model_name": "IntProgressModel",
          "state": {
            "_view_name": "ProgressView",
            "style": "IPY_MODEL_663722c0f88d4a799aef88e3c5c1e04e",
            "_dom_classes": [],
            "description": "",
            "_model_name": "IntProgressModel",
            "bar_style": "success",
            "max": 3000,
            "_view_module": "@jupyter-widgets/controls",
            "_model_module_version": "1.5.0",
            "value": 3000,
            "_view_count": null,
            "_view_module_version": "1.5.0",
            "orientation": "horizontal",
            "min": 0,
            "description_tooltip": null,
            "_model_module": "@jupyter-widgets/controls",
            "layout": "IPY_MODEL_bdb95027442a4441abbd8defcb68d893"
          }
        },
        "08626c4547774befb4e08a5959e5c534": {
          "model_module": "@jupyter-widgets/controls",
          "model_name": "DescriptionStyleModel",
          "state": {
            "_view_name": "StyleView",
            "_model_name": "DescriptionStyleModel",
            "description_width": "",
            "_view_module": "@jupyter-widgets/base",
            "_model_module_version": "1.5.0",
            "_view_count": null,
            "_view_module_version": "1.2.0",
            "_model_module": "@jupyter-widgets/controls"
          }
        },
        "c042a54ab45d4b759d1c6090d871d682": {
          "model_module": "@jupyter-widgets/base",
          "model_name": "LayoutModel",
          "state": {
            "_view_name": "LayoutView",
            "grid_template_rows": null,
            "right": null,
            "justify_content": null,
            "_view_module": "@jupyter-widgets/base",
            "overflow": null,
            "_model_module_version": "1.2.0",
            "_view_count": null,
            "flex_flow": null,
            "width": null,
            "min_width": null,
            "border": null,
            "align_items": null,
            "bottom": null,
            "_model_module": "@jupyter-widgets/base",
            "top": null,
            "grid_column": null,
            "overflow_y": null,
            "overflow_x": null,
            "grid_auto_flow": null,
            "grid_area": null,
            "grid_template_columns": null,
            "flex": null,
            "_model_name": "LayoutModel",
            "justify_items": null,
            "grid_row": null,
            "max_height": null,
            "align_content": null,
            "visibility": null,
            "align_self": null,
            "height": null,
            "min_height": null,
            "padding": null,
            "grid_auto_rows": null,
            "grid_gap": null,
            "max_width": null,
            "order": null,
            "_view_module_version": "1.2.0",
            "grid_template_areas": null,
            "object_position": null,
            "object_fit": null,
            "grid_auto_columns": null,
            "margin": null,
            "display": null,
            "left": null
          }
        },
        "663722c0f88d4a799aef88e3c5c1e04e": {
          "model_module": "@jupyter-widgets/controls",
          "model_name": "ProgressStyleModel",
          "state": {
            "_view_name": "StyleView",
            "_model_name": "ProgressStyleModel",
            "description_width": "",
            "_view_module": "@jupyter-widgets/base",
            "_model_module_version": "1.5.0",
            "_view_count": null,
            "_view_module_version": "1.2.0",
            "bar_color": null,
            "_model_module": "@jupyter-widgets/controls"
          }
        },
        "bdb95027442a4441abbd8defcb68d893": {
          "model_module": "@jupyter-widgets/base",
          "model_name": "LayoutModel",
          "state": {
            "_view_name": "LayoutView",
            "grid_template_rows": null,
            "right": null,
            "justify_content": null,
            "_view_module": "@jupyter-widgets/base",
            "overflow": null,
            "_model_module_version": "1.2.0",
            "_view_count": null,
            "flex_flow": null,
            "width": null,
            "min_width": null,
            "border": null,
            "align_items": null,
            "bottom": null,
            "_model_module": "@jupyter-widgets/base",
            "top": null,
            "grid_column": null,
            "overflow_y": null,
            "overflow_x": null,
            "grid_auto_flow": null,
            "grid_area": null,
            "grid_template_columns": null,
            "flex": null,
            "_model_name": "LayoutModel",
            "justify_items": null,
            "grid_row": null,
            "max_height": null,
            "align_content": null,
            "visibility": null,
            "align_self": null,
            "height": null,
            "min_height": null,
            "padding": null,
            "grid_auto_rows": null,
            "grid_gap": null,
            "max_width": null,
            "order": null,
            "_view_module_version": "1.2.0",
            "grid_template_areas": null,
            "object_position": null,
            "object_fit": null,
            "grid_auto_columns": null,
            "margin": null,
            "display": null,
            "left": null
          }
        },
        "ad319c3745e64b6d85ef32297af266d1": {
          "model_module": "@jupyter-widgets/controls",
          "model_name": "VBoxModel",
          "state": {
            "_view_name": "VBoxView",
            "_dom_classes": [],
            "_model_name": "VBoxModel",
            "_view_module": "@jupyter-widgets/controls",
            "_model_module_version": "1.5.0",
            "_view_count": null,
            "_view_module_version": "1.5.0",
            "box_style": "",
            "layout": "IPY_MODEL_b9ea479b427a4530a8f9648d7edcadf3",
            "_model_module": "@jupyter-widgets/controls",
            "children": [
              "IPY_MODEL_4a0cf7fa48b9436f8e844e30f2d8a70b",
              "IPY_MODEL_d8156478061140ed92522d19baffae57"
            ]
          }
        },
        "b9ea479b427a4530a8f9648d7edcadf3": {
          "model_module": "@jupyter-widgets/base",
          "model_name": "LayoutModel",
          "state": {
            "_view_name": "LayoutView",
            "grid_template_rows": null,
            "right": null,
            "justify_content": null,
            "_view_module": "@jupyter-widgets/base",
            "overflow": null,
            "_model_module_version": "1.2.0",
            "_view_count": null,
            "flex_flow": null,
            "width": null,
            "min_width": null,
            "border": null,
            "align_items": null,
            "bottom": null,
            "_model_module": "@jupyter-widgets/base",
            "top": null,
            "grid_column": null,
            "overflow_y": null,
            "overflow_x": null,
            "grid_auto_flow": null,
            "grid_area": null,
            "grid_template_columns": null,
            "flex": null,
            "_model_name": "LayoutModel",
            "justify_items": null,
            "grid_row": null,
            "max_height": null,
            "align_content": null,
            "visibility": null,
            "align_self": null,
            "height": null,
            "min_height": null,
            "padding": null,
            "grid_auto_rows": null,
            "grid_gap": null,
            "max_width": null,
            "order": null,
            "_view_module_version": "1.2.0",
            "grid_template_areas": null,
            "object_position": null,
            "object_fit": null,
            "grid_auto_columns": null,
            "margin": null,
            "display": null,
            "left": null
          }
        },
        "4a0cf7fa48b9436f8e844e30f2d8a70b": {
          "model_module": "@jupyter-widgets/controls",
          "model_name": "HTMLModel",
          "state": {
            "_view_name": "HTMLView",
            "style": "IPY_MODEL_3f79c09195e442caa76010e5b518dbf7",
            "_dom_classes": [],
            "description": "",
            "_model_name": "HTMLModel",
            "placeholder": "​",
            "_view_module": "@jupyter-widgets/controls",
            "_model_module_version": "1.5.0",
            "value": "Validation Images: 1000",
            "_view_count": null,
            "_view_module_version": "1.5.0",
            "description_tooltip": null,
            "_model_module": "@jupyter-widgets/controls",
            "layout": "IPY_MODEL_89e73f7d7d0545139d66021ae83b8842"
          }
        },
        "d8156478061140ed92522d19baffae57": {
          "model_module": "@jupyter-widgets/controls",
          "model_name": "IntProgressModel",
          "state": {
            "_view_name": "ProgressView",
            "style": "IPY_MODEL_96f4aaf71953440f9631771862022985",
            "_dom_classes": [],
            "description": "",
            "_model_name": "IntProgressModel",
            "bar_style": "success",
            "max": 1000,
            "_view_module": "@jupyter-widgets/controls",
            "_model_module_version": "1.5.0",
            "value": 1000,
            "_view_count": null,
            "_view_module_version": "1.5.0",
            "orientation": "horizontal",
            "min": 0,
            "description_tooltip": null,
            "_model_module": "@jupyter-widgets/controls",
            "layout": "IPY_MODEL_aeba111bb2564fc4a526b4df0997bee4"
          }
        },
        "3f79c09195e442caa76010e5b518dbf7": {
          "model_module": "@jupyter-widgets/controls",
          "model_name": "DescriptionStyleModel",
          "state": {
            "_view_name": "StyleView",
            "_model_name": "DescriptionStyleModel",
            "description_width": "",
            "_view_module": "@jupyter-widgets/base",
            "_model_module_version": "1.5.0",
            "_view_count": null,
            "_view_module_version": "1.2.0",
            "_model_module": "@jupyter-widgets/controls"
          }
        },
        "89e73f7d7d0545139d66021ae83b8842": {
          "model_module": "@jupyter-widgets/base",
          "model_name": "LayoutModel",
          "state": {
            "_view_name": "LayoutView",
            "grid_template_rows": null,
            "right": null,
            "justify_content": null,
            "_view_module": "@jupyter-widgets/base",
            "overflow": null,
            "_model_module_version": "1.2.0",
            "_view_count": null,
            "flex_flow": null,
            "width": null,
            "min_width": null,
            "border": null,
            "align_items": null,
            "bottom": null,
            "_model_module": "@jupyter-widgets/base",
            "top": null,
            "grid_column": null,
            "overflow_y": null,
            "overflow_x": null,
            "grid_auto_flow": null,
            "grid_area": null,
            "grid_template_columns": null,
            "flex": null,
            "_model_name": "LayoutModel",
            "justify_items": null,
            "grid_row": null,
            "max_height": null,
            "align_content": null,
            "visibility": null,
            "align_self": null,
            "height": null,
            "min_height": null,
            "padding": null,
            "grid_auto_rows": null,
            "grid_gap": null,
            "max_width": null,
            "order": null,
            "_view_module_version": "1.2.0",
            "grid_template_areas": null,
            "object_position": null,
            "object_fit": null,
            "grid_auto_columns": null,
            "margin": null,
            "display": null,
            "left": null
          }
        },
        "96f4aaf71953440f9631771862022985": {
          "model_module": "@jupyter-widgets/controls",
          "model_name": "ProgressStyleModel",
          "state": {
            "_view_name": "StyleView",
            "_model_name": "ProgressStyleModel",
            "description_width": "",
            "_view_module": "@jupyter-widgets/base",
            "_model_module_version": "1.5.0",
            "_view_count": null,
            "_view_module_version": "1.2.0",
            "bar_color": null,
            "_model_module": "@jupyter-widgets/controls"
          }
        },
        "aeba111bb2564fc4a526b4df0997bee4": {
          "model_module": "@jupyter-widgets/base",
          "model_name": "LayoutModel",
          "state": {
            "_view_name": "LayoutView",
            "grid_template_rows": null,
            "right": null,
            "justify_content": null,
            "_view_module": "@jupyter-widgets/base",
            "overflow": null,
            "_model_module_version": "1.2.0",
            "_view_count": null,
            "flex_flow": null,
            "width": null,
            "min_width": null,
            "border": null,
            "align_items": null,
            "bottom": null,
            "_model_module": "@jupyter-widgets/base",
            "top": null,
            "grid_column": null,
            "overflow_y": null,
            "overflow_x": null,
            "grid_auto_flow": null,
            "grid_area": null,
            "grid_template_columns": null,
            "flex": null,
            "_model_name": "LayoutModel",
            "justify_items": null,
            "grid_row": null,
            "max_height": null,
            "align_content": null,
            "visibility": null,
            "align_self": null,
            "height": null,
            "min_height": null,
            "padding": null,
            "grid_auto_rows": null,
            "grid_gap": null,
            "max_width": null,
            "order": null,
            "_view_module_version": "1.2.0",
            "grid_template_areas": null,
            "object_position": null,
            "object_fit": null,
            "grid_auto_columns": null,
            "margin": null,
            "display": null,
            "left": null
          }
        },
        "6c2677eb3bcc4f05b73c4485f18098e9": {
          "model_module": "@jupyter-widgets/controls",
          "model_name": "VBoxModel",
          "state": {
            "_view_name": "VBoxView",
            "_dom_classes": [],
            "_model_name": "VBoxModel",
            "_view_module": "@jupyter-widgets/controls",
            "_model_module_version": "1.5.0",
            "_view_count": null,
            "_view_module_version": "1.5.0",
            "box_style": "",
            "layout": "IPY_MODEL_f7630e2b10234e12a642d0ce33a5478d",
            "_model_module": "@jupyter-widgets/controls",
            "children": [
              "IPY_MODEL_154558f044b3456c89e17aded5c823b8",
              "IPY_MODEL_c1131cbb3ee24911aba3e42e204b325f"
            ]
          }
        },
        "f7630e2b10234e12a642d0ce33a5478d": {
          "model_module": "@jupyter-widgets/base",
          "model_name": "LayoutModel",
          "state": {
            "_view_name": "LayoutView",
            "grid_template_rows": null,
            "right": null,
            "justify_content": null,
            "_view_module": "@jupyter-widgets/base",
            "overflow": null,
            "_model_module_version": "1.2.0",
            "_view_count": null,
            "flex_flow": null,
            "width": null,
            "min_width": null,
            "border": null,
            "align_items": null,
            "bottom": null,
            "_model_module": "@jupyter-widgets/base",
            "top": null,
            "grid_column": null,
            "overflow_y": null,
            "overflow_x": null,
            "grid_auto_flow": null,
            "grid_area": null,
            "grid_template_columns": null,
            "flex": null,
            "_model_name": "LayoutModel",
            "justify_items": null,
            "grid_row": null,
            "max_height": null,
            "align_content": null,
            "visibility": null,
            "align_self": null,
            "height": null,
            "min_height": null,
            "padding": null,
            "grid_auto_rows": null,
            "grid_gap": null,
            "max_width": null,
            "order": null,
            "_view_module_version": "1.2.0",
            "grid_template_areas": null,
            "object_position": null,
            "object_fit": null,
            "grid_auto_columns": null,
            "margin": null,
            "display": null,
            "left": null
          }
        },
        "154558f044b3456c89e17aded5c823b8": {
          "model_module": "@jupyter-widgets/controls",
          "model_name": "HTMLModel",
          "state": {
            "_view_name": "HTMLView",
            "style": "IPY_MODEL_a40a0b36e0224e3289c4e59eeaaf2e83",
            "_dom_classes": [],
            "description": "",
            "_model_name": "HTMLModel",
            "placeholder": "​",
            "_view_module": "@jupyter-widgets/controls",
            "_model_module_version": "1.5.0",
            "value": "Test Images: 1000",
            "_view_count": null,
            "_view_module_version": "1.5.0",
            "description_tooltip": null,
            "_model_module": "@jupyter-widgets/controls",
            "layout": "IPY_MODEL_251a96e51df24da982b7c1521af97c51"
          }
        },
        "c1131cbb3ee24911aba3e42e204b325f": {
          "model_module": "@jupyter-widgets/controls",
          "model_name": "IntProgressModel",
          "state": {
            "_view_name": "ProgressView",
            "style": "IPY_MODEL_641c86bb61dd4bcdb2aa676393c47415",
            "_dom_classes": [],
            "description": "",
            "_model_name": "IntProgressModel",
            "bar_style": "success",
            "max": 1000,
            "_view_module": "@jupyter-widgets/controls",
            "_model_module_version": "1.5.0",
            "value": 1000,
            "_view_count": null,
            "_view_module_version": "1.5.0",
            "orientation": "horizontal",
            "min": 0,
            "description_tooltip": null,
            "_model_module": "@jupyter-widgets/controls",
            "layout": "IPY_MODEL_6d7404bd431c4a749305acb63ed9dd02"
          }
        },
        "a40a0b36e0224e3289c4e59eeaaf2e83": {
          "model_module": "@jupyter-widgets/controls",
          "model_name": "DescriptionStyleModel",
          "state": {
            "_view_name": "StyleView",
            "_model_name": "DescriptionStyleModel",
            "description_width": "",
            "_view_module": "@jupyter-widgets/base",
            "_model_module_version": "1.5.0",
            "_view_count": null,
            "_view_module_version": "1.2.0",
            "_model_module": "@jupyter-widgets/controls"
          }
        },
        "251a96e51df24da982b7c1521af97c51": {
          "model_module": "@jupyter-widgets/base",
          "model_name": "LayoutModel",
          "state": {
            "_view_name": "LayoutView",
            "grid_template_rows": null,
            "right": null,
            "justify_content": null,
            "_view_module": "@jupyter-widgets/base",
            "overflow": null,
            "_model_module_version": "1.2.0",
            "_view_count": null,
            "flex_flow": null,
            "width": null,
            "min_width": null,
            "border": null,
            "align_items": null,
            "bottom": null,
            "_model_module": "@jupyter-widgets/base",
            "top": null,
            "grid_column": null,
            "overflow_y": null,
            "overflow_x": null,
            "grid_auto_flow": null,
            "grid_area": null,
            "grid_template_columns": null,
            "flex": null,
            "_model_name": "LayoutModel",
            "justify_items": null,
            "grid_row": null,
            "max_height": null,
            "align_content": null,
            "visibility": null,
            "align_self": null,
            "height": null,
            "min_height": null,
            "padding": null,
            "grid_auto_rows": null,
            "grid_gap": null,
            "max_width": null,
            "order": null,
            "_view_module_version": "1.2.0",
            "grid_template_areas": null,
            "object_position": null,
            "object_fit": null,
            "grid_auto_columns": null,
            "margin": null,
            "display": null,
            "left": null
          }
        },
        "641c86bb61dd4bcdb2aa676393c47415": {
          "model_module": "@jupyter-widgets/controls",
          "model_name": "ProgressStyleModel",
          "state": {
            "_view_name": "StyleView",
            "_model_name": "ProgressStyleModel",
            "description_width": "",
            "_view_module": "@jupyter-widgets/base",
            "_model_module_version": "1.5.0",
            "_view_count": null,
            "_view_module_version": "1.2.0",
            "bar_color": null,
            "_model_module": "@jupyter-widgets/controls"
          }
        },
        "6d7404bd431c4a749305acb63ed9dd02": {
          "model_module": "@jupyter-widgets/base",
          "model_name": "LayoutModel",
          "state": {
            "_view_name": "LayoutView",
            "grid_template_rows": null,
            "right": null,
            "justify_content": null,
            "_view_module": "@jupyter-widgets/base",
            "overflow": null,
            "_model_module_version": "1.2.0",
            "_view_count": null,
            "flex_flow": null,
            "width": null,
            "min_width": null,
            "border": null,
            "align_items": null,
            "bottom": null,
            "_model_module": "@jupyter-widgets/base",
            "top": null,
            "grid_column": null,
            "overflow_y": null,
            "overflow_x": null,
            "grid_auto_flow": null,
            "grid_area": null,
            "grid_template_columns": null,
            "flex": null,
            "_model_name": "LayoutModel",
            "justify_items": null,
            "grid_row": null,
            "max_height": null,
            "align_content": null,
            "visibility": null,
            "align_self": null,
            "height": null,
            "min_height": null,
            "padding": null,
            "grid_auto_rows": null,
            "grid_gap": null,
            "max_width": null,
            "order": null,
            "_view_module_version": "1.2.0",
            "grid_template_areas": null,
            "object_position": null,
            "object_fit": null,
            "grid_auto_columns": null,
            "margin": null,
            "display": null,
            "left": null
          }
        }
      }
    }
  },
  "cells": [
    {
      "cell_type": "markdown",
      "metadata": {
        "id": "view-in-github",
        "colab_type": "text"
      },
      "source": [
        "<a href=\"https://colab.research.google.com/github/qwerlarlgus/CNN-Cats-Dogs/blob/main/1_cnn_basic.ipynb\" target=\"_parent\"><img src=\"https://colab.research.google.com/assets/colab-badge.svg\" alt=\"Open In Colab\"/></a>"
      ]
    },
    {
      "cell_type": "code",
      "metadata": {
        "id": "eV_2xHefReRr"
      },
      "source": [
        "!unzip dogs_cats.zip"
      ],
      "execution_count": null,
      "outputs": []
    },
    {
      "cell_type": "code",
      "metadata": {
        "colab": {
          "base_uri": "https://localhost:8080/"
        },
        "id": "vUNH1tVwWre2",
        "outputId": "f6ad1241-1d0a-4592-ef68-4f42971d4511"
      },
      "source": [
        "!ls -l"
      ],
      "execution_count": null,
      "outputs": [
        {
          "output_type": "stream",
          "text": [
            "total 670008\n",
            "-rw------- 1 root root 571060674 Jan 22 01:15 dogs_cats.zip\n",
            "drwx------ 5 root root      4096 Jan 22 02:41 drive\n",
            "drwxr-xr-x 1 root root      4096 Jan 20 17:27 sample_data\n",
            "drwxr-xr-x 2 root root    753664 Nov 28  2019 train\n",
            "-rw------- 1 root root 114250866 Jan 21 04:51 validation_data.zip\n"
          ],
          "name": "stdout"
        }
      ]
    },
    {
      "cell_type": "code",
      "metadata": {
        "colab": {
          "base_uri": "https://localhost:8080/",
          "height": 35
        },
        "id": "mjmsV3TxTYLb",
        "outputId": "c5d7a699-818f-4ad8-971e-73e1a48704f6"
      },
      "source": [
        "import keras\r\n",
        "keras.__version__"
      ],
      "execution_count": null,
      "outputs": [
        {
          "output_type": "execute_result",
          "data": {
            "application/vnd.google.colaboratory.intrinsic+json": {
              "type": "string"
            },
            "text/plain": [
              "'2.4.3'"
            ]
          },
          "metadata": {
            "tags": []
          },
          "execution_count": 4
        }
      ]
    },
    {
      "cell_type": "code",
      "metadata": {
        "id": "klxR9l0ArPga"
      },
      "source": [
        "\r\n",
        "import glob\r\n",
        "import numpy as np\r\n",
        "import os\r\n",
        "import shutil\r\n",
        "#from utils import log_progress\r\n",
        "\r\n",
        "np.random.seed(42)"
      ],
      "execution_count": null,
      "outputs": []
    },
    {
      "cell_type": "code",
      "metadata": {
        "id": "ieDh8SDot85D"
      },
      "source": [
        "def log_progress(sequence, every=None, size=None, name='Items'):\r\n",
        "    from ipywidgets import IntProgress, HTML, VBox\r\n",
        "    from IPython.display import display\r\n",
        "\r\n",
        "    is_iterator = False\r\n",
        "    if size is None:\r\n",
        "        try:\r\n",
        "            size = len(sequence)\r\n",
        "        except TypeError:\r\n",
        "            is_iterator = True\r\n",
        "    if size is not None:\r\n",
        "        if every is None:\r\n",
        "            if size <= 200:\r\n",
        "                every = 1\r\n",
        "            else:\r\n",
        "                every = int(size / 200)     # every 0.5%\r\n",
        "    else:\r\n",
        "        assert every is not None, 'sequence is iterator, set every'\r\n",
        "\r\n",
        "    if is_iterator:\r\n",
        "        progress = IntProgress(min=0, max=1, value=1)\r\n",
        "        progress.bar_style = 'info'\r\n",
        "    else:\r\n",
        "        progress = IntProgress(min=0, max=size, value=0)\r\n",
        "    label = HTML()\r\n",
        "    box = VBox(children=[label, progress])\r\n",
        "    display(box)\r\n",
        "\r\n",
        "    index = 0\r\n",
        "    try:\r\n",
        "        for index, record in enumerate(sequence, 1):\r\n",
        "            if index == 1 or index % every == 0:\r\n",
        "                if is_iterator:\r\n",
        "                    label.value = '{name}: {index} / ?'.format(\r\n",
        "                        name=name,\r\n",
        "                        index=index\r\n",
        "                    )\r\n",
        "                else:\r\n",
        "                    progress.value = index\r\n",
        "                    label.value = u'{name}: {index} / {size}'.format(\r\n",
        "                        name=name,\r\n",
        "                        index=index,\r\n",
        "                        size=size\r\n",
        "                    )\r\n",
        "            yield record\r\n",
        "    except:\r\n",
        "        progress.bar_style = 'danger'\r\n",
        "        raise\r\n",
        "    else:\r\n",
        "        progress.bar_style = 'success'\r\n",
        "        progress.value = index\r\n",
        "        label.value = \"{name}: {index}\".format(\r\n",
        "            name=name,\r\n",
        "            index=str(index or '?')\r\n",
        "        )"
      ],
      "execution_count": null,
      "outputs": []
    },
    {
      "cell_type": "code",
      "metadata": {
        "colab": {
          "base_uri": "https://localhost:8080/"
        },
        "id": "fdnqvhSfrPJy",
        "outputId": "f07c43e0-2aa4-4c24-c11e-8abfc5ab1bdf"
      },
      "source": [
        "files = glob.glob('train/*')\r\n",
        "\r\n",
        "cat_files = [fn for fn in files if 'cat' in fn]\r\n",
        "dog_files = [fn for fn in files if 'dog' in fn]\r\n",
        "len(cat_files), len(dog_files)"
      ],
      "execution_count": null,
      "outputs": [
        {
          "output_type": "execute_result",
          "data": {
            "text/plain": [
              "(12500, 12514)"
            ]
          },
          "metadata": {
            "tags": []
          },
          "execution_count": 7
        }
      ]
    },
    {
      "cell_type": "code",
      "metadata": {
        "colab": {
          "base_uri": "https://localhost:8080/"
        },
        "id": "MdJq0VkjuHmD",
        "outputId": "8ae6bc3d-844c-4a62-af5d-2606aa4d70e8"
      },
      "source": [
        "cat_train = np.random.choice(cat_files, size=1500, replace=False)\r\n",
        "dog_train = np.random.choice(dog_files, size=1500, replace=False)\r\n",
        "cat_files = list(set(cat_files) - set(cat_train))\r\n",
        "dog_files = list(set(dog_files) - set(dog_train))\r\n",
        "\r\n",
        "cat_val = np.random.choice(cat_files, size=500, replace=False)\r\n",
        "dog_val = np.random.choice(dog_files, size=500, replace=False)\r\n",
        "cat_files = list(set(cat_files) - set(cat_val))\r\n",
        "dog_files = list(set(dog_files) - set(dog_val))\r\n",
        "\r\n",
        "cat_test = np.random.choice(cat_files, size=500, replace=False)\r\n",
        "dog_test = np.random.choice(dog_files, size=500, replace=False)\r\n",
        "\r\n",
        "print('Cat datasets:', cat_train.shape, cat_val.shape, cat_test.shape)\r\n",
        "print('Dog datasets:', dog_train.shape, dog_val.shape, dog_test.shape)"
      ],
      "execution_count": null,
      "outputs": [
        {
          "output_type": "stream",
          "text": [
            "Cat datasets: (1500,) (500,) (500,)\n",
            "Dog datasets: (1500,) (500,) (500,)\n"
          ],
          "name": "stdout"
        }
      ]
    },
    {
      "cell_type": "code",
      "metadata": {
        "colab": {
          "base_uri": "https://localhost:8080/",
          "height": 209,
          "referenced_widgets": [
            "a2d035ce31664417896834e258073da8",
            "612b8e87aa354f5290dde0ead928c25e",
            "f971e24593e2496ab77b481d35f6275f",
            "1346ee930aca462eb0a9dfe1ae8dddc7",
            "08626c4547774befb4e08a5959e5c534",
            "c042a54ab45d4b759d1c6090d871d682",
            "663722c0f88d4a799aef88e3c5c1e04e",
            "bdb95027442a4441abbd8defcb68d893",
            "ad319c3745e64b6d85ef32297af266d1",
            "b9ea479b427a4530a8f9648d7edcadf3",
            "4a0cf7fa48b9436f8e844e30f2d8a70b",
            "d8156478061140ed92522d19baffae57",
            "3f79c09195e442caa76010e5b518dbf7",
            "89e73f7d7d0545139d66021ae83b8842",
            "96f4aaf71953440f9631771862022985",
            "aeba111bb2564fc4a526b4df0997bee4",
            "6c2677eb3bcc4f05b73c4485f18098e9",
            "f7630e2b10234e12a642d0ce33a5478d",
            "154558f044b3456c89e17aded5c823b8",
            "c1131cbb3ee24911aba3e42e204b325f",
            "a40a0b36e0224e3289c4e59eeaaf2e83",
            "251a96e51df24da982b7c1521af97c51",
            "641c86bb61dd4bcdb2aa676393c47415",
            "6d7404bd431c4a749305acb63ed9dd02"
          ]
        },
        "id": "tg_Rh23JuLsM",
        "outputId": "71436e8d-8f31-4cd1-ab5a-4e99c72e365d"
      },
      "source": [
        "train_dir = 'training_data'\r\n",
        "val_dir = 'validation_data'\r\n",
        "test_dir = 'test_data'\r\n",
        "\r\n",
        "train_files = np.concatenate([cat_train, dog_train])\r\n",
        "validate_files = np.concatenate([cat_val, dog_val])\r\n",
        "test_files = np.concatenate([cat_test, dog_test])\r\n",
        "\r\n",
        "os.mkdir(train_dir) if not os.path.isdir(train_dir) else None\r\n",
        "os.mkdir(val_dir) if not os.path.isdir(val_dir) else None\r\n",
        "os.mkdir(test_dir) if not os.path.isdir(test_dir) else None\r\n",
        "\r\n",
        "for fn in log_progress(train_files, name='Training Images'):\r\n",
        "    shutil.copy(fn, train_dir)\r\n",
        "\r\n",
        "for fn in log_progress(validate_files, name='Validation Images'):\r\n",
        "    shutil.copy(fn, val_dir)\r\n",
        "    \r\n",
        "for fn in log_progress(test_files, name='Test Images'):\r\n",
        "    shutil.copy(fn, test_dir)"
      ],
      "execution_count": null,
      "outputs": [
        {
          "output_type": "display_data",
          "data": {
            "application/vnd.jupyter.widget-view+json": {
              "model_id": "a2d035ce31664417896834e258073da8",
              "version_minor": 0,
              "version_major": 2
            },
            "text/plain": [
              "VBox(children=(HTML(value=''), IntProgress(value=0, max=3000)))"
            ]
          },
          "metadata": {
            "tags": []
          }
        },
        {
          "output_type": "display_data",
          "data": {
            "application/vnd.jupyter.widget-view+json": {
              "model_id": "ad319c3745e64b6d85ef32297af266d1",
              "version_minor": 0,
              "version_major": 2
            },
            "text/plain": [
              "VBox(children=(HTML(value=''), IntProgress(value=0, max=1000)))"
            ]
          },
          "metadata": {
            "tags": []
          }
        },
        {
          "output_type": "display_data",
          "data": {
            "application/vnd.jupyter.widget-view+json": {
              "model_id": "6c2677eb3bcc4f05b73c4485f18098e9",
              "version_minor": 0,
              "version_major": 2
            },
            "text/plain": [
              "VBox(children=(HTML(value=''), IntProgress(value=0, max=1000)))"
            ]
          },
          "metadata": {
            "tags": []
          }
        }
      ]
    },
    {
      "cell_type": "code",
      "metadata": {
        "colab": {
          "base_uri": "https://localhost:8080/"
        },
        "id": "RJhSk_j3VA7w",
        "outputId": "96cace2b-c3d4-4d1b-d7c6-19d4f291b4c9"
      },
      "source": [
        "from google.colab import drive\n",
        "drive.mount('/content/drive')"
      ],
      "execution_count": null,
      "outputs": [
        {
          "output_type": "stream",
          "text": [
            "Mounted at /content/drive\n"
          ],
          "name": "stdout"
        }
      ]
    },
    {
      "cell_type": "code",
      "metadata": {
        "id": "GMyV8MGLdxLB"
      },
      "source": [
        "### Case I Basic CNN"
      ],
      "execution_count": null,
      "outputs": []
    },
    {
      "cell_type": "code",
      "metadata": {
        "id": "mRr4Lh1P-7VF"
      },
      "source": [
        ""
      ],
      "execution_count": null,
      "outputs": []
    },
    {
      "cell_type": "code",
      "metadata": {
        "id": "rFnszJvg-1Zy"
      },
      "source": [
        "!unzip validation_data.zip"
      ],
      "execution_count": null,
      "outputs": []
    },
    {
      "cell_type": "code",
      "metadata": {
        "id": "5czn_fQ54IER"
      },
      "source": [
        "%matplotlib inline\r\n",
        "import glob\r\n",
        "import numpy as np\r\n",
        "import matplotlib.pyplot as plt\r\n",
        "from tensorflow.keras.preprocessing.image import ImageDataGenerator, load_img, img_to_array, array_to_img"
      ],
      "execution_count": null,
      "outputs": []
    },
    {
      "cell_type": "code",
      "metadata": {
        "id": "x8Gdr5HX4R_-",
        "colab": {
          "base_uri": "https://localhost:8080/"
        },
        "outputId": "9bb7016e-ae6a-432f-e357-199d02ba2688"
      },
      "source": [
        "IMG_DIM = (150, 150)\r\n",
        "\r\n",
        "train_files = glob.glob('training_data/*')\r\n",
        "train_imgs = [img_to_array(load_img(img, target_size=IMG_DIM)) for img in train_files]\r\n",
        "train_imgs = np.array(train_imgs)\r\n",
        "train_labels = [fn.split('/')[1].split('.')[0].strip() for fn in train_files]\r\n",
        "\r\n",
        "validation_files = glob.glob('validation_data/*')\r\n",
        "validation_imgs = [img_to_array(load_img(img, target_size=IMG_DIM)) for img in validation_files]\r\n",
        "validation_imgs = np.array(validation_imgs)\r\n",
        "validation_labels = [fn.split('/')[1].split('.')[0].strip() for fn in validation_files]\r\n",
        "\r\n",
        "print('Train dataset shape:', train_imgs.shape, \r\n",
        "      '\\tValidation dataset shape:', validation_imgs.shape)"
      ],
      "execution_count": null,
      "outputs": [
        {
          "output_type": "stream",
          "text": [
            "Train dataset shape: (5659, 150, 150, 3) \tValidation dataset shape: (1954, 150, 150, 3)\n"
          ],
          "name": "stdout"
        }
      ]
    },
    {
      "cell_type": "code",
      "metadata": {
        "id": "P8sSo9Jb4WKG",
        "colab": {
          "base_uri": "https://localhost:8080/",
          "height": 185
        },
        "outputId": "9958af69-e6e0-49de-aa46-1cd2f5d031b2"
      },
      "source": [
        "train_imgs_scaled = train_imgs.astype('float32')\r\n",
        "validation_imgs_scaled  = validation_imgs.astype('float32')\r\n",
        "train_imgs_scaled /= 255\r\n",
        "validation_imgs_scaled /= 255\r\n",
        "print(train_imgs[99].shape)\r\n",
        "array_to_img(train_imgs[99])"
      ],
      "execution_count": null,
      "outputs": [
        {
          "output_type": "stream",
          "text": [
            "(150, 150, 3)\n"
          ],
          "name": "stdout"
        },
        {
          "output_type": "execute_result",
          "data": {
            "image/png": "[encoded data removed]",
            "text/plain": [
              "<PIL.Image.Image image mode=RGB size=150x150 at 0x7F632AF8B860>"
            ]
          },
          "metadata": {
            "tags": []
          },
          "execution_count": 18
        }
      ]
    },
    {
      "cell_type": "code",
      "metadata": {
        "id": "xjaDrc_k4hSR",
        "colab": {
          "base_uri": "https://localhost:8080/"
        },
        "outputId": "53ccb55c-38e0-43ea-825a-430b6e8a4fd9"
      },
      "source": [
        "batch_size = 50\r\n",
        "num_classes = 2\r\n",
        "epochs = 150\r\n",
        "input_shape = (150, 150, 3)\r\n",
        "\r\n",
        "# encode text category labels\r\n",
        "from sklearn.preprocessing import LabelEncoder\r\n",
        "\r\n",
        "le = LabelEncoder()\r\n",
        "le.fit(train_labels)\r\n",
        "train_labels_enc = le.transform(train_labels)\r\n",
        "validation_labels_enc = le.transform(validation_labels)\r\n",
        "\r\n",
        "print(train_labels[1495:1505], train_labels_enc[1495:1505])"
      ],
      "execution_count": null,
      "outputs": [
        {
          "output_type": "stream",
          "text": [
            "['dog', 'cat', 'dog', 'cat', 'cat', 'dog', 'cat', 'cat', 'dog', 'cat'] [1 0 1 0 0 1 0 0 1 0]\n"
          ],
          "name": "stdout"
        }
      ]
    },
    {
      "cell_type": "code",
      "metadata": {
        "id": "_Qxv_sJi44Hp"
      },
      "source": [
        "from tensorflow.keras.layers import Conv2D, MaxPooling2D, Flatten, Dense, Dropout\r\n",
        "from tensorflow.keras.models import Sequential\r\n",
        "from tensorflow.keras import optimizers"
      ],
      "execution_count": null,
      "outputs": []
    },
    {
      "cell_type": "code",
      "metadata": {
        "id": "P-bmf1xI7X7Z"
      },
      "source": [
        ""
      ],
      "execution_count": null,
      "outputs": []
    },
    {
      "cell_type": "code",
      "metadata": {
        "id": "_Bh7_NAj47Mg"
      },
      "source": [
        "model = Sequential()\r\n",
        "\r\n",
        "model.add(Conv2D(16, kernel_size=(3, 3), activation='relu', padding=\"same\",\r\n",
        "                 input_shape=input_shape))\r\n",
        "model.add(MaxPooling2D(pool_size=(2, 2)))\r\n",
        "\r\n",
        "model.add(Conv2D(64, kernel_size=(3, 3), activation='relu', padding=\"same\"))\r\n",
        "model.add(MaxPooling2D(pool_size=(2, 2)))\r\n",
        "\r\n",
        "model.add(Conv2D(128, kernel_size=(3, 3), activation='relu', padding=\"same\"))\r\n",
        "model.add(MaxPooling2D(pool_size=(2, 2)))\r\n",
        "\r\n",
        "model.add(Flatten())\r\n",
        "model.add(Dense(512, activation='relu'))\r\n",
        "model.add(Dense(1, activation='sigmoid'))"
      ],
      "execution_count": null,
      "outputs": []
    },
    {
      "cell_type": "code",
      "metadata": {
        "id": "6EotbfGn7iRp",
        "colab": {
          "base_uri": "https://localhost:8080/"
        },
        "outputId": "2d789e37-792e-4a58-9a71-f52d03c8969f"
      },
      "source": [
        "model.compile(loss='binary_crossentropy',\r\n",
        "              optimizer=optimizers.RMSprop(lr=0.001),\r\n",
        "              metrics=['accuracy'])\r\n",
        "model.summary()"
      ],
      "execution_count": null,
      "outputs": [
        {
          "output_type": "stream",
          "text": [
            "Model: \"sequential\"\n",
            "_________________________________________________________________\n",
            "Layer (type)                 Output Shape              Param #   \n",
            "=================================================================\n",
            "conv2d (Conv2D)              (None, 150, 150, 16)      448       \n",
            "_________________________________________________________________\n",
            "max_pooling2d (MaxPooling2D) (None, 75, 75, 16)        0         \n",
            "_________________________________________________________________\n",
            "conv2d_1 (Conv2D)            (None, 75, 75, 64)        9280      \n",
            "_________________________________________________________________\n",
            "max_pooling2d_1 (MaxPooling2 (None, 37, 37, 64)        0         \n",
            "_________________________________________________________________\n",
            "conv2d_2 (Conv2D)            (None, 37, 37, 128)       73856     \n",
            "_________________________________________________________________\n",
            "max_pooling2d_2 (MaxPooling2 (None, 18, 18, 128)       0         \n",
            "_________________________________________________________________\n",
            "flatten (Flatten)            (None, 41472)             0         \n",
            "_________________________________________________________________\n",
            "dense (Dense)                (None, 512)               21234176  \n",
            "_________________________________________________________________\n",
            "dense_1 (Dense)              (None, 1)                 513       \n",
            "=================================================================\n",
            "Total params: 21,318,273\n",
            "Trainable params: 21,318,273\n",
            "Non-trainable params: 0\n",
            "_________________________________________________________________\n"
          ],
          "name": "stdout"
        }
      ]
    },
    {
      "cell_type": "code",
      "metadata": {
        "id": "iPWCE8vs5Azw",
        "colab": {
          "base_uri": "https://localhost:8080/"
        },
        "outputId": "9afcb6d6-8321-49bb-a975-a5bc719a3a55"
      },
      "source": [
        "history = model.fit(x=train_imgs_scaled, y=train_labels_enc,\r\n",
        "                    validation_data=(validation_imgs_scaled, validation_labels_enc),\r\n",
        "                    batch_size=batch_size,\r\n",
        "                    epochs=epochs,\r\n",
        "                    verbose=1)"
      ],
      "execution_count": null,
      "outputs": [
        {
          "output_type": "stream",
          "text": [
            "Epoch 1/150\n",
            "114/114 [==============================] - 13s 44ms/step - loss: 1.1219 - accuracy: 0.5548 - val_loss: 0.7801 - val_accuracy: 0.5553\n",
            "Epoch 2/150\n",
            "114/114 [==============================] - 5s 41ms/step - loss: 0.6120 - accuracy: 0.6816 - val_loss: 0.6847 - val_accuracy: 0.6673\n",
            "Epoch 3/150\n",
            "114/114 [==============================] - 5s 42ms/step - loss: 0.5287 - accuracy: 0.7369 - val_loss: 0.6097 - val_accuracy: 0.7083\n",
            "Epoch 4/150\n",
            "114/114 [==============================] - 5s 41ms/step - loss: 0.4565 - accuracy: 0.7818 - val_loss: 0.7551 - val_accuracy: 0.6499\n",
            "Epoch 5/150\n",
            "114/114 [==============================] - 5s 42ms/step - loss: 0.3893 - accuracy: 0.8297 - val_loss: 0.5062 - val_accuracy: 0.7620\n",
            "Epoch 6/150\n",
            "114/114 [==============================] - 5s 42ms/step - loss: 0.2987 - accuracy: 0.8732 - val_loss: 0.5669 - val_accuracy: 0.7794\n",
            "Epoch 7/150\n",
            "114/114 [==============================] - 5s 42ms/step - loss: 0.2042 - accuracy: 0.9163 - val_loss: 0.5273 - val_accuracy: 0.7902\n",
            "Epoch 8/150\n",
            "114/114 [==============================] - 5s 42ms/step - loss: 0.1420 - accuracy: 0.9493 - val_loss: 0.7738 - val_accuracy: 0.7467\n",
            "Epoch 9/150\n",
            "114/114 [==============================] - 5s 42ms/step - loss: 0.1098 - accuracy: 0.9643 - val_loss: 0.8385 - val_accuracy: 0.7892\n",
            "Epoch 10/150\n",
            "114/114 [==============================] - 5s 42ms/step - loss: 0.0723 - accuracy: 0.9734 - val_loss: 1.0223 - val_accuracy: 0.7820\n",
            "Epoch 11/150\n",
            "114/114 [==============================] - 5s 42ms/step - loss: 0.0737 - accuracy: 0.9757 - val_loss: 0.8238 - val_accuracy: 0.7876\n",
            "Epoch 12/150\n",
            "114/114 [==============================] - 5s 42ms/step - loss: 0.0280 - accuracy: 0.9928 - val_loss: 1.0680 - val_accuracy: 0.7938\n",
            "Epoch 13/150\n",
            "114/114 [==============================] - 5s 42ms/step - loss: 0.0315 - accuracy: 0.9909 - val_loss: 1.2088 - val_accuracy: 0.8019\n",
            "Epoch 14/150\n",
            "114/114 [==============================] - 5s 42ms/step - loss: 0.0731 - accuracy: 0.9819 - val_loss: 1.4077 - val_accuracy: 0.7943\n",
            "Epoch 15/150\n",
            "114/114 [==============================] - 5s 42ms/step - loss: 0.0413 - accuracy: 0.9908 - val_loss: 1.4748 - val_accuracy: 0.7856\n",
            "Epoch 16/150\n",
            "114/114 [==============================] - 5s 42ms/step - loss: 0.0576 - accuracy: 0.9845 - val_loss: 1.0988 - val_accuracy: 0.7815\n",
            "Epoch 17/150\n",
            "114/114 [==============================] - 5s 42ms/step - loss: 0.0111 - accuracy: 0.9965 - val_loss: 3.4601 - val_accuracy: 0.6975\n",
            "Epoch 18/150\n",
            "114/114 [==============================] - 5s 42ms/step - loss: 0.0611 - accuracy: 0.9843 - val_loss: 1.4980 - val_accuracy: 0.7927\n",
            "Epoch 19/150\n",
            "114/114 [==============================] - 5s 43ms/step - loss: 0.0279 - accuracy: 0.9961 - val_loss: 1.8245 - val_accuracy: 0.7902\n",
            "Epoch 20/150\n",
            "114/114 [==============================] - 5s 43ms/step - loss: 0.0343 - accuracy: 0.9920 - val_loss: 1.6248 - val_accuracy: 0.7948\n",
            "Epoch 21/150\n",
            "114/114 [==============================] - 5s 43ms/step - loss: 0.0196 - accuracy: 0.9946 - val_loss: 1.6831 - val_accuracy: 0.7927\n",
            "Epoch 22/150\n",
            "114/114 [==============================] - 5s 43ms/step - loss: 0.0048 - accuracy: 0.9987 - val_loss: 1.9940 - val_accuracy: 0.8030\n",
            "Epoch 23/150\n",
            "114/114 [==============================] - 5s 43ms/step - loss: 0.0783 - accuracy: 0.9884 - val_loss: 4.3545 - val_accuracy: 0.7503\n",
            "Epoch 24/150\n",
            "114/114 [==============================] - 5s 43ms/step - loss: 0.0695 - accuracy: 0.9822 - val_loss: 1.6795 - val_accuracy: 0.7851\n",
            "Epoch 25/150\n",
            "114/114 [==============================] - 5s 43ms/step - loss: 0.0371 - accuracy: 0.9932 - val_loss: 1.9735 - val_accuracy: 0.7917\n",
            "Epoch 26/150\n",
            "114/114 [==============================] - 5s 43ms/step - loss: 0.0567 - accuracy: 0.9887 - val_loss: 2.2394 - val_accuracy: 0.7738\n",
            "Epoch 27/150\n",
            "114/114 [==============================] - 5s 43ms/step - loss: 0.0205 - accuracy: 0.9955 - val_loss: 1.9136 - val_accuracy: 0.7922\n",
            "Epoch 28/150\n",
            "114/114 [==============================] - 5s 43ms/step - loss: 0.0438 - accuracy: 0.9974 - val_loss: 2.0570 - val_accuracy: 0.7948\n",
            "Epoch 29/150\n",
            "114/114 [==============================] - 5s 44ms/step - loss: 0.0057 - accuracy: 0.9990 - val_loss: 1.9285 - val_accuracy: 0.7799\n",
            "Epoch 30/150\n",
            "114/114 [==============================] - 5s 44ms/step - loss: 0.0246 - accuracy: 0.9968 - val_loss: 2.2016 - val_accuracy: 0.7876\n",
            "Epoch 31/150\n",
            "114/114 [==============================] - 5s 44ms/step - loss: 0.0118 - accuracy: 0.9972 - val_loss: 2.9461 - val_accuracy: 0.7897\n",
            "Epoch 32/150\n",
            "114/114 [==============================] - 5s 43ms/step - loss: 0.0125 - accuracy: 0.9976 - val_loss: 2.5783 - val_accuracy: 0.7881\n",
            "Epoch 33/150\n",
            "114/114 [==============================] - 5s 43ms/step - loss: 0.1202 - accuracy: 0.9943 - val_loss: 2.2443 - val_accuracy: 0.7871\n",
            "Epoch 34/150\n",
            "114/114 [==============================] - 5s 43ms/step - loss: 0.0655 - accuracy: 0.9941 - val_loss: 2.3844 - val_accuracy: 0.7886\n",
            "Epoch 35/150\n",
            "114/114 [==============================] - 5s 43ms/step - loss: 0.0297 - accuracy: 0.9942 - val_loss: 3.0242 - val_accuracy: 0.7641\n",
            "Epoch 36/150\n",
            "114/114 [==============================] - 5s 43ms/step - loss: 0.0107 - accuracy: 0.9972 - val_loss: 2.9130 - val_accuracy: 0.7124\n",
            "Epoch 37/150\n",
            "114/114 [==============================] - 5s 43ms/step - loss: 0.0146 - accuracy: 0.9945 - val_loss: 3.0641 - val_accuracy: 0.7733\n",
            "Epoch 38/150\n",
            "114/114 [==============================] - 5s 43ms/step - loss: 0.0330 - accuracy: 0.9922 - val_loss: 2.5712 - val_accuracy: 0.7794\n",
            "Epoch 39/150\n",
            "114/114 [==============================] - 5s 43ms/step - loss: 0.0111 - accuracy: 0.9973 - val_loss: 2.6110 - val_accuracy: 0.7810\n",
            "Epoch 40/150\n",
            "114/114 [==============================] - 5s 43ms/step - loss: 0.0334 - accuracy: 0.9956 - val_loss: 2.6286 - val_accuracy: 0.7871\n",
            "Epoch 41/150\n",
            "114/114 [==============================] - 5s 43ms/step - loss: 0.0100 - accuracy: 0.9982 - val_loss: 2.6734 - val_accuracy: 0.7605\n",
            "Epoch 42/150\n",
            "114/114 [==============================] - 5s 43ms/step - loss: 0.0095 - accuracy: 0.9966 - val_loss: 2.4838 - val_accuracy: 0.7851\n",
            "Epoch 43/150\n",
            "114/114 [==============================] - 5s 43ms/step - loss: 0.0061 - accuracy: 0.9983 - val_loss: 2.3119 - val_accuracy: 0.7758\n",
            "Epoch 44/150\n",
            "114/114 [==============================] - 5s 43ms/step - loss: 5.5212e-04 - accuracy: 1.0000 - val_loss: 3.5144 - val_accuracy: 0.7876\n",
            "Epoch 45/150\n",
            "114/114 [==============================] - 5s 43ms/step - loss: 0.0822 - accuracy: 0.9907 - val_loss: 2.3507 - val_accuracy: 0.7769\n",
            "Epoch 46/150\n",
            "114/114 [==============================] - 5s 43ms/step - loss: 0.0091 - accuracy: 0.9986 - val_loss: 3.3365 - val_accuracy: 0.7912\n",
            "Epoch 47/150\n",
            "114/114 [==============================] - 5s 43ms/step - loss: 0.0884 - accuracy: 0.9865 - val_loss: 3.1944 - val_accuracy: 0.7953\n",
            "Epoch 48/150\n",
            "114/114 [==============================] - 5s 43ms/step - loss: 0.0092 - accuracy: 0.9977 - val_loss: 2.4976 - val_accuracy: 0.7845\n",
            "Epoch 49/150\n",
            "114/114 [==============================] - 5s 43ms/step - loss: 0.0055 - accuracy: 0.9983 - val_loss: 3.0825 - val_accuracy: 0.7953\n",
            "Epoch 50/150\n",
            "114/114 [==============================] - 5s 44ms/step - loss: 0.0284 - accuracy: 0.9961 - val_loss: 3.2100 - val_accuracy: 0.7881\n",
            "Epoch 51/150\n",
            "114/114 [==============================] - 5s 43ms/step - loss: 0.0145 - accuracy: 0.9983 - val_loss: 2.6629 - val_accuracy: 0.7764\n",
            "Epoch 52/150\n",
            "114/114 [==============================] - 5s 43ms/step - loss: 0.0203 - accuracy: 0.9960 - val_loss: 3.5646 - val_accuracy: 0.7446\n",
            "Epoch 53/150\n",
            "114/114 [==============================] - 5s 43ms/step - loss: 0.0194 - accuracy: 0.9961 - val_loss: 3.4151 - val_accuracy: 0.7892\n",
            "Epoch 54/150\n",
            "114/114 [==============================] - 5s 43ms/step - loss: 0.0331 - accuracy: 0.9932 - val_loss: 3.3410 - val_accuracy: 0.7876\n",
            "Epoch 55/150\n",
            "114/114 [==============================] - 5s 43ms/step - loss: 0.0033 - accuracy: 0.9992 - val_loss: 3.4371 - val_accuracy: 0.7805\n",
            "Epoch 56/150\n",
            "114/114 [==============================] - 5s 43ms/step - loss: 0.0175 - accuracy: 0.9978 - val_loss: 3.8255 - val_accuracy: 0.7886\n",
            "Epoch 57/150\n",
            "114/114 [==============================] - 5s 43ms/step - loss: 0.0018 - accuracy: 0.9997 - val_loss: 3.2404 - val_accuracy: 0.7943\n",
            "Epoch 58/150\n",
            "114/114 [==============================] - 5s 43ms/step - loss: 0.0079 - accuracy: 0.9981 - val_loss: 2.9335 - val_accuracy: 0.7723\n",
            "Epoch 59/150\n",
            "114/114 [==============================] - 5s 43ms/step - loss: 0.0058 - accuracy: 0.9992 - val_loss: 3.1073 - val_accuracy: 0.7932\n",
            "Epoch 60/150\n",
            "114/114 [==============================] - 5s 43ms/step - loss: 1.1312e-04 - accuracy: 1.0000 - val_loss: 4.0192 - val_accuracy: 0.7902\n",
            "Epoch 61/150\n",
            "114/114 [==============================] - 5s 43ms/step - loss: 0.0267 - accuracy: 0.9954 - val_loss: 3.8928 - val_accuracy: 0.7687\n",
            "Epoch 62/150\n",
            "114/114 [==============================] - 5s 43ms/step - loss: 0.0300 - accuracy: 0.9953 - val_loss: 4.1353 - val_accuracy: 0.8009\n",
            "Epoch 63/150\n",
            "114/114 [==============================] - 5s 43ms/step - loss: 0.0085 - accuracy: 0.9982 - val_loss: 4.0640 - val_accuracy: 0.7938\n",
            "Epoch 64/150\n",
            "114/114 [==============================] - 5s 43ms/step - loss: 0.0136 - accuracy: 0.9989 - val_loss: 3.3137 - val_accuracy: 0.7774\n",
            "Epoch 65/150\n",
            "114/114 [==============================] - 5s 43ms/step - loss: 0.0044 - accuracy: 0.9993 - val_loss: 2.9247 - val_accuracy: 0.7871\n",
            "Epoch 66/150\n",
            "114/114 [==============================] - 5s 43ms/step - loss: 0.0042 - accuracy: 0.9991 - val_loss: 3.5669 - val_accuracy: 0.7932\n",
            "Epoch 67/150\n",
            "114/114 [==============================] - 5s 43ms/step - loss: 0.0435 - accuracy: 0.9935 - val_loss: 3.3501 - val_accuracy: 0.7902\n",
            "Epoch 68/150\n",
            "114/114 [==============================] - 5s 43ms/step - loss: 0.0088 - accuracy: 0.9991 - val_loss: 3.2152 - val_accuracy: 0.7938\n",
            "Epoch 69/150\n",
            "114/114 [==============================] - 5s 43ms/step - loss: 0.0047 - accuracy: 0.9996 - val_loss: 3.5411 - val_accuracy: 0.8004\n",
            "Epoch 70/150\n",
            "114/114 [==============================] - 5s 44ms/step - loss: 0.0040 - accuracy: 0.9996 - val_loss: 3.1149 - val_accuracy: 0.7948\n",
            "Epoch 71/150\n",
            "114/114 [==============================] - 5s 43ms/step - loss: 0.0023 - accuracy: 0.9996 - val_loss: 4.6159 - val_accuracy: 0.7820\n",
            "Epoch 72/150\n",
            "114/114 [==============================] - 5s 43ms/step - loss: 0.0417 - accuracy: 0.9947 - val_loss: 7.1194 - val_accuracy: 0.7554\n",
            "Epoch 73/150\n",
            "114/114 [==============================] - 5s 43ms/step - loss: 0.0333 - accuracy: 0.9944 - val_loss: 4.1673 - val_accuracy: 0.7753\n",
            "Epoch 74/150\n",
            "114/114 [==============================] - 5s 43ms/step - loss: 0.0295 - accuracy: 0.9965 - val_loss: 3.8786 - val_accuracy: 0.7917\n",
            "Epoch 75/150\n",
            "114/114 [==============================] - 5s 43ms/step - loss: 0.0076 - accuracy: 0.9988 - val_loss: 4.2353 - val_accuracy: 0.7815\n",
            "Epoch 76/150\n",
            "114/114 [==============================] - 5s 43ms/step - loss: 0.0078 - accuracy: 0.9991 - val_loss: 3.8454 - val_accuracy: 0.7799\n",
            "Epoch 77/150\n",
            "114/114 [==============================] - 5s 43ms/step - loss: 0.0291 - accuracy: 0.9973 - val_loss: 4.9031 - val_accuracy: 0.7886\n",
            "Epoch 78/150\n",
            "114/114 [==============================] - 5s 43ms/step - loss: 0.0055 - accuracy: 0.9986 - val_loss: 3.5738 - val_accuracy: 0.7769\n",
            "Epoch 79/150\n",
            "114/114 [==============================] - 5s 43ms/step - loss: 0.0818 - accuracy: 0.9938 - val_loss: 4.3190 - val_accuracy: 0.7994\n",
            "Epoch 80/150\n",
            "114/114 [==============================] - 5s 43ms/step - loss: 0.0033 - accuracy: 0.9996 - val_loss: 4.3748 - val_accuracy: 0.7963\n",
            "Epoch 81/150\n",
            "114/114 [==============================] - 5s 43ms/step - loss: 1.8263e-05 - accuracy: 1.0000 - val_loss: 4.7291 - val_accuracy: 0.7958\n",
            "Epoch 82/150\n",
            "114/114 [==============================] - 5s 43ms/step - loss: 0.0089 - accuracy: 0.9989 - val_loss: 5.8928 - val_accuracy: 0.7912\n",
            "Epoch 83/150\n",
            "114/114 [==============================] - 5s 43ms/step - loss: 0.0112 - accuracy: 0.9986 - val_loss: 4.6721 - val_accuracy: 0.7733\n",
            "Epoch 84/150\n",
            "114/114 [==============================] - 5s 43ms/step - loss: 0.0212 - accuracy: 0.9973 - val_loss: 5.9445 - val_accuracy: 0.7835\n",
            "Epoch 85/150\n",
            "114/114 [==============================] - 5s 43ms/step - loss: 0.0135 - accuracy: 0.9985 - val_loss: 4.9711 - val_accuracy: 0.7912\n",
            "Epoch 86/150\n",
            "114/114 [==============================] - 5s 43ms/step - loss: 1.7273e-05 - accuracy: 1.0000 - val_loss: 5.0728 - val_accuracy: 0.7963\n",
            "Epoch 87/150\n",
            "114/114 [==============================] - 5s 43ms/step - loss: 9.0149e-04 - accuracy: 0.9999 - val_loss: 8.5326 - val_accuracy: 0.7523\n",
            "Epoch 88/150\n",
            "114/114 [==============================] - 5s 43ms/step - loss: 0.0304 - accuracy: 0.9970 - val_loss: 5.0729 - val_accuracy: 0.7799\n",
            "Epoch 89/150\n",
            "114/114 [==============================] - 5s 43ms/step - loss: 0.0182 - accuracy: 0.9987 - val_loss: 5.6940 - val_accuracy: 0.7702\n",
            "Epoch 90/150\n",
            "114/114 [==============================] - 5s 43ms/step - loss: 0.0038 - accuracy: 0.9998 - val_loss: 5.0501 - val_accuracy: 0.7820\n",
            "Epoch 91/150\n",
            "114/114 [==============================] - 5s 43ms/step - loss: 1.0486e-04 - accuracy: 1.0000 - val_loss: 6.7743 - val_accuracy: 0.7835\n",
            "Epoch 92/150\n",
            "114/114 [==============================] - 5s 43ms/step - loss: 0.0135 - accuracy: 0.9976 - val_loss: 5.1636 - val_accuracy: 0.7907\n",
            "Epoch 93/150\n",
            "114/114 [==============================] - 5s 44ms/step - loss: 1.9430e-04 - accuracy: 0.9999 - val_loss: 6.0476 - val_accuracy: 0.7794\n",
            "Epoch 94/150\n",
            "114/114 [==============================] - 5s 43ms/step - loss: 0.0090 - accuracy: 0.9991 - val_loss: 6.5063 - val_accuracy: 0.7712\n",
            "Epoch 95/150\n",
            "114/114 [==============================] - 5s 43ms/step - loss: 0.0117 - accuracy: 0.9979 - val_loss: 4.7131 - val_accuracy: 0.7897\n",
            "Epoch 96/150\n",
            "114/114 [==============================] - 5s 43ms/step - loss: 2.1368e-06 - accuracy: 1.0000 - val_loss: 5.6238 - val_accuracy: 0.7856\n",
            "Epoch 97/150\n",
            "114/114 [==============================] - 5s 43ms/step - loss: 6.3242e-09 - accuracy: 1.0000 - val_loss: 5.5691 - val_accuracy: 0.7871\n",
            "Epoch 98/150\n",
            "114/114 [==============================] - 5s 43ms/step - loss: 0.0060 - accuracy: 0.9988 - val_loss: 4.5081 - val_accuracy: 0.7932\n",
            "Epoch 99/150\n",
            "114/114 [==============================] - 5s 43ms/step - loss: 0.0048 - accuracy: 0.9991 - val_loss: 5.5154 - val_accuracy: 0.7815\n",
            "Epoch 100/150\n",
            "114/114 [==============================] - 5s 43ms/step - loss: 0.0179 - accuracy: 0.9985 - val_loss: 5.1223 - val_accuracy: 0.7876\n",
            "Epoch 101/150\n",
            "114/114 [==============================] - 5s 43ms/step - loss: 0.0219 - accuracy: 0.9971 - val_loss: 5.9076 - val_accuracy: 0.7876\n",
            "Epoch 102/150\n",
            "114/114 [==============================] - 5s 43ms/step - loss: 0.0112 - accuracy: 0.9982 - val_loss: 6.5362 - val_accuracy: 0.7963\n",
            "Epoch 103/150\n",
            "114/114 [==============================] - 5s 43ms/step - loss: 2.4536e-06 - accuracy: 1.0000 - val_loss: 6.0653 - val_accuracy: 0.7805\n",
            "Epoch 104/150\n",
            "114/114 [==============================] - 5s 43ms/step - loss: 0.0281 - accuracy: 0.9983 - val_loss: 6.2987 - val_accuracy: 0.7835\n",
            "Epoch 105/150\n",
            "114/114 [==============================] - 5s 43ms/step - loss: 0.0010 - accuracy: 0.9997 - val_loss: 7.1277 - val_accuracy: 0.7805\n",
            "Epoch 106/150\n",
            "114/114 [==============================] - 5s 43ms/step - loss: 0.0112 - accuracy: 0.9989 - val_loss: 8.4242 - val_accuracy: 0.7784\n",
            "Epoch 107/150\n",
            "114/114 [==============================] - 5s 43ms/step - loss: 0.0272 - accuracy: 0.9981 - val_loss: 5.3118 - val_accuracy: 0.7712\n",
            "Epoch 108/150\n",
            "114/114 [==============================] - 5s 43ms/step - loss: 0.0040 - accuracy: 0.9993 - val_loss: 5.6450 - val_accuracy: 0.7825\n",
            "Epoch 109/150\n",
            "114/114 [==============================] - 5s 43ms/step - loss: 0.0045 - accuracy: 0.9992 - val_loss: 5.7749 - val_accuracy: 0.7871\n",
            "Epoch 110/150\n",
            "114/114 [==============================] - 5s 43ms/step - loss: 1.7979e-07 - accuracy: 1.0000 - val_loss: 5.9572 - val_accuracy: 0.7902\n",
            "Epoch 111/150\n",
            "114/114 [==============================] - 5s 43ms/step - loss: 4.1053e-09 - accuracy: 1.0000 - val_loss: 6.4084 - val_accuracy: 0.7871\n",
            "Epoch 112/150\n",
            "114/114 [==============================] - 5s 43ms/step - loss: 2.0103e-10 - accuracy: 1.0000 - val_loss: 6.5843 - val_accuracy: 0.7866\n",
            "Epoch 113/150\n",
            "114/114 [==============================] - 5s 43ms/step - loss: 1.0211e-10 - accuracy: 1.0000 - val_loss: 6.5014 - val_accuracy: 0.7876\n",
            "Epoch 114/150\n",
            "114/114 [==============================] - 5s 43ms/step - loss: 6.9510e-11 - accuracy: 1.0000 - val_loss: 6.5587 - val_accuracy: 0.7881\n",
            "Epoch 115/150\n",
            "114/114 [==============================] - 5s 43ms/step - loss: 9.7711e-11 - accuracy: 1.0000 - val_loss: 6.5575 - val_accuracy: 0.7922\n",
            "Epoch 116/150\n",
            "114/114 [==============================] - 5s 43ms/step - loss: 4.3764e-11 - accuracy: 1.0000 - val_loss: 6.5852 - val_accuracy: 0.7922\n",
            "Epoch 117/150\n",
            "114/114 [==============================] - 5s 43ms/step - loss: 5.2310e-11 - accuracy: 1.0000 - val_loss: 6.6056 - val_accuracy: 0.7917\n",
            "Epoch 118/150\n",
            "114/114 [==============================] - 5s 43ms/step - loss: 6.9131e-11 - accuracy: 1.0000 - val_loss: 6.6215 - val_accuracy: 0.7907\n",
            "Epoch 119/150\n",
            "114/114 [==============================] - 5s 43ms/step - loss: 6.7015e-11 - accuracy: 1.0000 - val_loss: 6.6352 - val_accuracy: 0.7907\n",
            "Epoch 120/150\n",
            "114/114 [==============================] - 5s 43ms/step - loss: 5.4624e-11 - accuracy: 1.0000 - val_loss: 6.5497 - val_accuracy: 0.7922\n",
            "Epoch 121/150\n",
            "114/114 [==============================] - 5s 43ms/step - loss: 7.0655e-11 - accuracy: 1.0000 - val_loss: 6.5772 - val_accuracy: 0.7912\n",
            "Epoch 122/150\n",
            "114/114 [==============================] - 5s 43ms/step - loss: 4.4310e-11 - accuracy: 1.0000 - val_loss: 6.6009 - val_accuracy: 0.7907\n",
            "Epoch 123/150\n",
            "114/114 [==============================] - 5s 43ms/step - loss: 5.5240e-11 - accuracy: 1.0000 - val_loss: 6.6157 - val_accuracy: 0.7886\n",
            "Epoch 124/150\n",
            "114/114 [==============================] - 5s 43ms/step - loss: 5.7511e-11 - accuracy: 1.0000 - val_loss: 6.6283 - val_accuracy: 0.7907\n",
            "Epoch 125/150\n",
            "114/114 [==============================] - 5s 43ms/step - loss: 6.2807e-11 - accuracy: 1.0000 - val_loss: 6.6393 - val_accuracy: 0.7907\n",
            "Epoch 126/150\n",
            "114/114 [==============================] - 5s 43ms/step - loss: 3.4985e-11 - accuracy: 1.0000 - val_loss: 6.6883 - val_accuracy: 0.7886\n",
            "Epoch 127/150\n",
            "114/114 [==============================] - 5s 43ms/step - loss: 4.3639e-11 - accuracy: 1.0000 - val_loss: 6.6998 - val_accuracy: 0.7902\n",
            "Epoch 128/150\n",
            "114/114 [==============================] - 5s 43ms/step - loss: 5.4647e-11 - accuracy: 1.0000 - val_loss: 6.7089 - val_accuracy: 0.7917\n",
            "Epoch 129/150\n",
            "114/114 [==============================] - 5s 43ms/step - loss: 3.3858e-11 - accuracy: 1.0000 - val_loss: 6.7168 - val_accuracy: 0.7912\n",
            "Epoch 130/150\n",
            "114/114 [==============================] - 5s 43ms/step - loss: 3.3027e-11 - accuracy: 1.0000 - val_loss: 6.7243 - val_accuracy: 0.7907\n",
            "Epoch 131/150\n",
            "114/114 [==============================] - 5s 43ms/step - loss: 5.0003e-11 - accuracy: 1.0000 - val_loss: 6.7313 - val_accuracy: 0.7902\n",
            "Epoch 132/150\n",
            "114/114 [==============================] - 5s 43ms/step - loss: 7.2946e-11 - accuracy: 1.0000 - val_loss: 6.7376 - val_accuracy: 0.7897\n",
            "Epoch 133/150\n",
            "114/114 [==============================] - 5s 43ms/step - loss: 3.0499e-11 - accuracy: 1.0000 - val_loss: 6.7434 - val_accuracy: 0.7897\n",
            "Epoch 134/150\n",
            "114/114 [==============================] - 5s 43ms/step - loss: 3.7264e-11 - accuracy: 1.0000 - val_loss: 6.4302 - val_accuracy: 0.7902\n",
            "Epoch 135/150\n",
            "114/114 [==============================] - 5s 43ms/step - loss: 6.7744e-11 - accuracy: 1.0000 - val_loss: 6.6454 - val_accuracy: 0.7932\n",
            "Epoch 136/150\n",
            "114/114 [==============================] - 5s 43ms/step - loss: 4.3287e-11 - accuracy: 1.0000 - val_loss: 6.6602 - val_accuracy: 0.7932\n",
            "Epoch 137/150\n",
            "114/114 [==============================] - 5s 44ms/step - loss: 3.3807e-11 - accuracy: 1.0000 - val_loss: 6.6725 - val_accuracy: 0.7938\n",
            "Epoch 138/150\n",
            "114/114 [==============================] - 5s 43ms/step - loss: 3.6583e-11 - accuracy: 1.0000 - val_loss: 6.6825 - val_accuracy: 0.7938\n",
            "Epoch 139/150\n",
            "114/114 [==============================] - 5s 43ms/step - loss: 3.1343e-11 - accuracy: 1.0000 - val_loss: 6.6913 - val_accuracy: 0.7943\n",
            "Epoch 140/150\n",
            "114/114 [==============================] - 5s 43ms/step - loss: 3.9446e-11 - accuracy: 1.0000 - val_loss: 6.6992 - val_accuracy: 0.7932\n",
            "Epoch 141/150\n",
            "114/114 [==============================] - 5s 43ms/step - loss: 2.1800e-11 - accuracy: 1.0000 - val_loss: 6.7063 - val_accuracy: 0.7932\n",
            "Epoch 142/150\n",
            "114/114 [==============================] - 5s 43ms/step - loss: 2.8875e-11 - accuracy: 1.0000 - val_loss: 6.7128 - val_accuracy: 0.7927\n",
            "Epoch 143/150\n",
            "114/114 [==============================] - 5s 43ms/step - loss: 3.2251e-11 - accuracy: 1.0000 - val_loss: 6.7192 - val_accuracy: 0.7927\n",
            "Epoch 144/150\n",
            "114/114 [==============================] - 5s 43ms/step - loss: 4.3585e-11 - accuracy: 1.0000 - val_loss: 6.7251 - val_accuracy: 0.7922\n",
            "Epoch 145/150\n",
            "114/114 [==============================] - 5s 43ms/step - loss: 6.0555e-11 - accuracy: 1.0000 - val_loss: 6.7306 - val_accuracy: 0.7917\n",
            "Epoch 146/150\n",
            "114/114 [==============================] - 5s 43ms/step - loss: 5.1482e-11 - accuracy: 1.0000 - val_loss: 6.7358 - val_accuracy: 0.7912\n",
            "Epoch 147/150\n",
            "114/114 [==============================] - 5s 43ms/step - loss: 3.3138e-11 - accuracy: 1.0000 - val_loss: 6.7412 - val_accuracy: 0.7912\n",
            "Epoch 148/150\n",
            "114/114 [==============================] - 5s 43ms/step - loss: 5.0365e-11 - accuracy: 1.0000 - val_loss: 6.7471 - val_accuracy: 0.7912\n",
            "Epoch 149/150\n",
            "114/114 [==============================] - 5s 43ms/step - loss: 4.3316e-11 - accuracy: 1.0000 - val_loss: 6.7519 - val_accuracy: 0.7912\n",
            "Epoch 150/150\n",
            "114/114 [==============================] - 5s 43ms/step - loss: 6.1131e-11 - accuracy: 1.0000 - val_loss: 6.7567 - val_accuracy: 0.7912\n"
          ],
          "name": "stdout"
        }
      ]
    },
    {
      "cell_type": "code",
      "metadata": {
        "id": "XtvWMpQa5He5",
        "colab": {
          "base_uri": "https://localhost:8080/",
          "height": 308
        },
        "outputId": "3807723a-9e17-4915-8a7f-be5578cfa3cc"
      },
      "source": [
        "f, (ax1, ax2) = plt.subplots(1, 2, figsize=(12, 4))\r\n",
        "t = f.suptitle('Basic CNN Performance', fontsize=12)\r\n",
        "f.subplots_adjust(top=0.85, wspace=0.3)\r\n",
        "\r\n",
        "epoch_list = list(range(1,151))\r\n",
        "ax1.plot(epoch_list, history.history['accuracy'], label='Train Accuracy')\r\n",
        "ax1.plot(epoch_list, history.history['val_accuracy'], label='Validation Accuracy')\r\n",
        "ax1.set_xticks(np.arange(0, 151, 5))\r\n",
        "ax1.set_ylabel('Accuracy Value')\r\n",
        "ax1.set_xlabel('Epoch')\r\n",
        "ax1.set_title('Accuracy')\r\n",
        "l1 = ax1.legend(loc=\"best\")\r\n",
        "\r\n",
        "ax2.plot(epoch_list, history.history['loss'], label='Train Loss')\r\n",
        "ax2.plot(epoch_list, history.history['val_loss'], label='Validation Loss')\r\n",
        "ax2.set_xticks(np.arange(0, 151, 5))\r\n",
        "ax2.set_ylabel('Loss Value')\r\n",
        "ax2.set_xlabel('Epoch')\r\n",
        "ax2.set_title('Loss')\r\n",
        "l2 = ax2.legend(loc=\"best\")"
      ],
      "execution_count": null,
      "outputs": [
        {
          "output_type": "display_data",
          "data": {
            "image/png": "[encoded data removed]",
            "text/plain": [
              "<Figure size 864x288 with 2 Axes>"
            ]
          },
          "metadata": {
            "tags": [],
            "needs_background": "light"
          }
        }
      ]
    },
    {
      "cell_type": "code",
      "metadata": {
        "id": "3vutvleC5LcR"
      },
      "source": [
        "model.save('1-basic_cnn.h5')"
      ],
      "execution_count": null,
      "outputs": []
    }
  ]
}